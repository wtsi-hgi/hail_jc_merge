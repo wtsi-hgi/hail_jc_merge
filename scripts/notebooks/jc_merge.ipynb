{
 "cells": [
  {
   "cell_type": "code",
   "execution_count": 2,
   "id": "1ea07908",
   "metadata": {},
   "outputs": [
    {
     "name": "stderr",
     "output_type": "stream",
     "text": [
      "pip-installed Hail requires additional configuration options in Spark referring\n",
      "  to the path to the Hail Python module directory HAIL_DIR,\n",
      "  e.g. /path/to/python/site-packages/hail:\n",
      "    spark.jars=HAIL_DIR/hail-all-spark.jar\n",
      "    spark.driver.extraClassPath=HAIL_DIR/hail-all-spark.jar\n",
      "    spark.executor.extraClassPath=./hail-all-spark.jarRunning on Apache Spark version 2.4.7\n",
      "SparkUI available at http://spark-master:4040\n",
      "Welcome to\n",
      "     __  __     <>__\n",
      "    / /_/ /__  __/ /\n",
      "   / __  / _ `/ / /\n",
      "  /_/ /_/\\_,_/_/_/   version 0.2.62-84fa81b9ea3d\n",
      "LOGGING: writing to /home/ubuntu/data/scripts/hail-20211105-1046-0.2.62-84fa81b9ea3d.log\n"
     ]
    },
    {
     "data": {
      "text/html": [
       "\n",
       "    <div class=\"bk-root\">\n",
       "        <a href=\"https://bokeh.org\" target=\"_blank\" class=\"bk-logo bk-logo-small bk-logo-notebook\"></a>\n",
       "        <span id=\"1001\">Loading BokehJS ...</span>\n",
       "    </div>"
      ]
     },
     "metadata": {},
     "output_type": "display_data"
    },
    {
     "data": {
      "application/javascript": [
       "\n",
       "(function(root) {\n",
       "  function now() {\n",
       "    return new Date();\n",
       "  }\n",
       "\n",
       "  var force = true;\n",
       "\n",
       "  if (typeof root._bokeh_onload_callbacks === \"undefined\" || force === true) {\n",
       "    root._bokeh_onload_callbacks = [];\n",
       "    root._bokeh_is_loading = undefined;\n",
       "  }\n",
       "\n",
       "  var JS_MIME_TYPE = 'application/javascript';\n",
       "  var HTML_MIME_TYPE = 'text/html';\n",
       "  var EXEC_MIME_TYPE = 'application/vnd.bokehjs_exec.v0+json';\n",
       "  var CLASS_NAME = 'output_bokeh rendered_html';\n",
       "\n",
       "  /**\n",
       "   * Render data to the DOM node\n",
       "   */\n",
       "  function render(props, node) {\n",
       "    var script = document.createElement(\"script\");\n",
       "    node.appendChild(script);\n",
       "  }\n",
       "\n",
       "  /**\n",
       "   * Handle when an output is cleared or removed\n",
       "   */\n",
       "  function handleClearOutput(event, handle) {\n",
       "    var cell = handle.cell;\n",
       "\n",
       "    var id = cell.output_area._bokeh_element_id;\n",
       "    var server_id = cell.output_area._bokeh_server_id;\n",
       "    // Clean up Bokeh references\n",
       "    if (id != null && id in Bokeh.index) {\n",
       "      Bokeh.index[id].model.document.clear();\n",
       "      delete Bokeh.index[id];\n",
       "    }\n",
       "\n",
       "    if (server_id !== undefined) {\n",
       "      // Clean up Bokeh references\n",
       "      var cmd = \"from bokeh.io.state import curstate; print(curstate().uuid_to_server['\" + server_id + \"'].get_sessions()[0].document.roots[0]._id)\";\n",
       "      cell.notebook.kernel.execute(cmd, {\n",
       "        iopub: {\n",
       "          output: function(msg) {\n",
       "            var id = msg.content.text.trim();\n",
       "            if (id in Bokeh.index) {\n",
       "              Bokeh.index[id].model.document.clear();\n",
       "              delete Bokeh.index[id];\n",
       "            }\n",
       "          }\n",
       "        }\n",
       "      });\n",
       "      // Destroy server and session\n",
       "      var cmd = \"import bokeh.io.notebook as ion; ion.destroy_server('\" + server_id + \"')\";\n",
       "      cell.notebook.kernel.execute(cmd);\n",
       "    }\n",
       "  }\n",
       "\n",
       "  /**\n",
       "   * Handle when a new output is added\n",
       "   */\n",
       "  function handleAddOutput(event, handle) {\n",
       "    var output_area = handle.output_area;\n",
       "    var output = handle.output;\n",
       "\n",
       "    // limit handleAddOutput to display_data with EXEC_MIME_TYPE content only\n",
       "    if ((output.output_type != \"display_data\") || (!output.data.hasOwnProperty(EXEC_MIME_TYPE))) {\n",
       "      return\n",
       "    }\n",
       "\n",
       "    var toinsert = output_area.element.find(\".\" + CLASS_NAME.split(' ')[0]);\n",
       "\n",
       "    if (output.metadata[EXEC_MIME_TYPE][\"id\"] !== undefined) {\n",
       "      toinsert[toinsert.length - 1].firstChild.textContent = output.data[JS_MIME_TYPE];\n",
       "      // store reference to embed id on output_area\n",
       "      output_area._bokeh_element_id = output.metadata[EXEC_MIME_TYPE][\"id\"];\n",
       "    }\n",
       "    if (output.metadata[EXEC_MIME_TYPE][\"server_id\"] !== undefined) {\n",
       "      var bk_div = document.createElement(\"div\");\n",
       "      bk_div.innerHTML = output.data[HTML_MIME_TYPE];\n",
       "      var script_attrs = bk_div.children[0].attributes;\n",
       "      for (var i = 0; i < script_attrs.length; i++) {\n",
       "        toinsert[toinsert.length - 1].firstChild.setAttribute(script_attrs[i].name, script_attrs[i].value);\n",
       "      }\n",
       "      // store reference to server id on output_area\n",
       "      output_area._bokeh_server_id = output.metadata[EXEC_MIME_TYPE][\"server_id\"];\n",
       "    }\n",
       "  }\n",
       "\n",
       "  function register_renderer(events, OutputArea) {\n",
       "\n",
       "    function append_mime(data, metadata, element) {\n",
       "      // create a DOM node to render to\n",
       "      var toinsert = this.create_output_subarea(\n",
       "        metadata,\n",
       "        CLASS_NAME,\n",
       "        EXEC_MIME_TYPE\n",
       "      );\n",
       "      this.keyboard_manager.register_events(toinsert);\n",
       "      // Render to node\n",
       "      var props = {data: data, metadata: metadata[EXEC_MIME_TYPE]};\n",
       "      render(props, toinsert[toinsert.length - 1]);\n",
       "      element.append(toinsert);\n",
       "      return toinsert\n",
       "    }\n",
       "\n",
       "    /* Handle when an output is cleared or removed */\n",
       "    events.on('clear_output.CodeCell', handleClearOutput);\n",
       "    events.on('delete.Cell', handleClearOutput);\n",
       "\n",
       "    /* Handle when a new output is added */\n",
       "    events.on('output_added.OutputArea', handleAddOutput);\n",
       "\n",
       "    /**\n",
       "     * Register the mime type and append_mime function with output_area\n",
       "     */\n",
       "    OutputArea.prototype.register_mime_type(EXEC_MIME_TYPE, append_mime, {\n",
       "      /* Is output safe? */\n",
       "      safe: true,\n",
       "      /* Index of renderer in `output_area.display_order` */\n",
       "      index: 0\n",
       "    });\n",
       "  }\n",
       "\n",
       "  // register the mime type if in Jupyter Notebook environment and previously unregistered\n",
       "  if (root.Jupyter !== undefined) {\n",
       "    var events = require('base/js/events');\n",
       "    var OutputArea = require('notebook/js/outputarea').OutputArea;\n",
       "\n",
       "    if (OutputArea.prototype.mime_types().indexOf(EXEC_MIME_TYPE) == -1) {\n",
       "      register_renderer(events, OutputArea);\n",
       "    }\n",
       "  }\n",
       "\n",
       "  \n",
       "  if (typeof (root._bokeh_timeout) === \"undefined\" || force === true) {\n",
       "    root._bokeh_timeout = Date.now() + 5000;\n",
       "    root._bokeh_failed_load = false;\n",
       "  }\n",
       "\n",
       "  var NB_LOAD_WARNING = {'data': {'text/html':\n",
       "     \"<div style='background-color: #fdd'>\\n\"+\n",
       "     \"<p>\\n\"+\n",
       "     \"BokehJS does not appear to have successfully loaded. If loading BokehJS from CDN, this \\n\"+\n",
       "     \"may be due to a slow or bad network connection. Possible fixes:\\n\"+\n",
       "     \"</p>\\n\"+\n",
       "     \"<ul>\\n\"+\n",
       "     \"<li>re-rerun `output_notebook()` to attempt to load from CDN again, or</li>\\n\"+\n",
       "     \"<li>use INLINE resources instead, as so:</li>\\n\"+\n",
       "     \"</ul>\\n\"+\n",
       "     \"<code>\\n\"+\n",
       "     \"from bokeh.resources import INLINE\\n\"+\n",
       "     \"output_notebook(resources=INLINE)\\n\"+\n",
       "     \"</code>\\n\"+\n",
       "     \"</div>\"}};\n",
       "\n",
       "  function display_loaded() {\n",
       "    var el = document.getElementById(\"1001\");\n",
       "    if (el != null) {\n",
       "      el.textContent = \"BokehJS is loading...\";\n",
       "    }\n",
       "    if (root.Bokeh !== undefined) {\n",
       "      if (el != null) {\n",
       "        el.textContent = \"BokehJS \" + root.Bokeh.version + \" successfully loaded.\";\n",
       "      }\n",
       "    } else if (Date.now() < root._bokeh_timeout) {\n",
       "      setTimeout(display_loaded, 100)\n",
       "    }\n",
       "  }\n",
       "\n",
       "\n",
       "  function run_callbacks() {\n",
       "    try {\n",
       "      root._bokeh_onload_callbacks.forEach(function(callback) {\n",
       "        if (callback != null)\n",
       "          callback();\n",
       "      });\n",
       "    } finally {\n",
       "      delete root._bokeh_onload_callbacks\n",
       "    }\n",
       "    console.debug(\"Bokeh: all callbacks have finished\");\n",
       "  }\n",
       "\n",
       "  function load_libs(css_urls, js_urls, callback) {\n",
       "    if (css_urls == null) css_urls = [];\n",
       "    if (js_urls == null) js_urls = [];\n",
       "\n",
       "    root._bokeh_onload_callbacks.push(callback);\n",
       "    if (root._bokeh_is_loading > 0) {\n",
       "      console.debug(\"Bokeh: BokehJS is being loaded, scheduling callback at\", now());\n",
       "      return null;\n",
       "    }\n",
       "    if (js_urls == null || js_urls.length === 0) {\n",
       "      run_callbacks();\n",
       "      return null;\n",
       "    }\n",
       "    console.debug(\"Bokeh: BokehJS not loaded, scheduling load and callback at\", now());\n",
       "    root._bokeh_is_loading = css_urls.length + js_urls.length;\n",
       "\n",
       "    function on_load() {\n",
       "      root._bokeh_is_loading--;\n",
       "      if (root._bokeh_is_loading === 0) {\n",
       "        console.debug(\"Bokeh: all BokehJS libraries/stylesheets loaded\");\n",
       "        run_callbacks()\n",
       "      }\n",
       "    }\n",
       "\n",
       "    function on_error() {\n",
       "      console.error(\"failed to load \" + url);\n",
       "    }\n",
       "\n",
       "    for (var i = 0; i < css_urls.length; i++) {\n",
       "      var url = css_urls[i];\n",
       "      const element = document.createElement(\"link\");\n",
       "      element.onload = on_load;\n",
       "      element.onerror = on_error;\n",
       "      element.rel = \"stylesheet\";\n",
       "      element.type = \"text/css\";\n",
       "      element.href = url;\n",
       "      console.debug(\"Bokeh: injecting link tag for BokehJS stylesheet: \", url);\n",
       "      document.body.appendChild(element);\n",
       "    }\n",
       "\n",
       "    for (var i = 0; i < js_urls.length; i++) {\n",
       "      var url = js_urls[i];\n",
       "      var element = document.createElement('script');\n",
       "      element.onload = on_load;\n",
       "      element.onerror = on_error;\n",
       "      element.async = false;\n",
       "      element.src = url;\n",
       "      console.debug(\"Bokeh: injecting script tag for BokehJS library: \", url);\n",
       "      document.head.appendChild(element);\n",
       "    }\n",
       "  };var element = document.getElementById(\"1001\");\n",
       "  if (element == null) {\n",
       "    console.error(\"Bokeh: ERROR: autoload.js configured with elementid '1001' but no matching script tag was found. \")\n",
       "    return false;\n",
       "  }\n",
       "\n",
       "  function inject_raw_css(css) {\n",
       "    const element = document.createElement(\"style\");\n",
       "    element.appendChild(document.createTextNode(css));\n",
       "    document.body.appendChild(element);\n",
       "  }\n",
       "\n",
       "  \n",
       "  var js_urls = [\"https://cdn.pydata.org/bokeh/release/bokeh-1.4.0.min.js\", \"https://cdn.pydata.org/bokeh/release/bokeh-widgets-1.4.0.min.js\", \"https://cdn.pydata.org/bokeh/release/bokeh-tables-1.4.0.min.js\", \"https://cdn.pydata.org/bokeh/release/bokeh-gl-1.4.0.min.js\"];\n",
       "  var css_urls = [];\n",
       "  \n",
       "\n",
       "  var inline_js = [\n",
       "    function(Bokeh) {\n",
       "      Bokeh.set_log_level(\"info\");\n",
       "    },\n",
       "    function(Bokeh) {\n",
       "    \n",
       "    \n",
       "    }\n",
       "  ];\n",
       "\n",
       "  function run_inline_js() {\n",
       "    \n",
       "    if (root.Bokeh !== undefined || force === true) {\n",
       "      \n",
       "    for (var i = 0; i < inline_js.length; i++) {\n",
       "      inline_js[i].call(root, root.Bokeh);\n",
       "    }\n",
       "    if (force === true) {\n",
       "        display_loaded();\n",
       "      }} else if (Date.now() < root._bokeh_timeout) {\n",
       "      setTimeout(run_inline_js, 100);\n",
       "    } else if (!root._bokeh_failed_load) {\n",
       "      console.log(\"Bokeh: BokehJS failed to load within specified timeout.\");\n",
       "      root._bokeh_failed_load = true;\n",
       "    } else if (force !== true) {\n",
       "      var cell = $(document.getElementById(\"1001\")).parents('.cell').data().cell;\n",
       "      cell.output_area.append_execute_result(NB_LOAD_WARNING)\n",
       "    }\n",
       "\n",
       "  }\n",
       "\n",
       "  if (root._bokeh_is_loading === 0) {\n",
       "    console.debug(\"Bokeh: BokehJS loaded, going straight to plotting\");\n",
       "    run_inline_js();\n",
       "  } else {\n",
       "    load_libs(css_urls, js_urls, function() {\n",
       "      console.debug(\"Bokeh: BokehJS plotting callback run at\", now());\n",
       "      run_inline_js();\n",
       "    });\n",
       "  }\n",
       "}(window));"
      ],
      "application/vnd.bokehjs_load.v0+json": "\n(function(root) {\n  function now() {\n    return new Date();\n  }\n\n  var force = true;\n\n  if (typeof root._bokeh_onload_callbacks === \"undefined\" || force === true) {\n    root._bokeh_onload_callbacks = [];\n    root._bokeh_is_loading = undefined;\n  }\n\n  \n\n  \n  if (typeof (root._bokeh_timeout) === \"undefined\" || force === true) {\n    root._bokeh_timeout = Date.now() + 5000;\n    root._bokeh_failed_load = false;\n  }\n\n  var NB_LOAD_WARNING = {'data': {'text/html':\n     \"<div style='background-color: #fdd'>\\n\"+\n     \"<p>\\n\"+\n     \"BokehJS does not appear to have successfully loaded. If loading BokehJS from CDN, this \\n\"+\n     \"may be due to a slow or bad network connection. Possible fixes:\\n\"+\n     \"</p>\\n\"+\n     \"<ul>\\n\"+\n     \"<li>re-rerun `output_notebook()` to attempt to load from CDN again, or</li>\\n\"+\n     \"<li>use INLINE resources instead, as so:</li>\\n\"+\n     \"</ul>\\n\"+\n     \"<code>\\n\"+\n     \"from bokeh.resources import INLINE\\n\"+\n     \"output_notebook(resources=INLINE)\\n\"+\n     \"</code>\\n\"+\n     \"</div>\"}};\n\n  function display_loaded() {\n    var el = document.getElementById(\"1001\");\n    if (el != null) {\n      el.textContent = \"BokehJS is loading...\";\n    }\n    if (root.Bokeh !== undefined) {\n      if (el != null) {\n        el.textContent = \"BokehJS \" + root.Bokeh.version + \" successfully loaded.\";\n      }\n    } else if (Date.now() < root._bokeh_timeout) {\n      setTimeout(display_loaded, 100)\n    }\n  }\n\n\n  function run_callbacks() {\n    try {\n      root._bokeh_onload_callbacks.forEach(function(callback) {\n        if (callback != null)\n          callback();\n      });\n    } finally {\n      delete root._bokeh_onload_callbacks\n    }\n    console.debug(\"Bokeh: all callbacks have finished\");\n  }\n\n  function load_libs(css_urls, js_urls, callback) {\n    if (css_urls == null) css_urls = [];\n    if (js_urls == null) js_urls = [];\n\n    root._bokeh_onload_callbacks.push(callback);\n    if (root._bokeh_is_loading > 0) {\n      console.debug(\"Bokeh: BokehJS is being loaded, scheduling callback at\", now());\n      return null;\n    }\n    if (js_urls == null || js_urls.length === 0) {\n      run_callbacks();\n      return null;\n    }\n    console.debug(\"Bokeh: BokehJS not loaded, scheduling load and callback at\", now());\n    root._bokeh_is_loading = css_urls.length + js_urls.length;\n\n    function on_load() {\n      root._bokeh_is_loading--;\n      if (root._bokeh_is_loading === 0) {\n        console.debug(\"Bokeh: all BokehJS libraries/stylesheets loaded\");\n        run_callbacks()\n      }\n    }\n\n    function on_error() {\n      console.error(\"failed to load \" + url);\n    }\n\n    for (var i = 0; i < css_urls.length; i++) {\n      var url = css_urls[i];\n      const element = document.createElement(\"link\");\n      element.onload = on_load;\n      element.onerror = on_error;\n      element.rel = \"stylesheet\";\n      element.type = \"text/css\";\n      element.href = url;\n      console.debug(\"Bokeh: injecting link tag for BokehJS stylesheet: \", url);\n      document.body.appendChild(element);\n    }\n\n    for (var i = 0; i < js_urls.length; i++) {\n      var url = js_urls[i];\n      var element = document.createElement('script');\n      element.onload = on_load;\n      element.onerror = on_error;\n      element.async = false;\n      element.src = url;\n      console.debug(\"Bokeh: injecting script tag for BokehJS library: \", url);\n      document.head.appendChild(element);\n    }\n  };var element = document.getElementById(\"1001\");\n  if (element == null) {\n    console.error(\"Bokeh: ERROR: autoload.js configured with elementid '1001' but no matching script tag was found. \")\n    return false;\n  }\n\n  function inject_raw_css(css) {\n    const element = document.createElement(\"style\");\n    element.appendChild(document.createTextNode(css));\n    document.body.appendChild(element);\n  }\n\n  \n  var js_urls = [\"https://cdn.pydata.org/bokeh/release/bokeh-1.4.0.min.js\", \"https://cdn.pydata.org/bokeh/release/bokeh-widgets-1.4.0.min.js\", \"https://cdn.pydata.org/bokeh/release/bokeh-tables-1.4.0.min.js\", \"https://cdn.pydata.org/bokeh/release/bokeh-gl-1.4.0.min.js\"];\n  var css_urls = [];\n  \n\n  var inline_js = [\n    function(Bokeh) {\n      Bokeh.set_log_level(\"info\");\n    },\n    function(Bokeh) {\n    \n    \n    }\n  ];\n\n  function run_inline_js() {\n    \n    if (root.Bokeh !== undefined || force === true) {\n      \n    for (var i = 0; i < inline_js.length; i++) {\n      inline_js[i].call(root, root.Bokeh);\n    }\n    if (force === true) {\n        display_loaded();\n      }} else if (Date.now() < root._bokeh_timeout) {\n      setTimeout(run_inline_js, 100);\n    } else if (!root._bokeh_failed_load) {\n      console.log(\"Bokeh: BokehJS failed to load within specified timeout.\");\n      root._bokeh_failed_load = true;\n    } else if (force !== true) {\n      var cell = $(document.getElementById(\"1001\")).parents('.cell').data().cell;\n      cell.output_area.append_execute_result(NB_LOAD_WARNING)\n    }\n\n  }\n\n  if (root._bokeh_is_loading === 0) {\n    console.debug(\"Bokeh: BokehJS loaded, going straight to plotting\");\n    run_inline_js();\n  } else {\n    load_libs(css_urls, js_urls, function() {\n      console.debug(\"Bokeh: BokehJS plotting callback run at\", now());\n      run_inline_js();\n    });\n  }\n}(window));"
     },
     "metadata": {},
     "output_type": "display_data"
    }
   ],
   "source": [
    "from hail import Table\n",
    "import os\n",
    "import pprint\n",
    "from pprint import pformat\n",
    "import argparse\n",
    "import hail as hlh\n",
    "import pandas as pd\n",
    "import numpy as np\n",
    "import pyspark\n",
    "from pprint import pformat\n",
    "import json\n",
    "import sys\n",
    "import re\n",
    "from pathlib import Path\n",
    "import logging\n",
    "from typing import Any, Counter, List, Optional, Tuple, Union, Dict,Set\n",
    "import uuid\n",
    "import json\n",
    "from matplotlib import pyplot as plt\n",
    "from typing import Any, Counter, List, Optional, Tuple, Union,Dict,Set\n",
    "from hail.plot import show, output_notebook\n",
    "from gnomad.utils.plotting import *\n",
    "from typing import Set, Tuple\n",
    "from bokeh.palettes import d3  # pylint: disable=no-name-in-module\n",
    "from bokeh.models import Plot, Row, Span, NumeralTickFormatter, LabelSet\n",
    "import warnings; \n",
    "warnings.simplefilter('ignore')\n",
    "tmp_dir = \"hdfs://spark-master:9820/\"\n",
    "temp_dir = \"file:///home/ubuntu/data/tmp\"\n",
    "#plot_dir = \"/home/ubuntu/data/tmp\"\n",
    "plot_dir=\"/lustre/scratch123/teams/hgi/mercury/megaWES-variantqc\"\n",
    "lustre_dir = \"file:///lustre/scratch123/mdt1/projects/wes_jc_ukb_ibd/hail_merge\"\n",
    "import_lustre_dir=\"file:/lustre/scratch123/mdt1/projects/wes_jc_ukb_ibd/hail_merge\"\n",
    "sc = pyspark.SparkContext()\n",
    "hadoop_config = sc._jsc.hadoopConfiguration()\n",
    "hadoop_config.set(\"fs.s3a.access.key\", \"8YY584J59H7Q6AVKHSU8\")\n",
    "hadoop_config.set(\"fs.s3a.secret.key\", \"P8vePa7JUvxKXX2me9ti1cGujgYWMoimAwx4mMlM\")\n",
    "hadoop_config.set(\"fs.gs.impl\", \"com.google.cloud.hadoop.fs.gcs.GoogleHadoopFileSystem\")\n",
    "hadoop_config.set(\"fs.AbstractFileSystem.gs.impl\", \"com.google.cloud.hadoop.fs.gcs.GoogleHadoopFS\")\n",
    "hl.init(sc=sc, tmp_dir=lustre_dir, local_tmpdir=lustre_dir, default_reference=\"GRCh38\")\n",
    "output_notebook()"
   ]
  },
  {
   "cell_type": "code",
   "execution_count": null,
   "id": "fae5e990",
   "metadata": {},
   "outputs": [],
   "source": []
  },
  {
   "cell_type": "code",
   "execution_count": 6,
   "id": "d7083b4d",
   "metadata": {},
   "outputs": [
    {
     "name": "stdout",
     "output_type": "stream",
     "text": [
      "Reading vcf filenames\n",
      "['file:/lustre/scratch123/mdt1/projects/wes_jc_ukb_ibd/hail_merge/ukbb_757.vcf.gz', 'file:/lustre/scratch123/mdt1/projects/wes_jc_ukb_ibd/hail_merge/ukbb_939.vcf.gz', 'file:/lustre/scratch123/mdt1/projects/wes_jc_ukb_ibd/hail_merge/ukbb_704.vcf.gz', 'file:/lustre/scratch123/mdt1/projects/wes_jc_ukb_ibd/hail_merge/ukbb_782.vcf.gz', 'file:/lustre/scratch123/mdt1/projects/wes_jc_ukb_ibd/hail_merge/ukbb_192.vcf.gz', 'file:/lustre/scratch123/mdt1/projects/wes_jc_ukb_ibd/hail_merge/ukbb_894.vcf.gz', 'file:/lustre/scratch123/mdt1/projects/wes_jc_ukb_ibd/hail_merge/ukbb_190.vcf.gz', 'file:/lustre/scratch123/mdt1/projects/wes_jc_ukb_ibd/hail_merge/ukbb_354.vcf.gz', 'file:/lustre/scratch123/mdt1/projects/wes_jc_ukb_ibd/hail_merge/ukbb_866.vcf.gz', 'file:/lustre/scratch123/mdt1/projects/wes_jc_ukb_ibd/hail_merge/ukbb_961.vcf.gz', 'file:/lustre/scratch123/mdt1/projects/wes_jc_ukb_ibd/hail_merge/ukbb_936.vcf.gz', 'file:/lustre/scratch123/mdt1/projects/wes_jc_ukb_ibd/hail_merge/ukbb_703.vcf.gz', 'file:/lustre/scratch123/mdt1/projects/wes_jc_ukb_ibd/hail_merge/ukbb_461.vcf.gz', 'file:/lustre/scratch123/mdt1/projects/wes_jc_ukb_ibd/hail_merge/ukbb_533.vcf.gz', 'file:/lustre/scratch123/mdt1/projects/wes_jc_ukb_ibd/hail_merge/ukbb_52.vcf.gz', 'file:/lustre/scratch123/mdt1/projects/wes_jc_ukb_ibd/hail_merge/ukbb_356.vcf.gz', 'file:/lustre/scratch123/mdt1/projects/wes_jc_ukb_ibd/hail_merge/ukbb_741.vcf.gz', 'file:/lustre/scratch123/mdt1/projects/wes_jc_ukb_ibd/hail_merge/ukbb_152.vcf.gz', 'file:/lustre/scratch123/mdt1/projects/wes_jc_ukb_ibd/hail_merge/ukbb_860.vcf.gz', 'file:/lustre/scratch123/mdt1/projects/wes_jc_ukb_ibd/hail_merge/ukbb_352.vcf.gz', 'file:/lustre/scratch123/mdt1/projects/wes_jc_ukb_ibd/hail_merge/ukbb_393.vcf.gz', 'file:/lustre/scratch123/mdt1/projects/wes_jc_ukb_ibd/hail_merge/ukbb_431.vcf.gz', 'file:/lustre/scratch123/mdt1/projects/wes_jc_ukb_ibd/hail_merge/ukbb_191.vcf.gz', 'file:/lustre/scratch123/mdt1/projects/wes_jc_ukb_ibd/hail_merge/ukbb_895.vcf.gz', 'file:/lustre/scratch123/mdt1/projects/wes_jc_ukb_ibd/hail_merge/ukbb_708.vcf.gz', 'file:/lustre/scratch123/mdt1/projects/wes_jc_ukb_ibd/hail_merge/ukbb_217.vcf.gz', 'file:/lustre/scratch123/mdt1/projects/wes_jc_ukb_ibd/hail_merge/ukbb_546.vcf.gz', 'file:/lustre/scratch123/mdt1/projects/wes_jc_ukb_ibd/hail_merge/ukbb_845.vcf.gz', 'file:/lustre/scratch123/mdt1/projects/wes_jc_ukb_ibd/hail_merge/ukbb_430.vcf.gz', 'file:/lustre/scratch123/mdt1/projects/wes_jc_ukb_ibd/hail_merge/ukbb_84.vcf.gz', 'file:/lustre/scratch123/mdt1/projects/wes_jc_ukb_ibd/hail_merge/ukbb_819.vcf.gz', 'file:/lustre/scratch123/mdt1/projects/wes_jc_ukb_ibd/hail_merge/ukbb_622.vcf.gz', 'file:/lustre/scratch123/mdt1/projects/wes_jc_ukb_ibd/hail_merge/ukbb_809.vcf.gz', 'file:/lustre/scratch123/mdt1/projects/wes_jc_ukb_ibd/hail_merge/ukbb_520.vcf.gz', 'file:/lustre/scratch123/mdt1/projects/wes_jc_ukb_ibd/hail_merge/ukbb_7.vcf.gz', 'file:/lustre/scratch123/mdt1/projects/wes_jc_ukb_ibd/hail_merge/ukbb_215.vcf.gz', 'file:/lustre/scratch123/mdt1/projects/wes_jc_ukb_ibd/hail_merge/ukbb_107.vcf.gz', 'file:/lustre/scratch123/mdt1/projects/wes_jc_ukb_ibd/hail_merge/ukbb_325.vcf.gz', 'file:/lustre/scratch123/mdt1/projects/wes_jc_ukb_ibd/hail_merge/ukbb_550.vcf.gz', 'file:/lustre/scratch123/mdt1/projects/wes_jc_ukb_ibd/hail_merge/ukbb_951.vcf.gz', 'file:/lustre/scratch123/mdt1/projects/wes_jc_ukb_ibd/hail_merge/ukbb_175.vcf.gz', 'file:/lustre/scratch123/mdt1/projects/wes_jc_ukb_ibd/hail_merge/ukbb_710.vcf.gz', 'file:/lustre/scratch123/mdt1/projects/wes_jc_ukb_ibd/hail_merge/ukbb_685.vcf.gz', 'file:/lustre/scratch123/mdt1/projects/wes_jc_ukb_ibd/hail_merge/ukbb_428.vcf.gz', 'file:/lustre/scratch123/mdt1/projects/wes_jc_ukb_ibd/hail_merge/ukbb_462.vcf.gz', 'file:/lustre/scratch123/mdt1/projects/wes_jc_ukb_ibd/hail_merge/ukbb_98.vcf.gz', 'file:/lustre/scratch123/mdt1/projects/wes_jc_ukb_ibd/hail_merge/ukbb_349.vcf.gz', 'file:/lustre/scratch123/mdt1/projects/wes_jc_ukb_ibd/hail_merge/ukbb_668.vcf.gz', 'file:/lustre/scratch123/mdt1/projects/wes_jc_ukb_ibd/hail_merge/ukbb_638.vcf.gz', 'file:/lustre/scratch123/mdt1/projects/wes_jc_ukb_ibd/hail_merge/ukbb_937.vcf.gz', 'file:/lustre/scratch123/mdt1/projects/wes_jc_ukb_ibd/hail_merge/ukbb_573.vcf.gz', 'file:/lustre/scratch123/mdt1/projects/wes_jc_ukb_ibd/hail_merge/ukbb_417.vcf.gz', 'file:/lustre/scratch123/mdt1/projects/wes_jc_ukb_ibd/hail_merge/ukbb_119.vcf.gz', 'file:/lustre/scratch123/mdt1/projects/wes_jc_ukb_ibd/hail_merge/ukbb_458.vcf.gz', 'file:/lustre/scratch123/mdt1/projects/wes_jc_ukb_ibd/hail_merge/ukbb_555.vcf.gz', 'file:/lustre/scratch123/mdt1/projects/wes_jc_ukb_ibd/hail_merge/ukbb_266.vcf.gz', 'file:/lustre/scratch123/mdt1/projects/wes_jc_ukb_ibd/hail_merge/ukbb_752.vcf.gz', 'file:/lustre/scratch123/mdt1/projects/wes_jc_ukb_ibd/hail_merge/ukbb_232.vcf.gz', 'file:/lustre/scratch123/mdt1/projects/wes_jc_ukb_ibd/hail_merge/ukbb_774.vcf.gz', 'file:/lustre/scratch123/mdt1/projects/wes_jc_ukb_ibd/hail_merge/ukbb_885.vcf.gz', 'file:/lustre/scratch123/mdt1/projects/wes_jc_ukb_ibd/hail_merge/ukbb_432.vcf.gz', 'file:/lustre/scratch123/mdt1/projects/wes_jc_ukb_ibd/hail_merge/ukbb_862.vcf.gz', 'file:/lustre/scratch123/mdt1/projects/wes_jc_ukb_ibd/hail_merge/ukbb_466.vcf.gz', 'file:/lustre/scratch123/mdt1/projects/wes_jc_ukb_ibd/hail_merge/ukbb_938.vcf.gz', 'file:/lustre/scratch123/mdt1/projects/wes_jc_ukb_ibd/hail_merge/ukbb_193.vcf.gz', 'file:/lustre/scratch123/mdt1/projects/wes_jc_ukb_ibd/hail_merge/ukbb_475.vcf.gz', 'file:/lustre/scratch123/mdt1/projects/wes_jc_ukb_ibd/hail_merge/ukbb_95.vcf.gz', 'file:/lustre/scratch123/mdt1/projects/wes_jc_ukb_ibd/hail_merge/ukbb_433.vcf.gz', 'file:/lustre/scratch123/mdt1/projects/wes_jc_ukb_ibd/hail_merge/ukbb_751.vcf.gz', 'file:/lustre/scratch123/mdt1/projects/wes_jc_ukb_ibd/hail_merge/ukbb_135.vcf.gz', 'file:/lustre/scratch123/mdt1/projects/wes_jc_ukb_ibd/hail_merge/ukbb_554.vcf.gz', 'file:/lustre/scratch123/mdt1/projects/wes_jc_ukb_ibd/hail_merge/ukbb_510.vcf.gz', 'file:/lustre/scratch123/mdt1/projects/wes_jc_ukb_ibd/hail_merge/ukbb_368.vcf.gz', 'file:/lustre/scratch123/mdt1/projects/wes_jc_ukb_ibd/hail_merge/ukbb_205.vcf.gz', 'file:/lustre/scratch123/mdt1/projects/wes_jc_ukb_ibd/hail_merge/ukbb_642.vcf.gz', 'file:/lustre/scratch123/mdt1/projects/wes_jc_ukb_ibd/hail_merge/ukbb_913.vcf.gz', 'file:/lustre/scratch123/mdt1/projects/wes_jc_ukb_ibd/hail_merge/ukbb_732.vcf.gz', 'file:/lustre/scratch123/mdt1/projects/wes_jc_ukb_ibd/hail_merge/ukbb_171.vcf.gz', 'file:/lustre/scratch123/mdt1/projects/wes_jc_ukb_ibd/hail_merge/ukbb_629.vcf.gz', 'file:/lustre/scratch123/mdt1/projects/wes_jc_ukb_ibd/hail_merge/ukbb_863.vcf.gz', 'file:/lustre/scratch123/mdt1/projects/wes_jc_ukb_ibd/hail_merge/ukbb_42.vcf.gz', 'file:/lustre/scratch123/mdt1/projects/wes_jc_ukb_ibd/hail_merge/ukbb_481.vcf.gz', 'file:/lustre/scratch123/mdt1/projects/wes_jc_ukb_ibd/hail_merge/ukbb_539.vcf.gz', 'file:/lustre/scratch123/mdt1/projects/wes_jc_ukb_ibd/hail_merge/ukbb_914.vcf.gz', 'file:/lustre/scratch123/mdt1/projects/wes_jc_ukb_ibd/hail_merge/ukbb_282.vcf.gz', 'file:/lustre/scratch123/mdt1/projects/wes_jc_ukb_ibd/hail_merge/ukbb_781.vcf.gz', 'file:/lustre/scratch123/mdt1/projects/wes_jc_ukb_ibd/hail_merge/ukbb_280.vcf.gz', 'file:/lustre/scratch123/mdt1/projects/wes_jc_ukb_ibd/hail_merge/ukbb_609.vcf.gz', 'file:/lustre/scratch123/mdt1/projects/wes_jc_ukb_ibd/hail_merge/ukbb_807.vcf.gz', 'file:/lustre/scratch123/mdt1/projects/wes_jc_ukb_ibd/hail_merge/ukbb_268.vcf.gz', 'file:/lustre/scratch123/mdt1/projects/wes_jc_ukb_ibd/hail_merge/ukbb_827.vcf.gz', 'file:/lustre/scratch123/mdt1/projects/wes_jc_ukb_ibd/hail_merge/ukbb_157.vcf.gz', 'file:/lustre/scratch123/mdt1/projects/wes_jc_ukb_ibd/hail_merge/ukbb_817.vcf.gz', 'file:/lustre/scratch123/mdt1/projects/wes_jc_ukb_ibd/hail_merge/ukbb_771.vcf.gz', 'file:/lustre/scratch123/mdt1/projects/wes_jc_ukb_ibd/hail_merge/ukbb_569.vcf.gz', 'file:/lustre/scratch123/mdt1/projects/wes_jc_ukb_ibd/hail_merge/ukbb_173.vcf.gz', 'file:/lustre/scratch123/mdt1/projects/wes_jc_ukb_ibd/hail_merge/ukbb_292.vcf.gz', 'file:/lustre/scratch123/mdt1/projects/wes_jc_ukb_ibd/hail_merge/ukbb_57.vcf.gz', 'file:/lustre/scratch123/mdt1/projects/wes_jc_ukb_ibd/hail_merge/ukbb_359.vcf.gz', 'file:/lustre/scratch123/mdt1/projects/wes_jc_ukb_ibd/hail_merge/ukbb_92.vcf.gz', 'file:/lustre/scratch123/mdt1/projects/wes_jc_ukb_ibd/hail_merge/ukbb_235.vcf.gz', 'file:/lustre/scratch123/mdt1/projects/wes_jc_ukb_ibd/hail_merge/ukbb_918.vcf.gz', 'file:/lustre/scratch123/mdt1/projects/wes_jc_ukb_ibd/hail_merge/ukbb_871.vcf.gz', 'file:/lustre/scratch123/mdt1/projects/wes_jc_ukb_ibd/hail_merge/ukbb_582.vcf.gz', 'file:/lustre/scratch123/mdt1/projects/wes_jc_ukb_ibd/hail_merge/ukbb_320.vcf.gz', 'file:/lustre/scratch123/mdt1/projects/wes_jc_ukb_ibd/hail_merge/ukbb_570.vcf.gz', 'file:/lustre/scratch123/mdt1/projects/wes_jc_ukb_ibd/hail_merge/ukbb_818.vcf.gz', 'file:/lustre/scratch123/mdt1/projects/wes_jc_ukb_ibd/hail_merge/ukbb_777.vcf.gz', 'file:/lustre/scratch123/mdt1/projects/wes_jc_ukb_ibd/hail_merge/ukbb_22.vcf.gz', 'file:/lustre/scratch123/mdt1/projects/wes_jc_ukb_ibd/hail_merge/ukbb_439.vcf.gz', 'file:/lustre/scratch123/mdt1/projects/wes_jc_ukb_ibd/hail_merge/ukbb_789.vcf.gz', 'file:/lustre/scratch123/mdt1/projects/wes_jc_ukb_ibd/hail_merge/ukbb_80.vcf.gz', 'file:/lustre/scratch123/mdt1/projects/wes_jc_ukb_ibd/hail_merge/ukbb_735.vcf.gz', 'file:/lustre/scratch123/mdt1/projects/wes_jc_ukb_ibd/hail_merge/ukbb_169.vcf.gz', 'file:/lustre/scratch123/mdt1/projects/wes_jc_ukb_ibd/hail_merge/ukbb_607.vcf.gz', 'file:/lustre/scratch123/mdt1/projects/wes_jc_ukb_ibd/hail_merge/ukbb_690.vcf.gz', 'file:/lustre/scratch123/mdt1/projects/wes_jc_ukb_ibd/hail_merge/ukbb_946.vcf.gz', 'file:/lustre/scratch123/mdt1/projects/wes_jc_ukb_ibd/hail_merge/ukbb_606.vcf.gz', 'file:/lustre/scratch123/mdt1/projects/wes_jc_ukb_ibd/hail_merge/ukbb_800.vcf.gz', 'file:/lustre/scratch123/mdt1/projects/wes_jc_ukb_ibd/hail_merge/ukbb_117.vcf.gz', 'file:/lustre/scratch123/mdt1/projects/wes_jc_ukb_ibd/hail_merge/ukbb_806.vcf.gz', 'file:/lustre/scratch123/mdt1/projects/wes_jc_ukb_ibd/hail_merge/ukbb_814.vcf.gz', 'file:/lustre/scratch123/mdt1/projects/wes_jc_ukb_ibd/hail_merge/ukbb_851.vcf.gz', 'file:/lustre/scratch123/mdt1/projects/wes_jc_ukb_ibd/hail_merge/ukbb_148.vcf.gz', 'file:/lustre/scratch123/mdt1/projects/wes_jc_ukb_ibd/hail_merge/ukbb_976.vcf.gz', 'file:/lustre/scratch123/mdt1/projects/wes_jc_ukb_ibd/hail_merge/ukbb_364.vcf.gz', 'file:/lustre/scratch123/mdt1/projects/wes_jc_ukb_ibd/hail_merge/ukbb_435.vcf.gz', 'file:/lustre/scratch123/mdt1/projects/wes_jc_ukb_ibd/hail_merge/ukbb_718.vcf.gz', 'file:/lustre/scratch123/mdt1/projects/wes_jc_ukb_ibd/hail_merge/ukbb_24.vcf.gz', 'file:/lustre/scratch123/mdt1/projects/wes_jc_ukb_ibd/hail_merge/ukbb_850.vcf.gz', 'file:/lustre/scratch123/mdt1/projects/wes_jc_ukb_ibd/hail_merge/ukbb_706.vcf.gz', 'file:/lustre/scratch123/mdt1/projects/wes_jc_ukb_ibd/hail_merge/ukbb_34.vcf.gz', 'file:/lustre/scratch123/mdt1/projects/wes_jc_ukb_ibd/hail_merge/ukbb_71.vcf.gz', 'file:/lustre/scratch123/mdt1/projects/wes_jc_ukb_ibd/hail_merge/ukbb_719.vcf.gz', 'file:/lustre/scratch123/mdt1/projects/wes_jc_ukb_ibd/hail_merge/ukbb_276.vcf.gz', 'file:/lustre/scratch123/mdt1/projects/wes_jc_ukb_ibd/hail_merge/ukbb_650.vcf.gz', 'file:/lustre/scratch123/mdt1/projects/wes_jc_ukb_ibd/hail_merge/ukbb_124.vcf.gz', 'file:/lustre/scratch123/mdt1/projects/wes_jc_ukb_ibd/hail_merge/ukbb_617.vcf.gz', 'file:/lustre/scratch123/mdt1/projects/wes_jc_ukb_ibd/hail_merge/ukbb_568.vcf.gz', 'file:/lustre/scratch123/mdt1/projects/wes_jc_ukb_ibd/hail_merge/ukbb_753.vcf.gz', 'file:/lustre/scratch123/mdt1/projects/wes_jc_ukb_ibd/hail_merge/ukbb_878.vcf.gz', 'file:/lustre/scratch123/mdt1/projects/wes_jc_ukb_ibd/hail_merge/ukbb_20.vcf.gz', 'file:/lustre/scratch123/mdt1/projects/wes_jc_ukb_ibd/hail_merge/ukbb_881.vcf.gz', 'file:/lustre/scratch123/mdt1/projects/wes_jc_ukb_ibd/hail_merge/ukbb_674.vcf.gz', 'file:/lustre/scratch123/mdt1/projects/wes_jc_ukb_ibd/hail_merge/ukbb_132.vcf.gz', 'file:/lustre/scratch123/mdt1/projects/wes_jc_ukb_ibd/hail_merge/ukbb_587.vcf.gz', 'file:/lustre/scratch123/mdt1/projects/wes_jc_ukb_ibd/hail_merge/ukbb_443.vcf.gz', 'file:/lustre/scratch123/mdt1/projects/wes_jc_ukb_ibd/hail_merge/ukbb_497.vcf.gz', 'file:/lustre/scratch123/mdt1/projects/wes_jc_ukb_ibd/hail_merge/ukbb_374.vcf.gz', 'file:/lustre/scratch123/mdt1/projects/wes_jc_ukb_ibd/hail_merge/ukbb_769.vcf.gz', 'file:/lustre/scratch123/mdt1/projects/wes_jc_ukb_ibd/hail_merge/ukbb_803.vcf.gz', 'file:/lustre/scratch123/mdt1/projects/wes_jc_ukb_ibd/hail_merge/ukbb_17.vcf.gz', 'file:/lustre/scratch123/mdt1/projects/wes_jc_ukb_ibd/hail_merge/ukbb_230.vcf.gz', 'file:/lustre/scratch123/mdt1/projects/wes_jc_ukb_ibd/hail_merge/ukbb_734.vcf.gz', 'file:/lustre/scratch123/mdt1/projects/wes_jc_ukb_ibd/hail_merge/ukbb_835.vcf.gz', 'file:/lustre/scratch123/mdt1/projects/wes_jc_ukb_ibd/hail_merge/ukbb_343.vcf.gz', 'file:/lustre/scratch123/mdt1/projects/wes_jc_ukb_ibd/hail_merge/ukbb_223.vcf.gz', 'file:/lustre/scratch123/mdt1/projects/wes_jc_ukb_ibd/hail_merge/ukbb_258.vcf.gz', 'file:/lustre/scratch123/mdt1/projects/wes_jc_ukb_ibd/hail_merge/ukbb_649.vcf.gz', 'file:/lustre/scratch123/mdt1/projects/wes_jc_ukb_ibd/hail_merge/ukbb_427.vcf.gz', 'file:/lustre/scratch123/mdt1/projects/wes_jc_ukb_ibd/hail_merge/ukbb_47.vcf.gz', 'file:/lustre/scratch123/mdt1/projects/wes_jc_ukb_ibd/hail_merge/ukbb_658.vcf.gz', 'file:/lustre/scratch123/mdt1/projects/wes_jc_ukb_ibd/hail_merge/ukbb_648.vcf.gz', 'file:/lustre/scratch123/mdt1/projects/wes_jc_ukb_ibd/hail_merge/ukbb_281.vcf.gz', 'file:/lustre/scratch123/mdt1/projects/wes_jc_ukb_ibd/hail_merge/ukbb_500.vcf.gz', 'file:/lustre/scratch123/mdt1/projects/wes_jc_ukb_ibd/hail_merge/ukbb_448.vcf.gz', 'file:/lustre/scratch123/mdt1/projects/wes_jc_ukb_ibd/hail_merge/ukbb_385.vcf.gz', 'file:/lustre/scratch123/mdt1/projects/wes_jc_ukb_ibd/hail_merge/ukbb_653.vcf.gz', 'file:/lustre/scratch123/mdt1/projects/wes_jc_ukb_ibd/hail_merge/ukbb_234.vcf.gz', 'file:/lustre/scratch123/mdt1/projects/wes_jc_ukb_ibd/hail_merge/ukbb_661.vcf.gz', 'file:/lustre/scratch123/mdt1/projects/wes_jc_ukb_ibd/hail_merge/ukbb_376.vcf.gz', 'file:/lustre/scratch123/mdt1/projects/wes_jc_ukb_ibd/hail_merge/ukbb_761.vcf.gz', 'file:/lustre/scratch123/mdt1/projects/wes_jc_ukb_ibd/hail_merge/ukbb_336.vcf.gz', 'file:/lustre/scratch123/mdt1/projects/wes_jc_ukb_ibd/hail_merge/ukbb_139.vcf.gz', 'file:/lustre/scratch123/mdt1/projects/wes_jc_ukb_ibd/hail_merge/ukbb_21.vcf.gz', 'file:/lustre/scratch123/mdt1/projects/wes_jc_ukb_ibd/hail_merge/ukbb_899.vcf.gz', 'file:/lustre/scratch123/mdt1/projects/wes_jc_ukb_ibd/hail_merge/ukbb_4.vcf.gz', 'file:/lustre/scratch123/mdt1/projects/wes_jc_ukb_ibd/hail_merge/ukbb_717.vcf.gz', 'file:/lustre/scratch123/mdt1/projects/wes_jc_ukb_ibd/hail_merge/ukbb_350.vcf.gz', 'file:/lustre/scratch123/mdt1/projects/wes_jc_ukb_ibd/hail_merge/ukbb_301.vcf.gz', 'file:/lustre/scratch123/mdt1/projects/wes_jc_ukb_ibd/hail_merge/ukbb_137.vcf.gz', 'file:/lustre/scratch123/mdt1/projects/wes_jc_ukb_ibd/hail_merge/ukbb_849.vcf.gz', 'file:/lustre/scratch123/mdt1/projects/wes_jc_ukb_ibd/hail_merge/ukbb_964.vcf.gz', 'file:/lustre/scratch123/mdt1/projects/wes_jc_ukb_ibd/hail_merge/ukbb_129.vcf.gz', 'file:/lustre/scratch123/mdt1/projects/wes_jc_ukb_ibd/hail_merge/ukbb_865.vcf.gz', 'file:/lustre/scratch123/mdt1/projects/wes_jc_ukb_ibd/hail_merge/ukbb_716.vcf.gz', 'file:/lustre/scratch123/mdt1/projects/wes_jc_ukb_ibd/hail_merge/ukbb_254.vcf.gz', 'file:/lustre/scratch123/mdt1/projects/wes_jc_ukb_ibd/hail_merge/ukbb_251.vcf.gz', 'file:/lustre/scratch123/mdt1/projects/wes_jc_ukb_ibd/hail_merge/ukbb_502.vcf.gz', 'file:/lustre/scratch123/mdt1/projects/wes_jc_ukb_ibd/hail_merge/ukbb_357.vcf.gz', 'file:/lustre/scratch123/mdt1/projects/wes_jc_ukb_ibd/hail_merge/ukbb_136.vcf.gz', 'file:/lustre/scratch123/mdt1/projects/wes_jc_ukb_ibd/hail_merge/ukbb_671.vcf.gz', 'file:/lustre/scratch123/mdt1/projects/wes_jc_ukb_ibd/hail_merge/ukbb_30.vcf.gz', 'file:/lustre/scratch123/mdt1/projects/wes_jc_ukb_ibd/hail_merge/ukbb_79.vcf.gz', 'file:/lustre/scratch123/mdt1/projects/wes_jc_ukb_ibd/hail_merge/ukbb_967.vcf.gz', 'file:/lustre/scratch123/mdt1/projects/wes_jc_ukb_ibd/hail_merge/ukbb_314.vcf.gz', 'file:/lustre/scratch123/mdt1/projects/wes_jc_ukb_ibd/hail_merge/ukbb_852.vcf.gz', 'file:/lustre/scratch123/mdt1/projects/wes_jc_ukb_ibd/hail_merge/ukbb_775.vcf.gz', 'file:/lustre/scratch123/mdt1/projects/wes_jc_ukb_ibd/hail_merge/ukbb_238.vcf.gz', 'file:/lustre/scratch123/mdt1/projects/wes_jc_ukb_ibd/hail_merge/ukbb_321.vcf.gz', 'file:/lustre/scratch123/mdt1/projects/wes_jc_ukb_ibd/hail_merge/ukbb_501.vcf.gz', 'file:/lustre/scratch123/mdt1/projects/wes_jc_ukb_ibd/hail_merge/ukbb_678.vcf.gz', 'file:/lustre/scratch123/mdt1/projects/wes_jc_ukb_ibd/hail_merge/ukbb_611.vcf.gz', 'file:/lustre/scratch123/mdt1/projects/wes_jc_ukb_ibd/hail_merge/ukbb_471.vcf.gz', 'file:/lustre/scratch123/mdt1/projects/wes_jc_ukb_ibd/hail_merge/ukbb_677.vcf.gz', 'file:/lustre/scratch123/mdt1/projects/wes_jc_ukb_ibd/hail_merge/ukbb_289.vcf.gz', 'file:/lustre/scratch123/mdt1/projects/wes_jc_ukb_ibd/hail_merge/ukbb_41.vcf.gz', 'file:/lustre/scratch123/mdt1/projects/wes_jc_ukb_ibd/hail_merge/ukbb_890.vcf.gz', 'file:/lustre/scratch123/mdt1/projects/wes_jc_ukb_ibd/hail_merge/ukbb_204.vcf.gz', 'file:/lustre/scratch123/mdt1/projects/wes_jc_ukb_ibd/hail_merge/ukbb_267.vcf.gz', 'file:/lustre/scratch123/mdt1/projects/wes_jc_ukb_ibd/hail_merge/ukbb_203.vcf.gz', 'file:/lustre/scratch123/mdt1/projects/wes_jc_ukb_ibd/hail_merge/ukbb_691.vcf.gz', 'file:/lustre/scratch123/mdt1/projects/wes_jc_ukb_ibd/hail_merge/ukbb_263.vcf.gz', 'file:/lustre/scratch123/mdt1/projects/wes_jc_ukb_ibd/hail_merge/ukbb_970.vcf.gz', 'file:/lustre/scratch123/mdt1/projects/wes_jc_ukb_ibd/hail_merge/ukbb_901.vcf.gz', 'file:/lustre/scratch123/mdt1/projects/wes_jc_ukb_ibd/hail_merge/ukbb_380.vcf.gz', 'file:/lustre/scratch123/mdt1/projects/wes_jc_ukb_ibd/hail_merge/ukbb_911.vcf.gz', 'file:/lustre/scratch123/mdt1/projects/wes_jc_ukb_ibd/hail_merge/ukbb_339.vcf.gz', 'file:/lustre/scratch123/mdt1/projects/wes_jc_ukb_ibd/hail_merge/ukbb_163.vcf.gz', 'file:/lustre/scratch123/mdt1/projects/wes_jc_ukb_ibd/hail_merge/ukbb_544.vcf.gz', 'file:/lustre/scratch123/mdt1/projects/wes_jc_ukb_ibd/hail_merge/ukbb_727.vcf.gz', 'file:/lustre/scratch123/mdt1/projects/wes_jc_ukb_ibd/hail_merge/ukbb_929.vcf.gz', 'file:/lustre/scratch123/mdt1/projects/wes_jc_ukb_ibd/hail_merge/ukbb_274.vcf.gz', 'file:/lustre/scratch123/mdt1/projects/wes_jc_ukb_ibd/hail_merge/ukbb_620.vcf.gz', 'file:/lustre/scratch123/mdt1/projects/wes_jc_ukb_ibd/hail_merge/ukbb_813.vcf.gz', 'file:/lustre/scratch123/mdt1/projects/wes_jc_ukb_ibd/hail_merge/ukbb_919.vcf.gz', 'file:/lustre/scratch123/mdt1/projects/wes_jc_ukb_ibd/hail_merge/ukbb_621.vcf.gz', 'file:/lustre/scratch123/mdt1/projects/wes_jc_ukb_ibd/hail_merge/ukbb_578.vcf.gz', 'file:/lustre/scratch123/mdt1/projects/wes_jc_ukb_ibd/hail_merge/ukbb_459.vcf.gz', 'file:/lustre/scratch123/mdt1/projects/wes_jc_ukb_ibd/hail_merge/ukbb_571.vcf.gz', 'file:/lustre/scratch123/mdt1/projects/wes_jc_ukb_ibd/hail_merge/ukbb_444.vcf.gz', 'file:/lustre/scratch123/mdt1/projects/wes_jc_ukb_ibd/hail_merge/ukbb_532.vcf.gz', 'file:/lustre/scratch123/mdt1/projects/wes_jc_ukb_ibd/hail_merge/ukbb_726.vcf.gz', 'file:/lustre/scratch123/mdt1/projects/wes_jc_ukb_ibd/hail_merge/ukbb_604.vcf.gz', 'file:/lustre/scratch123/mdt1/projects/wes_jc_ukb_ibd/hail_merge/ukbb_403.vcf.gz', 'file:/lustre/scratch123/mdt1/projects/wes_jc_ukb_ibd/hail_merge/ukbb_518.vcf.gz', 'file:/lustre/scratch123/mdt1/projects/wes_jc_ukb_ibd/hail_merge/ukbb_425.vcf.gz', 'file:/lustre/scratch123/mdt1/projects/wes_jc_ukb_ibd/hail_merge/ukbb_378.vcf.gz', 'file:/lustre/scratch123/mdt1/projects/wes_jc_ukb_ibd/hail_merge/ukbb_375.vcf.gz', 'file:/lustre/scratch123/mdt1/projects/wes_jc_ukb_ibd/hail_merge/ukbb_723.vcf.gz', 'file:/lustre/scratch123/mdt1/projects/wes_jc_ukb_ibd/hail_merge/ukbb_503.vcf.gz', 'file:/lustre/scratch123/mdt1/projects/wes_jc_ukb_ibd/hail_merge/ukbb_826.vcf.gz', 'file:/lustre/scratch123/mdt1/projects/wes_jc_ukb_ibd/hail_merge/ukbb_675.vcf.gz', 'file:/lustre/scratch123/mdt1/projects/wes_jc_ukb_ibd/hail_merge/ukbb_509.vcf.gz', 'file:/lustre/scratch123/mdt1/projects/wes_jc_ukb_ibd/hail_merge/ukbb_841.vcf.gz', 'file:/lustre/scratch123/mdt1/projects/wes_jc_ukb_ibd/hail_merge/ukbb_221.vcf.gz', 'file:/lustre/scratch123/mdt1/projects/wes_jc_ukb_ibd/hail_merge/ukbb_365.vcf.gz', 'file:/lustre/scratch123/mdt1/projects/wes_jc_ukb_ibd/hail_merge/ukbb_49.vcf.gz', 'file:/lustre/scratch123/mdt1/projects/wes_jc_ukb_ibd/hail_merge/ukbb_10.vcf.gz', 'file:/lustre/scratch123/mdt1/projects/wes_jc_ukb_ibd/hail_merge/ukbb_244.vcf.gz', 'file:/lustre/scratch123/mdt1/projects/wes_jc_ukb_ibd/hail_merge/ukbb_387.vcf.gz', 'file:/lustre/scratch123/mdt1/projects/wes_jc_ukb_ibd/hail_merge/ukbb_646.vcf.gz', 'file:/lustre/scratch123/mdt1/projects/wes_jc_ukb_ibd/hail_merge/ukbb_786.vcf.gz', 'file:/lustre/scratch123/mdt1/projects/wes_jc_ukb_ibd/hail_merge/ukbb_712.vcf.gz', 'file:/lustre/scratch123/mdt1/projects/wes_jc_ukb_ibd/hail_merge/ukbb_693.vcf.gz', 'file:/lustre/scratch123/mdt1/projects/wes_jc_ukb_ibd/hail_merge/ukbb_286.vcf.gz', 'file:/lustre/scratch123/mdt1/projects/wes_jc_ukb_ibd/hail_merge/ukbb_612.vcf.gz', 'file:/lustre/scratch123/mdt1/projects/wes_jc_ukb_ibd/hail_merge/ukbb_666.vcf.gz', 'file:/lustre/scratch123/mdt1/projects/wes_jc_ukb_ibd/hail_merge/ukbb_560.vcf.gz', 'file:/lustre/scratch123/mdt1/projects/wes_jc_ukb_ibd/hail_merge/ukbb_195.vcf.gz', 'file:/lustre/scratch123/mdt1/projects/wes_jc_ukb_ibd/hail_merge/ukbb_202.vcf.gz', 'file:/lustre/scratch123/mdt1/projects/wes_jc_ukb_ibd/hail_merge/ukbb_744.vcf.gz', 'file:/lustre/scratch123/mdt1/projects/wes_jc_ukb_ibd/hail_merge/ukbb_521.vcf.gz', 'file:/lustre/scratch123/mdt1/projects/wes_jc_ukb_ibd/hail_merge/ukbb_795.vcf.gz', 'file:/lustre/scratch123/mdt1/projects/wes_jc_ukb_ibd/hail_merge/ukbb_477.vcf.gz', 'file:/lustre/scratch123/mdt1/projects/wes_jc_ukb_ibd/hail_merge/ukbb_161.vcf.gz', 'file:/lustre/scratch123/mdt1/projects/wes_jc_ukb_ibd/hail_merge/ukbb_434.vcf.gz', 'file:/lustre/scratch123/mdt1/projects/wes_jc_ukb_ibd/hail_merge/ukbb_397.vcf.gz', 'file:/lustre/scratch123/mdt1/projects/wes_jc_ukb_ibd/hail_merge/ukbb_408.vcf.gz', 'file:/lustre/scratch123/mdt1/projects/wes_jc_ukb_ibd/hail_merge/ukbb_272.vcf.gz', 'file:/lustre/scratch123/mdt1/projects/wes_jc_ukb_ibd/hail_merge/ukbb_667.vcf.gz', 'file:/lustre/scratch123/mdt1/projects/wes_jc_ukb_ibd/hail_merge/ukbb_2.vcf.gz', 'file:/lustre/scratch123/mdt1/projects/wes_jc_ukb_ibd/hail_merge/ukbb_652.vcf.gz', 'file:/lustre/scratch123/mdt1/projects/wes_jc_ukb_ibd/hail_merge/ukbb_655.vcf.gz', 'file:/lustre/scratch123/mdt1/projects/wes_jc_ukb_ibd/hail_merge/ukbb_346.vcf.gz', 'file:/lustre/scratch123/mdt1/projects/wes_jc_ukb_ibd/hail_merge/ukbb_174.vcf.gz', 'file:/lustre/scratch123/mdt1/projects/wes_jc_ukb_ibd/hail_merge/ukbb_260.vcf.gz', 'file:/lustre/scratch123/mdt1/projects/wes_jc_ukb_ibd/hail_merge/ukbb_628.vcf.gz', 'file:/lustre/scratch123/mdt1/projects/wes_jc_ukb_ibd/hail_merge/ukbb_585.vcf.gz', 'file:/lustre/scratch123/mdt1/projects/wes_jc_ukb_ibd/hail_merge/ukbb_55.vcf.gz', 'file:/lustre/scratch123/mdt1/projects/wes_jc_ukb_ibd/hail_merge/ukbb_229.vcf.gz', 'file:/lustre/scratch123/mdt1/projects/wes_jc_ukb_ibd/hail_merge/ukbb_206.vcf.gz', 'file:/lustre/scratch123/mdt1/projects/wes_jc_ukb_ibd/hail_merge/ukbb_493.vcf.gz', 'file:/lustre/scratch123/mdt1/projects/wes_jc_ukb_ibd/hail_merge/ukbb_424.vcf.gz', 'file:/lustre/scratch123/mdt1/projects/wes_jc_ukb_ibd/hail_merge/ukbb_637.vcf.gz', 'file:/lustre/scratch123/mdt1/projects/wes_jc_ukb_ibd/hail_merge/ukbb_837.vcf.gz', 'file:/lustre/scratch123/mdt1/projects/wes_jc_ukb_ibd/hail_merge/ukbb_754.vcf.gz', 'file:/lustre/scratch123/mdt1/projects/wes_jc_ukb_ibd/hail_merge/ukbb_963.vcf.gz', 'file:/lustre/scratch123/mdt1/projects/wes_jc_ukb_ibd/hail_merge/ukbb_372.vcf.gz', 'file:/lustre/scratch123/mdt1/projects/wes_jc_ukb_ibd/hail_merge/ukbb_828.vcf.gz', 'file:/lustre/scratch123/mdt1/projects/wes_jc_ukb_ibd/hail_merge/ukbb_558.vcf.gz', 'file:/lustre/scratch123/mdt1/projects/wes_jc_ukb_ibd/hail_merge/ukbb_737.vcf.gz', 'file:/lustre/scratch123/mdt1/projects/wes_jc_ukb_ibd/hail_merge/ukbb_85.vcf.gz', 'file:/lustre/scratch123/mdt1/projects/wes_jc_ukb_ibd/hail_merge/ukbb_81.vcf.gz', 'file:/lustre/scratch123/mdt1/projects/wes_jc_ukb_ibd/hail_merge/ukbb_613.vcf.gz', 'file:/lustre/scratch123/mdt1/projects/wes_jc_ukb_ibd/hail_merge/ukbb_369.vcf.gz', 'file:/lustre/scratch123/mdt1/projects/wes_jc_ukb_ibd/hail_merge/ukbb_278.vcf.gz', 'file:/lustre/scratch123/mdt1/projects/wes_jc_ukb_ibd/hail_merge/ukbb_877.vcf.gz', 'file:/lustre/scratch123/mdt1/projects/wes_jc_ukb_ibd/hail_merge/ukbb_760.vcf.gz', 'file:/lustre/scratch123/mdt1/projects/wes_jc_ukb_ibd/hail_merge/ukbb_1.vcf.gz', 'file:/lustre/scratch123/mdt1/projects/wes_jc_ukb_ibd/hail_merge/ukbb_750.vcf.gz', 'file:/lustre/scratch123/mdt1/projects/wes_jc_ukb_ibd/hail_merge/ukbb_768.vcf.gz', 'file:/lustre/scratch123/mdt1/projects/wes_jc_ukb_ibd/hail_merge/ukbb_504.vcf.gz', 'file:/lustre/scratch123/mdt1/projects/wes_jc_ukb_ibd/hail_merge/ukbb_231.vcf.gz', 'file:/lustre/scratch123/mdt1/projects/wes_jc_ukb_ibd/hail_merge/ukbb_684.vcf.gz', 'file:/lustre/scratch123/mdt1/projects/wes_jc_ukb_ibd/hail_merge/ukbb_438.vcf.gz', 'file:/lustre/scratch123/mdt1/projects/wes_jc_ukb_ibd/hail_merge/ukbb_237.vcf.gz', 'file:/lustre/scratch123/mdt1/projects/wes_jc_ukb_ibd/hail_merge/ukbb_298.vcf.gz', 'file:/lustre/scratch123/mdt1/projects/wes_jc_ukb_ibd/hail_merge/ukbb_965.vcf.gz', 'file:/lustre/scratch123/mdt1/projects/wes_jc_ukb_ibd/hail_merge/ukbb_146.vcf.gz', 'file:/lustre/scratch123/mdt1/projects/wes_jc_ukb_ibd/hail_merge/ukbb_68.vcf.gz', 'file:/lustre/scratch123/mdt1/projects/wes_jc_ukb_ibd/hail_merge/ukbb_233.vcf.gz', 'file:/lustre/scratch123/mdt1/projects/wes_jc_ukb_ibd/hail_merge/ukbb_32.vcf.gz', 'file:/lustre/scratch123/mdt1/projects/wes_jc_ukb_ibd/hail_merge/ukbb_413.vcf.gz', 'file:/lustre/scratch123/mdt1/projects/wes_jc_ukb_ibd/hail_merge/ukbb_270.vcf.gz', 'file:/lustre/scratch123/mdt1/projects/wes_jc_ukb_ibd/hail_merge/ukbb_920.vcf.gz', 'file:/lustre/scratch123/mdt1/projects/wes_jc_ukb_ibd/hail_merge/ukbb_409.vcf.gz', 'file:/lustre/scratch123/mdt1/projects/wes_jc_ukb_ibd/hail_merge/ukbb_864.vcf.gz', 'file:/lustre/scratch123/mdt1/projects/wes_jc_ukb_ibd/hail_merge/ukbb_293.vcf.gz', 'file:/lustre/scratch123/mdt1/projects/wes_jc_ukb_ibd/hail_merge/ukbb_542.vcf.gz', 'file:/lustre/scratch123/mdt1/projects/wes_jc_ukb_ibd/hail_merge/ukbb_398.vcf.gz', 'file:/lustre/scratch123/mdt1/projects/wes_jc_ukb_ibd/hail_merge/ukbb_506.vcf.gz', 'file:/lustre/scratch123/mdt1/projects/wes_jc_ukb_ibd/hail_merge/ukbb_605.vcf.gz', 'file:/lustre/scratch123/mdt1/projects/wes_jc_ukb_ibd/hail_merge/ukbb_763.vcf.gz', 'file:/lustre/scratch123/mdt1/projects/wes_jc_ukb_ibd/hail_merge/ukbb_873.vcf.gz', 'file:/lustre/scratch123/mdt1/projects/wes_jc_ukb_ibd/hail_merge/ukbb_53.vcf.gz', 'file:/lustre/scratch123/mdt1/projects/wes_jc_ukb_ibd/hail_merge/ukbb_838.vcf.gz', 'file:/lustre/scratch123/mdt1/projects/wes_jc_ukb_ibd/hail_merge/ukbb_905.vcf.gz', 'file:/lustre/scratch123/mdt1/projects/wes_jc_ukb_ibd/hail_merge/ukbb_676.vcf.gz', 'file:/lustre/scratch123/mdt1/projects/wes_jc_ukb_ibd/hail_merge/ukbb_285.vcf.gz', 'file:/lustre/scratch123/mdt1/projects/wes_jc_ukb_ibd/hail_merge/ukbb_656.vcf.gz', 'file:/lustre/scratch123/mdt1/projects/wes_jc_ukb_ibd/hail_merge/ukbb_957.vcf.gz', 'file:/lustre/scratch123/mdt1/projects/wes_jc_ukb_ibd/hail_merge/ukbb_414.vcf.gz', 'file:/lustre/scratch123/mdt1/projects/wes_jc_ukb_ibd/hail_merge/ukbb_284.vcf.gz', 'file:/lustre/scratch123/mdt1/projects/wes_jc_ukb_ibd/hail_merge/ukbb_590.vcf.gz', 'file:/lustre/scratch123/mdt1/projects/wes_jc_ukb_ibd/hail_merge/ukbb_702.vcf.gz', 'file:/lustre/scratch123/mdt1/projects/wes_jc_ukb_ibd/hail_merge/ukbb_26.vcf.gz', 'file:/lustre/scratch123/mdt1/projects/wes_jc_ukb_ibd/hail_merge/ukbb_517.vcf.gz', 'file:/lustre/scratch123/mdt1/projects/wes_jc_ukb_ibd/hail_merge/ukbb_944.vcf.gz', 'file:/lustre/scratch123/mdt1/projects/wes_jc_ukb_ibd/hail_merge/ukbb_277.vcf.gz', 'file:/lustre/scratch123/mdt1/projects/wes_jc_ukb_ibd/hail_merge/ukbb_45.vcf.gz', 'file:/lustre/scratch123/mdt1/projects/wes_jc_ukb_ibd/hail_merge/ukbb_515.vcf.gz', 'file:/lustre/scratch123/mdt1/projects/wes_jc_ukb_ibd/hail_merge/ukbb_283.vcf.gz', 'file:/lustre/scratch123/mdt1/projects/wes_jc_ukb_ibd/hail_merge/ukbb_450.vcf.gz', 'file:/lustre/scratch123/mdt1/projects/wes_jc_ukb_ibd/hail_merge/ukbb_108.vcf.gz', 'file:/lustre/scratch123/mdt1/projects/wes_jc_ukb_ibd/hail_merge/ukbb_297.vcf.gz', 'file:/lustre/scratch123/mdt1/projects/wes_jc_ukb_ibd/hail_merge/ukbb_457.vcf.gz', 'file:/lustre/scratch123/mdt1/projects/wes_jc_ukb_ibd/hail_merge/ukbb_688.vcf.gz', 'file:/lustre/scratch123/mdt1/projects/wes_jc_ukb_ibd/hail_merge/ukbb_220.vcf.gz', 'file:/lustre/scratch123/mdt1/projects/wes_jc_ukb_ibd/hail_merge/ukbb_641.vcf.gz', 'file:/lustre/scratch123/mdt1/projects/wes_jc_ukb_ibd/hail_merge/ukbb_241.vcf.gz', 'file:/lustre/scratch123/mdt1/projects/wes_jc_ukb_ibd/hail_merge/ukbb_633.vcf.gz', 'file:/lustre/scratch123/mdt1/projects/wes_jc_ukb_ibd/hail_merge/ukbb_6.vcf.gz', 'file:/lustre/scratch123/mdt1/projects/wes_jc_ukb_ibd/hail_merge/ukbb_176.vcf.gz', 'file:/lustre/scratch123/mdt1/projects/wes_jc_ukb_ibd/hail_merge/ukbb_736.vcf.gz', 'file:/lustre/scratch123/mdt1/projects/wes_jc_ukb_ibd/hail_merge/ukbb_472.vcf.gz', 'file:/lustre/scratch123/mdt1/projects/wes_jc_ukb_ibd/hail_merge/ukbb_928.vcf.gz', 'file:/lustre/scratch123/mdt1/projects/wes_jc_ukb_ibd/hail_merge/ukbb_893.vcf.gz', 'file:/lustre/scratch123/mdt1/projects/wes_jc_ukb_ibd/hail_merge/ukbb_122.vcf.gz', 'file:/lustre/scratch123/mdt1/projects/wes_jc_ukb_ibd/hail_merge/ukbb_18.vcf.gz', 'file:/lustre/scratch123/mdt1/projects/wes_jc_ukb_ibd/hail_merge/ukbb_123.vcf.gz', 'file:/lustre/scratch123/mdt1/projects/wes_jc_ukb_ibd/hail_merge/ukbb_73.vcf.gz', 'file:/lustre/scratch123/mdt1/projects/wes_jc_ukb_ibd/hail_merge/ukbb_28.vcf.gz', 'file:/lustre/scratch123/mdt1/projects/wes_jc_ukb_ibd/hail_merge/ukbb_692.vcf.gz', 'file:/lustre/scratch123/mdt1/projects/wes_jc_ukb_ibd/hail_merge/ukbb_679.vcf.gz', 'file:/lustre/scratch123/mdt1/projects/wes_jc_ukb_ibd/hail_merge/ukbb_312.vcf.gz', 'file:/lustre/scratch123/mdt1/projects/wes_jc_ukb_ibd/hail_merge/ukbb_816.vcf.gz', 'file:/lustre/scratch123/mdt1/projects/wes_jc_ukb_ibd/hail_merge/ukbb_830.vcf.gz', 'file:/lustre/scratch123/mdt1/projects/wes_jc_ukb_ibd/hail_merge/ukbb_974.vcf.gz', 'file:/lustre/scratch123/mdt1/projects/wes_jc_ukb_ibd/hail_merge/ukbb_335.vcf.gz', 'file:/lustre/scratch123/mdt1/projects/wes_jc_ukb_ibd/hail_merge/ukbb_615.vcf.gz', 'file:/lustre/scratch123/mdt1/projects/wes_jc_ukb_ibd/hail_merge/ukbb_933.vcf.gz', 'file:/lustre/scratch123/mdt1/projects/wes_jc_ukb_ibd/hail_merge/ukbb_44.vcf.gz', 'file:/lustre/scratch123/mdt1/projects/wes_jc_ukb_ibd/hail_merge/ukbb_940.vcf.gz', 'file:/lustre/scratch123/mdt1/projects/wes_jc_ukb_ibd/hail_merge/ukbb_663.vcf.gz', 'file:/lustre/scratch123/mdt1/projects/wes_jc_ukb_ibd/hail_merge/ukbb_345.vcf.gz', 'file:/lustre/scratch123/mdt1/projects/wes_jc_ukb_ibd/hail_merge/ukbb_422.vcf.gz', 'file:/lustre/scratch123/mdt1/projects/wes_jc_ukb_ibd/hail_merge/ukbb_528.vcf.gz', 'file:/lustre/scratch123/mdt1/projects/wes_jc_ukb_ibd/hail_merge/ukbb_418.vcf.gz', 'file:/lustre/scratch123/mdt1/projects/wes_jc_ukb_ibd/hail_merge/ukbb_670.vcf.gz', 'file:/lustre/scratch123/mdt1/projects/wes_jc_ukb_ibd/hail_merge/ukbb_118.vcf.gz', 'file:/lustre/scratch123/mdt1/projects/wes_jc_ukb_ibd/hail_merge/ukbb_103.vcf.gz', 'file:/lustre/scratch123/mdt1/projects/wes_jc_ukb_ibd/hail_merge/ukbb_187.vcf.gz', 'file:/lustre/scratch123/mdt1/projects/wes_jc_ukb_ibd/hail_merge/ukbb_839.vcf.gz', 'file:/lustre/scratch123/mdt1/projects/wes_jc_ukb_ibd/hail_merge/ukbb_141.vcf.gz', 'file:/lustre/scratch123/mdt1/projects/wes_jc_ukb_ibd/hail_merge/ukbb_463.vcf.gz', 'file:/lustre/scratch123/mdt1/projects/wes_jc_ukb_ibd/hail_merge/ukbb_527.vcf.gz', 'file:/lustre/scratch123/mdt1/projects/wes_jc_ukb_ibd/hail_merge/ukbb_954.vcf.gz', 'file:/lustre/scratch123/mdt1/projects/wes_jc_ukb_ibd/hail_merge/ukbb_507.vcf.gz', 'file:/lustre/scratch123/mdt1/projects/wes_jc_ukb_ibd/hail_merge/ukbb_583.vcf.gz', 'file:/lustre/scratch123/mdt1/projects/wes_jc_ukb_ibd/hail_merge/ukbb_634.vcf.gz', 'file:/lustre/scratch123/mdt1/projects/wes_jc_ukb_ibd/hail_merge/ukbb_145.vcf.gz', 'file:/lustre/scratch123/mdt1/projects/wes_jc_ukb_ibd/hail_merge/ukbb_225.vcf.gz', 'file:/lustre/scratch123/mdt1/projects/wes_jc_ukb_ibd/hail_merge/ukbb_102.vcf.gz', 'file:/lustre/scratch123/mdt1/projects/wes_jc_ukb_ibd/hail_merge/ukbb_548.vcf.gz', 'file:/lustre/scratch123/mdt1/projects/wes_jc_ukb_ibd/hail_merge/ukbb_525.vcf.gz', 'file:/lustre/scratch123/mdt1/projects/wes_jc_ukb_ibd/hail_merge/ukbb_580.vcf.gz', 'file:/lustre/scratch123/mdt1/projects/wes_jc_ukb_ibd/hail_merge/ukbb_167.vcf.gz', 'file:/lustre/scratch123/mdt1/projects/wes_jc_ukb_ibd/hail_merge/ukbb_567.vcf.gz', 'file:/lustre/scratch123/mdt1/projects/wes_jc_ukb_ibd/hail_merge/ukbb_855.vcf.gz', 'file:/lustre/scratch123/mdt1/projects/wes_jc_ukb_ibd/hail_merge/ukbb_116.vcf.gz', 'file:/lustre/scratch123/mdt1/projects/wes_jc_ukb_ibd/hail_merge/ukbb_9.vcf.gz', 'file:/lustre/scratch123/mdt1/projects/wes_jc_ukb_ibd/hail_merge/ukbb_686.vcf.gz', 'file:/lustre/scratch123/mdt1/projects/wes_jc_ukb_ibd/hail_merge/ukbb_627.vcf.gz', 'file:/lustre/scratch123/mdt1/projects/wes_jc_ukb_ibd/hail_merge/ukbb_625.vcf.gz', 'file:/lustre/scratch123/mdt1/projects/wes_jc_ukb_ibd/hail_merge/ukbb_304.vcf.gz', 'file:/lustre/scratch123/mdt1/projects/wes_jc_ukb_ibd/hail_merge/ukbb_61.vcf.gz', 'file:/lustre/scratch123/mdt1/projects/wes_jc_ukb_ibd/hail_merge/ukbb_834.vcf.gz', 'file:/lustre/scratch123/mdt1/projects/wes_jc_ukb_ibd/hail_merge/ukbb_40.vcf.gz', 'file:/lustre/scratch123/mdt1/projects/wes_jc_ukb_ibd/hail_merge/ukbb_421.vcf.gz', 'file:/lustre/scratch123/mdt1/projects/wes_jc_ukb_ibd/hail_merge/ukbb_536.vcf.gz', 'file:/lustre/scratch123/mdt1/projects/wes_jc_ukb_ibd/hail_merge/ukbb_636.vcf.gz', 'file:/lustre/scratch123/mdt1/projects/wes_jc_ukb_ibd/hail_merge/ukbb_366.vcf.gz', 'file:/lustre/scratch123/mdt1/projects/wes_jc_ukb_ibd/hail_merge/ukbb_505.vcf.gz', 'file:/lustre/scratch123/mdt1/projects/wes_jc_ukb_ibd/hail_merge/ukbb_669.vcf.gz', 'file:/lustre/scratch123/mdt1/projects/wes_jc_ukb_ibd/hail_merge/ukbb_762.vcf.gz', 'file:/lustre/scratch123/mdt1/projects/wes_jc_ukb_ibd/hail_merge/ukbb_891.vcf.gz', 'file:/lustre/scratch123/mdt1/projects/wes_jc_ukb_ibd/hail_merge/ukbb_958.vcf.gz', 'file:/lustre/scratch123/mdt1/projects/wes_jc_ukb_ibd/hail_merge/ukbb_969.vcf.gz', 'file:/lustre/scratch123/mdt1/projects/wes_jc_ukb_ibd/hail_merge/ukbb_90.vcf.gz', 'file:/lustre/scratch123/mdt1/projects/wes_jc_ukb_ibd/hail_merge/ukbb_151.vcf.gz', 'file:/lustre/scratch123/mdt1/projects/wes_jc_ukb_ibd/hail_merge/ukbb_724.vcf.gz', 'file:/lustre/scratch123/mdt1/projects/wes_jc_ukb_ibd/hail_merge/ukbb_721.vcf.gz', 'file:/lustre/scratch123/mdt1/projects/wes_jc_ukb_ibd/hail_merge/ukbb_833.vcf.gz', 'file:/lustre/scratch123/mdt1/projects/wes_jc_ukb_ibd/hail_merge/ukbb_485.vcf.gz', 'file:/lustre/scratch123/mdt1/projects/wes_jc_ukb_ibd/hail_merge/ukbb_909.vcf.gz', 'file:/lustre/scratch123/mdt1/projects/wes_jc_ukb_ibd/hail_merge/ukbb_962.vcf.gz', 'file:/lustre/scratch123/mdt1/projects/wes_jc_ukb_ibd/hail_merge/ukbb_355.vcf.gz', 'file:/lustre/scratch123/mdt1/projects/wes_jc_ukb_ibd/hail_merge/ukbb_695.vcf.gz', 'file:/lustre/scratch123/mdt1/projects/wes_jc_ukb_ibd/hail_merge/ukbb_660.vcf.gz', 'file:/lustre/scratch123/mdt1/projects/wes_jc_ukb_ibd/hail_merge/ukbb_831.vcf.gz', 'file:/lustre/scratch123/mdt1/projects/wes_jc_ukb_ibd/hail_merge/ukbb_449.vcf.gz', 'file:/lustre/scratch123/mdt1/projects/wes_jc_ukb_ibd/hail_merge/ukbb_672.vcf.gz', 'file:/lustre/scratch123/mdt1/projects/wes_jc_ukb_ibd/hail_merge/ukbb_476.vcf.gz', 'file:/lustre/scratch123/mdt1/projects/wes_jc_ukb_ibd/hail_merge/ukbb_50.vcf.gz', 'file:/lustre/scratch123/mdt1/projects/wes_jc_ukb_ibd/hail_merge/ukbb_594.vcf.gz', 'file:/lustre/scratch123/mdt1/projects/wes_jc_ukb_ibd/hail_merge/ukbb_697.vcf.gz', 'file:/lustre/scratch123/mdt1/projects/wes_jc_ukb_ibd/hail_merge/ukbb_593.vcf.gz', 'file:/lustre/scratch123/mdt1/projects/wes_jc_ukb_ibd/hail_merge/ukbb_720.vcf.gz', 'file:/lustre/scratch123/mdt1/projects/wes_jc_ukb_ibd/hail_merge/ukbb_488.vcf.gz', 'file:/lustre/scratch123/mdt1/projects/wes_jc_ukb_ibd/hail_merge/ukbb_577.vcf.gz', 'file:/lustre/scratch123/mdt1/projects/wes_jc_ukb_ibd/hail_merge/ukbb_113.vcf.gz', 'file:/lustre/scratch123/mdt1/projects/wes_jc_ukb_ibd/hail_merge/ukbb_541.vcf.gz', 'file:/lustre/scratch123/mdt1/projects/wes_jc_ukb_ibd/hail_merge/ukbb_563.vcf.gz', 'file:/lustre/scratch123/mdt1/projects/wes_jc_ukb_ibd/hail_merge/ukbb_808.vcf.gz', 'file:/lustre/scratch123/mdt1/projects/wes_jc_ukb_ibd/hail_merge/ukbb_799.vcf.gz', 'file:/lustre/scratch123/mdt1/projects/wes_jc_ukb_ibd/hail_merge/ukbb_130.vcf.gz', 'file:/lustre/scratch123/mdt1/projects/wes_jc_ukb_ibd/hail_merge/ukbb_214.vcf.gz', 'file:/lustre/scratch123/mdt1/projects/wes_jc_ukb_ibd/hail_merge/ukbb_33.vcf.gz', 'file:/lustre/scratch123/mdt1/projects/wes_jc_ukb_ibd/hail_merge/ukbb_340.vcf.gz', 'file:/lustre/scratch123/mdt1/projects/wes_jc_ukb_ibd/hail_merge/ukbb_37.vcf.gz', 'file:/lustre/scratch123/mdt1/projects/wes_jc_ukb_ibd/hail_merge/ukbb_322.vcf.gz', 'file:/lustre/scratch123/mdt1/projects/wes_jc_ukb_ibd/hail_merge/ukbb_874.vcf.gz', 'file:/lustre/scratch123/mdt1/projects/wes_jc_ukb_ibd/hail_merge/ukbb_247.vcf.gz', 'file:/lustre/scratch123/mdt1/projects/wes_jc_ukb_ibd/hail_merge/ukbb_523.vcf.gz', 'file:/lustre/scratch123/mdt1/projects/wes_jc_ukb_ibd/hail_merge/ukbb_953.vcf.gz', 'file:/lustre/scratch123/mdt1/projects/wes_jc_ukb_ibd/hail_merge/ukbb_332.vcf.gz', 'file:/lustre/scratch123/mdt1/projects/wes_jc_ukb_ibd/hail_merge/ukbb_279.vcf.gz', 'file:/lustre/scratch123/mdt1/projects/wes_jc_ukb_ibd/hail_merge/ukbb_707.vcf.gz', 'file:/lustre/scratch123/mdt1/projects/wes_jc_ukb_ibd/hail_merge/ukbb_713.vcf.gz', 'file:/lustre/scratch123/mdt1/projects/wes_jc_ukb_ibd/hail_merge/ukbb_597.vcf.gz', 'file:/lustre/scratch123/mdt1/projects/wes_jc_ukb_ibd/hail_merge/ukbb_454.vcf.gz', 'file:/lustre/scratch123/mdt1/projects/wes_jc_ukb_ibd/hail_merge/ukbb_150.vcf.gz', 'file:/lustre/scratch123/mdt1/projects/wes_jc_ukb_ibd/hail_merge/ukbb_792.vcf.gz', 'file:/lustre/scratch123/mdt1/projects/wes_jc_ukb_ibd/hail_merge/ukbb_453.vcf.gz', 'file:/lustre/scratch123/mdt1/projects/wes_jc_ukb_ibd/hail_merge/ukbb_58.vcf.gz', 'file:/lustre/scratch123/mdt1/projects/wes_jc_ukb_ibd/hail_merge/ukbb_930.vcf.gz', 'file:/lustre/scratch123/mdt1/projects/wes_jc_ukb_ibd/hail_merge/ukbb_264.vcf.gz', 'file:/lustre/scratch123/mdt1/projects/wes_jc_ukb_ibd/hail_merge/ukbb_219.vcf.gz', 'file:/lustre/scratch123/mdt1/projects/wes_jc_ukb_ibd/hail_merge/ukbb_420.vcf.gz', 'file:/lustre/scratch123/mdt1/projects/wes_jc_ukb_ibd/hail_merge/ukbb_213.vcf.gz', 'file:/lustre/scratch123/mdt1/projects/wes_jc_ukb_ibd/hail_merge/ukbb_177.vcf.gz', 'file:/lustre/scratch123/mdt1/projects/wes_jc_ukb_ibd/hail_merge/ukbb_640.vcf.gz', 'file:/lustre/scratch123/mdt1/projects/wes_jc_ukb_ibd/hail_merge/ukbb_153.vcf.gz', 'file:/lustre/scratch123/mdt1/projects/wes_jc_ukb_ibd/hail_merge/ukbb_616.vcf.gz', 'file:/lustre/scratch123/mdt1/projects/wes_jc_ukb_ibd/hail_merge/ukbb_647.vcf.gz', 'file:/lustre/scratch123/mdt1/projects/wes_jc_ukb_ibd/hail_merge/ukbb_892.vcf.gz', 'file:/lustre/scratch123/mdt1/projects/wes_jc_ukb_ibd/hail_merge/ukbb_313.vcf.gz', 'file:/lustre/scratch123/mdt1/projects/wes_jc_ukb_ibd/hail_merge/ukbb_290.vcf.gz', 'file:/lustre/scratch123/mdt1/projects/wes_jc_ukb_ibd/hail_merge/ukbb_467.vcf.gz', 'file:/lustre/scratch123/mdt1/projects/wes_jc_ukb_ibd/hail_merge/ukbb_945.vcf.gz', 'file:/lustre/scratch123/mdt1/projects/wes_jc_ukb_ibd/hail_merge/ukbb_114.vcf.gz', 'file:/lustre/scratch123/mdt1/projects/wes_jc_ukb_ibd/hail_merge/ukbb_188.vcf.gz', 'file:/lustre/scratch123/mdt1/projects/wes_jc_ukb_ibd/hail_merge/ukbb_956.vcf.gz', 'file:/lustre/scratch123/mdt1/projects/wes_jc_ukb_ibd/hail_merge/ukbb_383.vcf.gz', 'file:/lustre/scratch123/mdt1/projects/wes_jc_ukb_ibd/hail_merge/ukbb_601.vcf.gz', 'file:/lustre/scratch123/mdt1/projects/wes_jc_ukb_ibd/hail_merge/ukbb_11.vcf.gz', 'file:/lustre/scratch123/mdt1/projects/wes_jc_ukb_ibd/hail_merge/ukbb_487.vcf.gz', 'file:/lustre/scratch123/mdt1/projects/wes_jc_ukb_ibd/hail_merge/ukbb_804.vcf.gz', 'file:/lustre/scratch123/mdt1/projects/wes_jc_ukb_ibd/hail_merge/ukbb_728.vcf.gz', 'file:/lustre/scratch123/mdt1/projects/wes_jc_ukb_ibd/hail_merge/ukbb_147.vcf.gz', 'file:/lustre/scratch123/mdt1/projects/wes_jc_ukb_ibd/hail_merge/ukbb_783.vcf.gz', 'file:/lustre/scratch123/mdt1/projects/wes_jc_ukb_ibd/hail_merge/ukbb_491.vcf.gz', 'file:/lustre/scratch123/mdt1/projects/wes_jc_ukb_ibd/hail_merge/ukbb_128.vcf.gz', 'file:/lustre/scratch123/mdt1/projects/wes_jc_ukb_ibd/hail_merge/ukbb_960.vcf.gz', 'file:/lustre/scratch123/mdt1/projects/wes_jc_ukb_ibd/hail_merge/ukbb_405.vcf.gz', 'file:/lustre/scratch123/mdt1/projects/wes_jc_ukb_ibd/hail_merge/ukbb_181.vcf.gz', 'file:/lustre/scratch123/mdt1/projects/wes_jc_ukb_ibd/hail_merge/ukbb_186.vcf.gz', 'file:/lustre/scratch123/mdt1/projects/wes_jc_ukb_ibd/hail_merge/ukbb_772.vcf.gz', 'file:/lustre/scratch123/mdt1/projects/wes_jc_ukb_ibd/hail_merge/ukbb_468.vcf.gz', 'file:/lustre/scratch123/mdt1/projects/wes_jc_ukb_ibd/hail_merge/ukbb_584.vcf.gz', 'file:/lustre/scratch123/mdt1/projects/wes_jc_ukb_ibd/hail_merge/ukbb_876.vcf.gz', 'file:/lustre/scratch123/mdt1/projects/wes_jc_ukb_ibd/hail_merge/ukbb_624.vcf.gz', 'file:/lustre/scratch123/mdt1/projects/wes_jc_ukb_ibd/hail_merge/ukbb_338.vcf.gz', 'file:/lustre/scratch123/mdt1/projects/wes_jc_ukb_ibd/hail_merge/ukbb_142.vcf.gz', 'file:/lustre/scratch123/mdt1/projects/wes_jc_ukb_ibd/hail_merge/ukbb_295.vcf.gz', 'file:/lustre/scratch123/mdt1/projects/wes_jc_ukb_ibd/hail_merge/ukbb_746.vcf.gz', 'file:/lustre/scratch123/mdt1/projects/wes_jc_ukb_ibd/hail_merge/ukbb_801.vcf.gz', 'file:/lustre/scratch123/mdt1/projects/wes_jc_ukb_ibd/hail_merge/ukbb_959.vcf.gz', 'file:/lustre/scratch123/mdt1/projects/wes_jc_ukb_ibd/hail_merge/ukbb_216.vcf.gz', 'file:/lustre/scratch123/mdt1/projects/wes_jc_ukb_ibd/hail_merge/ukbb_67.vcf.gz', 'file:/lustre/scratch123/mdt1/projects/wes_jc_ukb_ibd/hail_merge/ukbb_243.vcf.gz', 'file:/lustre/scratch123/mdt1/projects/wes_jc_ukb_ibd/hail_merge/ukbb_121.vcf.gz', 'file:/lustre/scratch123/mdt1/projects/wes_jc_ukb_ibd/hail_merge/ukbb_27.vcf.gz', 'file:/lustre/scratch123/mdt1/projects/wes_jc_ukb_ibd/hail_merge/ukbb_250.vcf.gz', 'file:/lustre/scratch123/mdt1/projects/wes_jc_ukb_ibd/hail_merge/ukbb_543.vcf.gz', 'file:/lustre/scratch123/mdt1/projects/wes_jc_ukb_ibd/hail_merge/ukbb_934.vcf.gz', 'file:/lustre/scratch123/mdt1/projects/wes_jc_ukb_ibd/hail_merge/ukbb_784.vcf.gz', 'file:/lustre/scratch123/mdt1/projects/wes_jc_ukb_ibd/hail_merge/ukbb_631.vcf.gz', 'file:/lustre/scratch123/mdt1/projects/wes_jc_ukb_ibd/hail_merge/ukbb_599.vcf.gz', 'file:/lustre/scratch123/mdt1/projects/wes_jc_ukb_ibd/hail_merge/ukbb_400.vcf.gz', 'file:/lustre/scratch123/mdt1/projects/wes_jc_ukb_ibd/hail_merge/ukbb_198.vcf.gz', 'file:/lustre/scratch123/mdt1/projects/wes_jc_ukb_ibd/hail_merge/ukbb_399.vcf.gz', 'file:/lustre/scratch123/mdt1/projects/wes_jc_ukb_ibd/hail_merge/ukbb_110.vcf.gz', 'file:/lustre/scratch123/mdt1/projects/wes_jc_ukb_ibd/hail_merge/ukbb_316.vcf.gz', 'file:/lustre/scratch123/mdt1/projects/wes_jc_ukb_ibd/hail_merge/ukbb_353.vcf.gz', 'file:/lustre/scratch123/mdt1/projects/wes_jc_ukb_ibd/hail_merge/ukbb_126.vcf.gz', 'file:/lustre/scratch123/mdt1/projects/wes_jc_ukb_ibd/hail_merge/ukbb_396.vcf.gz', 'file:/lustre/scratch123/mdt1/projects/wes_jc_ukb_ibd/hail_merge/ukbb_844.vcf.gz', 'file:/lustre/scratch123/mdt1/projects/wes_jc_ukb_ibd/hail_merge/ukbb_97.vcf.gz', 'file:/lustre/scratch123/mdt1/projects/wes_jc_ukb_ibd/hail_merge/ukbb_56.vcf.gz', 'file:/lustre/scratch123/mdt1/projects/wes_jc_ukb_ibd/hail_merge/ukbb_307.vcf.gz', 'file:/lustre/scratch123/mdt1/projects/wes_jc_ukb_ibd/hail_merge/ukbb_342.vcf.gz', 'file:/lustre/scratch123/mdt1/projects/wes_jc_ukb_ibd/hail_merge/ukbb_140.vcf.gz', 'file:/lustre/scratch123/mdt1/projects/wes_jc_ukb_ibd/hail_merge/ukbb_240.vcf.gz', 'file:/lustre/scratch123/mdt1/projects/wes_jc_ukb_ibd/hail_merge/ukbb_395.vcf.gz', 'file:/lustre/scratch123/mdt1/projects/wes_jc_ukb_ibd/hail_merge/ukbb_756.vcf.gz', 'file:/lustre/scratch123/mdt1/projects/wes_jc_ukb_ibd/hail_merge/ukbb_779.vcf.gz', 'file:/lustre/scratch123/mdt1/projects/wes_jc_ukb_ibd/hail_merge/ukbb_552.vcf.gz', 'file:/lustre/scratch123/mdt1/projects/wes_jc_ukb_ibd/hail_merge/ukbb_508.vcf.gz', 'file:/lustre/scratch123/mdt1/projects/wes_jc_ukb_ibd/hail_merge/ukbb_526.vcf.gz', 'file:/lustre/scratch123/mdt1/projects/wes_jc_ukb_ibd/hail_merge/ukbb_499.vcf.gz', 'file:/lustre/scratch123/mdt1/projects/wes_jc_ukb_ibd/hail_merge/ukbb_189.vcf.gz', 'file:/lustre/scratch123/mdt1/projects/wes_jc_ukb_ibd/hail_merge/ukbb_249.vcf.gz', 'file:/lustre/scratch123/mdt1/projects/wes_jc_ukb_ibd/hail_merge/ukbb_810.vcf.gz', 'file:/lustre/scratch123/mdt1/projects/wes_jc_ukb_ibd/hail_merge/ukbb_973.vcf.gz', 'file:/lustre/scratch123/mdt1/projects/wes_jc_ukb_ibd/hail_merge/ukbb_120.vcf.gz', 'file:/lustre/scratch123/mdt1/projects/wes_jc_ukb_ibd/hail_merge/ukbb_373.vcf.gz', 'file:/lustre/scratch123/mdt1/projects/wes_jc_ukb_ibd/hail_merge/ukbb_698.vcf.gz', 'file:/lustre/scratch123/mdt1/projects/wes_jc_ukb_ibd/hail_merge/ukbb_657.vcf.gz', 'file:/lustre/scratch123/mdt1/projects/wes_jc_ukb_ibd/hail_merge/ukbb_416.vcf.gz', 'file:/lustre/scratch123/mdt1/projects/wes_jc_ukb_ibd/hail_merge/ukbb_805.vcf.gz', 'file:/lustre/scratch123/mdt1/projects/wes_jc_ukb_ibd/hail_merge/ukbb_29.vcf.gz', 'file:/lustre/scratch123/mdt1/projects/wes_jc_ukb_ibd/hail_merge/ukbb_99.vcf.gz', 'file:/lustre/scratch123/mdt1/projects/wes_jc_ukb_ibd/hail_merge/ukbb_178.vcf.gz', 'file:/lustre/scratch123/mdt1/projects/wes_jc_ukb_ibd/hail_merge/ukbb_859.vcf.gz', 'file:/lustre/scratch123/mdt1/projects/wes_jc_ukb_ibd/hail_merge/ukbb_557.vcf.gz', 'file:/lustre/scratch123/mdt1/projects/wes_jc_ukb_ibd/hail_merge/ukbb_910.vcf.gz', 'file:/lustre/scratch123/mdt1/projects/wes_jc_ukb_ibd/hail_merge/ukbb_725.vcf.gz', 'file:/lustre/scratch123/mdt1/projects/wes_jc_ukb_ibd/hail_merge/ukbb_529.vcf.gz', 'file:/lustre/scratch123/mdt1/projects/wes_jc_ukb_ibd/hail_merge/ukbb_259.vcf.gz', 'file:/lustre/scratch123/mdt1/projects/wes_jc_ukb_ibd/hail_merge/ukbb_581.vcf.gz', 'file:/lustre/scratch123/mdt1/projects/wes_jc_ukb_ibd/hail_merge/ukbb_299.vcf.gz', 'file:/lustre/scratch123/mdt1/projects/wes_jc_ukb_ibd/hail_merge/ukbb_101.vcf.gz', 'file:/lustre/scratch123/mdt1/projects/wes_jc_ukb_ibd/hail_merge/ukbb_74.vcf.gz', 'file:/lustre/scratch123/mdt1/projects/wes_jc_ukb_ibd/hail_merge/ukbb_639.vcf.gz', 'file:/lustre/scratch123/mdt1/projects/wes_jc_ukb_ibd/hail_merge/ukbb_889.vcf.gz', 'file:/lustre/scratch123/mdt1/projects/wes_jc_ukb_ibd/hail_merge/ukbb_315.vcf.gz', 'file:/lustre/scratch123/mdt1/projects/wes_jc_ukb_ibd/hail_merge/ukbb_519.vcf.gz', 'file:/lustre/scratch123/mdt1/projects/wes_jc_ukb_ibd/hail_merge/ukbb_829.vcf.gz', 'file:/lustre/scratch123/mdt1/projects/wes_jc_ukb_ibd/hail_merge/ukbb_317.vcf.gz', 'file:/lustre/scratch123/mdt1/projects/wes_jc_ukb_ibd/hail_merge/ukbb_821.vcf.gz', 'file:/lustre/scratch123/mdt1/projects/wes_jc_ukb_ibd/hail_merge/ukbb_75.vcf.gz', 'file:/lustre/scratch123/mdt1/projects/wes_jc_ukb_ibd/hail_merge/ukbb_83.vcf.gz', 'file:/lustre/scratch123/mdt1/projects/wes_jc_ukb_ibd/hail_merge/ukbb_535.vcf.gz', 'file:/lustre/scratch123/mdt1/projects/wes_jc_ukb_ibd/hail_merge/ukbb_341.vcf.gz', 'file:/lustre/scratch123/mdt1/projects/wes_jc_ukb_ibd/hail_merge/ukbb_93.vcf.gz', 'file:/lustre/scratch123/mdt1/projects/wes_jc_ukb_ibd/hail_merge/ukbb_651.vcf.gz', 'file:/lustre/scratch123/mdt1/projects/wes_jc_ukb_ibd/hail_merge/ukbb_952.vcf.gz', 'file:/lustre/scratch123/mdt1/projects/wes_jc_ukb_ibd/hail_merge/ukbb_861.vcf.gz', 'file:/lustre/scratch123/mdt1/projects/wes_jc_ukb_ibd/hail_merge/ukbb_820.vcf.gz', 'file:/lustre/scratch123/mdt1/projects/wes_jc_ukb_ibd/hail_merge/ukbb_401.vcf.gz', 'file:/lustre/scratch123/mdt1/projects/wes_jc_ukb_ibd/hail_merge/ukbb_12.vcf.gz', 'file:/lustre/scratch123/mdt1/projects/wes_jc_ukb_ibd/hail_merge/ukbb_182.vcf.gz', 'file:/lustre/scratch123/mdt1/projects/wes_jc_ukb_ibd/hail_merge/ukbb_156.vcf.gz', 'file:/lustre/scratch123/mdt1/projects/wes_jc_ukb_ibd/hail_merge/ukbb_896.vcf.gz', 'file:/lustre/scratch123/mdt1/projects/wes_jc_ukb_ibd/hail_merge/ukbb_62.vcf.gz', 'file:/lustre/scratch123/mdt1/projects/wes_jc_ukb_ibd/hail_merge/ukbb_966.vcf.gz', 'file:/lustre/scratch123/mdt1/projects/wes_jc_ukb_ibd/hail_merge/ukbb_473.vcf.gz', 'file:/lustre/scratch123/mdt1/projects/wes_jc_ukb_ibd/hail_merge/ukbb_66.vcf.gz', 'file:/lustre/scratch123/mdt1/projects/wes_jc_ukb_ibd/hail_merge/ukbb_382.vcf.gz', 'file:/lustre/scratch123/mdt1/projects/wes_jc_ukb_ibd/hail_merge/ukbb_904.vcf.gz', 'file:/lustre/scratch123/mdt1/projects/wes_jc_ukb_ibd/hail_merge/ukbb_125.vcf.gz', 'file:/lustre/scratch123/mdt1/projects/wes_jc_ukb_ibd/hail_merge/ukbb_333.vcf.gz', 'file:/lustre/scratch123/mdt1/projects/wes_jc_ukb_ibd/hail_merge/ukbb_931.vcf.gz', 'file:/lustre/scratch123/mdt1/projects/wes_jc_ukb_ibd/hail_merge/ukbb_773.vcf.gz', 'file:/lustre/scratch123/mdt1/projects/wes_jc_ukb_ibd/hail_merge/ukbb_856.vcf.gz', 'file:/lustre/scratch123/mdt1/projects/wes_jc_ukb_ibd/hail_merge/ukbb_574.vcf.gz', 'file:/lustre/scratch123/mdt1/projects/wes_jc_ukb_ibd/hail_merge/ukbb_469.vcf.gz', 'file:/lustre/scratch123/mdt1/projects/wes_jc_ukb_ibd/hail_merge/ukbb_255.vcf.gz', 'file:/lustre/scratch123/mdt1/projects/wes_jc_ukb_ibd/hail_merge/ukbb_645.vcf.gz', 'file:/lustre/scratch123/mdt1/projects/wes_jc_ukb_ibd/hail_merge/ukbb_511.vcf.gz', 'file:/lustre/scratch123/mdt1/projects/wes_jc_ukb_ibd/hail_merge/ukbb_228.vcf.gz', 'file:/lustre/scratch123/mdt1/projects/wes_jc_ukb_ibd/hail_merge/ukbb_903.vcf.gz', 'file:/lustre/scratch123/mdt1/projects/wes_jc_ukb_ibd/hail_merge/ukbb_446.vcf.gz', 'file:/lustre/scratch123/mdt1/projects/wes_jc_ukb_ibd/hail_merge/ukbb_927.vcf.gz', 'file:/lustre/scratch123/mdt1/projects/wes_jc_ukb_ibd/hail_merge/ukbb_884.vcf.gz', 'file:/lustre/scratch123/mdt1/projects/wes_jc_ukb_ibd/hail_merge/ukbb_154.vcf.gz', 'file:/lustre/scratch123/mdt1/projects/wes_jc_ukb_ibd/hail_merge/ukbb_888.vcf.gz', 'file:/lustre/scratch123/mdt1/projects/wes_jc_ukb_ibd/hail_merge/ukbb_589.vcf.gz', 'file:/lustre/scratch123/mdt1/projects/wes_jc_ukb_ibd/hail_merge/ukbb_165.vcf.gz', 'file:/lustre/scratch123/mdt1/projects/wes_jc_ukb_ibd/hail_merge/ukbb_498.vcf.gz', 'file:/lustre/scratch123/mdt1/projects/wes_jc_ukb_ibd/hail_merge/ukbb_362.vcf.gz', 'file:/lustre/scratch123/mdt1/projects/wes_jc_ukb_ibd/hail_merge/ukbb_302.vcf.gz', 'file:/lustre/scratch123/mdt1/projects/wes_jc_ukb_ibd/hail_merge/ukbb_840.vcf.gz', 'file:/lustre/scratch123/mdt1/projects/wes_jc_ukb_ibd/hail_merge/ukbb_614.vcf.gz', 'file:/lustre/scratch123/mdt1/projects/wes_jc_ukb_ibd/hail_merge/ukbb_210.vcf.gz', 'file:/lustre/scratch123/mdt1/projects/wes_jc_ukb_ibd/hail_merge/ukbb_608.vcf.gz', 'file:/lustre/scratch123/mdt1/projects/wes_jc_ukb_ibd/hail_merge/ukbb_96.vcf.gz', 'file:/lustre/scratch123/mdt1/projects/wes_jc_ukb_ibd/hail_merge/ukbb_832.vcf.gz', 'file:/lustre/scratch123/mdt1/projects/wes_jc_ukb_ibd/hail_merge/ukbb_160.vcf.gz', 'file:/lustre/scratch123/mdt1/projects/wes_jc_ukb_ibd/hail_merge/ukbb_311.vcf.gz', 'file:/lustre/scratch123/mdt1/projects/wes_jc_ukb_ibd/hail_merge/ukbb_426.vcf.gz', 'file:/lustre/scratch123/mdt1/projects/wes_jc_ukb_ibd/hail_merge/ukbb_872.vcf.gz', 'file:/lustre/scratch123/mdt1/projects/wes_jc_ukb_ibd/hail_merge/ukbb_886.vcf.gz', 'file:/lustre/scratch123/mdt1/projects/wes_jc_ukb_ibd/hail_merge/ukbb_586.vcf.gz', 'file:/lustre/scratch123/mdt1/projects/wes_jc_ukb_ibd/hail_merge/ukbb_100.vcf.gz', 'file:/lustre/scratch123/mdt1/projects/wes_jc_ukb_ibd/hail_merge/ukbb_13.vcf.gz', 'file:/lustre/scratch123/mdt1/projects/wes_jc_ukb_ibd/hail_merge/ukbb_179.vcf.gz', 'file:/lustre/scratch123/mdt1/projects/wes_jc_ukb_ibd/hail_merge/ukbb_524.vcf.gz', 'file:/lustre/scratch123/mdt1/projects/wes_jc_ukb_ibd/hail_merge/ukbb_812.vcf.gz', 'file:/lustre/scratch123/mdt1/projects/wes_jc_ukb_ibd/hail_merge/ukbb_787.vcf.gz', 'file:/lustre/scratch123/mdt1/projects/wes_jc_ukb_ibd/hail_merge/ukbb_242.vcf.gz', 'file:/lustre/scratch123/mdt1/projects/wes_jc_ukb_ibd/hail_merge/ukbb_917.vcf.gz', 'file:/lustre/scratch123/mdt1/projects/wes_jc_ukb_ibd/hail_merge/ukbb_158.vcf.gz', 'file:/lustre/scratch123/mdt1/projects/wes_jc_ukb_ibd/hail_merge/ukbb_46.vcf.gz', 'file:/lustre/scratch123/mdt1/projects/wes_jc_ukb_ibd/hail_merge/ukbb_25.vcf.gz', 'file:/lustre/scratch123/mdt1/projects/wes_jc_ukb_ibd/hail_merge/ukbb_722.vcf.gz', 'file:/lustre/scratch123/mdt1/projects/wes_jc_ukb_ibd/hail_merge/ukbb_184.vcf.gz', 'file:/lustre/scratch123/mdt1/projects/wes_jc_ukb_ibd/hail_merge/ukbb_252.vcf.gz', 'file:/lustre/scratch123/mdt1/projects/wes_jc_ukb_ibd/hail_merge/ukbb_441.vcf.gz', 'file:/lustre/scratch123/mdt1/projects/wes_jc_ukb_ibd/hail_merge/ukbb_112.vcf.gz', 'file:/lustre/scratch123/mdt1/projects/wes_jc_ukb_ibd/hail_merge/ukbb_360.vcf.gz', 'file:/lustre/scratch123/mdt1/projects/wes_jc_ukb_ibd/hail_merge/ukbb_3.vcf.gz', 'file:/lustre/scratch123/mdt1/projects/wes_jc_ukb_ibd/hail_merge/ukbb_105.vcf.gz', 'file:/lustre/scratch123/mdt1/projects/wes_jc_ukb_ibd/hail_merge/ukbb_326.vcf.gz', 'file:/lustre/scratch123/mdt1/projects/wes_jc_ukb_ibd/hail_merge/ukbb_209.vcf.gz', 'file:/lustre/scratch123/mdt1/projects/wes_jc_ukb_ibd/hail_merge/ukbb_104.vcf.gz', 'file:/lustre/scratch123/mdt1/projects/wes_jc_ukb_ibd/hail_merge/ukbb_745.vcf.gz', 'file:/lustre/scratch123/mdt1/projects/wes_jc_ukb_ibd/hail_merge/ukbb_778.vcf.gz', 'file:/lustre/scratch123/mdt1/projects/wes_jc_ukb_ibd/hail_merge/ukbb_211.vcf.gz', 'file:/lustre/scratch123/mdt1/projects/wes_jc_ukb_ibd/hail_merge/ukbb_776.vcf.gz', 'file:/lustre/scratch123/mdt1/projects/wes_jc_ukb_ibd/hail_merge/ukbb_39.vcf.gz', 'file:/lustre/scratch123/mdt1/projects/wes_jc_ukb_ibd/hail_merge/ukbb_512.vcf.gz', 'file:/lustre/scratch123/mdt1/projects/wes_jc_ukb_ibd/hail_merge/ukbb_358.vcf.gz', 'file:/lustre/scratch123/mdt1/projects/wes_jc_ukb_ibd/hail_merge/ukbb_479.vcf.gz', 'file:/lustre/scratch123/mdt1/projects/wes_jc_ukb_ibd/hail_merge/ukbb_522.vcf.gz', 'file:/lustre/scratch123/mdt1/projects/wes_jc_ukb_ibd/hail_merge/ukbb_715.vcf.gz', 'file:/lustre/scratch123/mdt1/projects/wes_jc_ukb_ibd/hail_merge/ukbb_556.vcf.gz', 'file:/lustre/scratch123/mdt1/projects/wes_jc_ukb_ibd/hail_merge/ukbb_770.vcf.gz', 'file:/lustre/scratch123/mdt1/projects/wes_jc_ukb_ibd/hail_merge/ukbb_82.vcf.gz', 'file:/lustre/scratch123/mdt1/projects/wes_jc_ukb_ibd/hail_merge/ukbb_941.vcf.gz', 'file:/lustre/scratch123/mdt1/projects/wes_jc_ukb_ibd/hail_merge/ukbb_35.vcf.gz', 'file:/lustre/scratch123/mdt1/projects/wes_jc_ukb_ibd/hail_merge/ukbb_811.vcf.gz', 'file:/lustre/scratch123/mdt1/projects/wes_jc_ukb_ibd/hail_merge/ukbb_379.vcf.gz', 'file:/lustre/scratch123/mdt1/projects/wes_jc_ukb_ibd/hail_merge/ukbb_149.vcf.gz', 'file:/lustre/scratch123/mdt1/projects/wes_jc_ukb_ibd/hail_merge/ukbb_935.vcf.gz', 'file:/lustre/scratch123/mdt1/projects/wes_jc_ukb_ibd/hail_merge/ukbb_16.vcf.gz', 'file:/lustre/scratch123/mdt1/projects/wes_jc_ukb_ibd/hail_merge/ukbb_900.vcf.gz', 'file:/lustre/scratch123/mdt1/projects/wes_jc_ukb_ibd/hail_merge/ukbb_682.vcf.gz', 'file:/lustre/scratch123/mdt1/projects/wes_jc_ukb_ibd/hail_merge/ukbb_212.vcf.gz', 'file:/lustre/scratch123/mdt1/projects/wes_jc_ukb_ibd/hail_merge/ukbb_248.vcf.gz', 'file:/lustre/scratch123/mdt1/projects/wes_jc_ukb_ibd/hail_merge/ukbb_271.vcf.gz', 'file:/lustre/scratch123/mdt1/projects/wes_jc_ukb_ibd/hail_merge/ukbb_880.vcf.gz', 'file:/lustre/scratch123/mdt1/projects/wes_jc_ukb_ibd/hail_merge/ukbb_738.vcf.gz', 'file:/lustre/scratch123/mdt1/projects/wes_jc_ukb_ibd/hail_merge/ukbb_948.vcf.gz', 'file:/lustre/scratch123/mdt1/projects/wes_jc_ukb_ibd/hail_merge/ukbb_86.vcf.gz', 'file:/lustre/scratch123/mdt1/projects/wes_jc_ukb_ibd/hail_merge/ukbb_906.vcf.gz', 'file:/lustre/scratch123/mdt1/projects/wes_jc_ukb_ibd/hail_merge/ukbb_452.vcf.gz', 'file:/lustre/scratch123/mdt1/projects/wes_jc_ukb_ibd/hail_merge/ukbb_898.vcf.gz', 'file:/lustre/scratch123/mdt1/projects/wes_jc_ukb_ibd/hail_merge/ukbb_308.vcf.gz', 'file:/lustre/scratch123/mdt1/projects/wes_jc_ukb_ibd/hail_merge/ukbb_328.vcf.gz', 'file:/lustre/scratch123/mdt1/projects/wes_jc_ukb_ibd/hail_merge/ukbb_733.vcf.gz', 'file:/lustre/scratch123/mdt1/projects/wes_jc_ukb_ibd/hail_merge/ukbb_166.vcf.gz', 'file:/lustre/scratch123/mdt1/projects/wes_jc_ukb_ibd/hail_merge/ukbb_977.vcf.gz', 'file:/lustre/scratch123/mdt1/projects/wes_jc_ukb_ibd/hail_merge/ukbb_256.vcf.gz', 'file:/lustre/scratch123/mdt1/projects/wes_jc_ukb_ibd/hail_merge/ukbb_972.vcf.gz', 'file:/lustre/scratch123/mdt1/projects/wes_jc_ukb_ibd/hail_merge/ukbb_253.vcf.gz', 'file:/lustre/scratch123/mdt1/projects/wes_jc_ukb_ibd/hail_merge/ukbb_392.vcf.gz', 'file:/lustre/scratch123/mdt1/projects/wes_jc_ukb_ibd/hail_merge/ukbb_730.vcf.gz', 'file:/lustre/scratch123/mdt1/projects/wes_jc_ukb_ibd/hail_merge/ukbb_164.vcf.gz', 'file:/lustre/scratch123/mdt1/projects/wes_jc_ukb_ibd/hail_merge/ukbb_843.vcf.gz', 'file:/lustre/scratch123/mdt1/projects/wes_jc_ukb_ibd/hail_merge/ukbb_309.vcf.gz', 'file:/lustre/scratch123/mdt1/projects/wes_jc_ukb_ibd/hail_merge/ukbb_367.vcf.gz', 'file:/lustre/scratch123/mdt1/projects/wes_jc_ukb_ibd/hail_merge/ukbb_106.vcf.gz', 'file:/lustre/scratch123/mdt1/projects/wes_jc_ukb_ibd/hail_merge/ukbb_23.vcf.gz', 'file:/lustre/scratch123/mdt1/projects/wes_jc_ukb_ibd/hail_merge/ukbb_659.vcf.gz', 'file:/lustre/scratch123/mdt1/projects/wes_jc_ukb_ibd/hail_merge/ukbb_227.vcf.gz', 'file:/lustre/scratch123/mdt1/projects/wes_jc_ukb_ibd/hail_merge/ukbb_155.vcf.gz', 'file:/lustre/scratch123/mdt1/projects/wes_jc_ukb_ibd/hail_merge/ukbb_494.vcf.gz', 'file:/lustre/scratch123/mdt1/projects/wes_jc_ukb_ibd/hail_merge/ukbb_848.vcf.gz', 'file:/lustre/scratch123/mdt1/projects/wes_jc_ukb_ibd/hail_merge/ukbb_514.vcf.gz', 'file:/lustre/scratch123/mdt1/projects/wes_jc_ukb_ibd/hail_merge/ukbb_788.vcf.gz', 'file:/lustre/scratch123/mdt1/projects/wes_jc_ukb_ibd/hail_merge/ukbb_538.vcf.gz', 'file:/lustre/scratch123/mdt1/projects/wes_jc_ukb_ibd/hail_merge/ukbb_689.vcf.gz', 'file:/lustre/scratch123/mdt1/projects/wes_jc_ukb_ibd/hail_merge/ukbb_565.vcf.gz', 'file:/lustre/scratch123/mdt1/projects/wes_jc_ukb_ibd/hail_merge/ukbb_65.vcf.gz', 'file:/lustre/scratch123/mdt1/projects/wes_jc_ukb_ibd/hail_merge/ukbb_545.vcf.gz', 'file:/lustre/scratch123/mdt1/projects/wes_jc_ukb_ibd/hail_merge/ukbb_635.vcf.gz', 'file:/lustre/scratch123/mdt1/projects/wes_jc_ukb_ibd/hail_merge/ukbb_925.vcf.gz', 'file:/lustre/scratch123/mdt1/projects/wes_jc_ukb_ibd/hail_merge/ukbb_460.vcf.gz', 'file:/lustre/scratch123/mdt1/projects/wes_jc_ukb_ibd/hail_merge/ukbb_36.vcf.gz', 'file:/lustre/scratch123/mdt1/projects/wes_jc_ukb_ibd/hail_merge/ukbb_482.vcf.gz', 'file:/lustre/scratch123/mdt1/projects/wes_jc_ukb_ibd/hail_merge/ukbb_592.vcf.gz', 'file:/lustre/scratch123/mdt1/projects/wes_jc_ukb_ibd/hail_merge/ukbb_337.vcf.gz', 'file:/lustre/scratch123/mdt1/projects/wes_jc_ukb_ibd/hail_merge/ukbb_968.vcf.gz', 'file:/lustre/scratch123/mdt1/projects/wes_jc_ukb_ibd/hail_merge/ukbb_630.vcf.gz', 'file:/lustre/scratch123/mdt1/projects/wes_jc_ukb_ibd/hail_merge/ukbb_798.vcf.gz', 'file:/lustre/scratch123/mdt1/projects/wes_jc_ukb_ibd/hail_merge/ukbb_236.vcf.gz', 'file:/lustre/scratch123/mdt1/projects/wes_jc_ukb_ibd/hail_merge/ukbb_559.vcf.gz', 'file:/lustre/scratch123/mdt1/projects/wes_jc_ukb_ibd/hail_merge/ukbb_551.vcf.gz', 'file:/lustre/scratch123/mdt1/projects/wes_jc_ukb_ibd/hail_merge/ukbb_69.vcf.gz', 'file:/lustre/scratch123/mdt1/projects/wes_jc_ukb_ibd/hail_merge/ukbb_77.vcf.gz', 'file:/lustre/scratch123/mdt1/projects/wes_jc_ukb_ibd/hail_merge/ukbb_759.vcf.gz', 'file:/lustre/scratch123/mdt1/projects/wes_jc_ukb_ibd/hail_merge/ukbb_857.vcf.gz', 'file:/lustre/scratch123/mdt1/projects/wes_jc_ukb_ibd/hail_merge/ukbb_334.vcf.gz', 'file:/lustre/scratch123/mdt1/projects/wes_jc_ukb_ibd/hail_merge/ukbb_197.vcf.gz', 'file:/lustre/scratch123/mdt1/projects/wes_jc_ukb_ibd/hail_merge/ukbb_305.vcf.gz', 'file:/lustre/scratch123/mdt1/projects/wes_jc_ukb_ibd/hail_merge/ukbb_796.vcf.gz', 'file:/lustre/scratch123/mdt1/projects/wes_jc_ukb_ibd/hail_merge/ukbb_947.vcf.gz', 'file:/lustre/scratch123/mdt1/projects/wes_jc_ukb_ibd/hail_merge/ukbb_348.vcf.gz', 'file:/lustre/scratch123/mdt1/projects/wes_jc_ukb_ibd/hail_merge/ukbb_673.vcf.gz', 'file:/lustre/scratch123/mdt1/projects/wes_jc_ukb_ibd/hail_merge/ukbb_791.vcf.gz', 'file:/lustre/scratch123/mdt1/projects/wes_jc_ukb_ibd/hail_merge/ukbb_138.vcf.gz', 'file:/lustre/scratch123/mdt1/projects/wes_jc_ukb_ibd/hail_merge/ukbb_561.vcf.gz', 'file:/lustre/scratch123/mdt1/projects/wes_jc_ukb_ibd/hail_merge/ukbb_127.vcf.gz', 'file:/lustre/scratch123/mdt1/projects/wes_jc_ukb_ibd/hail_merge/ukbb_766.vcf.gz', 'file:/lustre/scratch123/mdt1/projects/wes_jc_ukb_ibd/hail_merge/ukbb_391.vcf.gz', 'file:/lustre/scratch123/mdt1/projects/wes_jc_ukb_ibd/hail_merge/ukbb_43.vcf.gz', 'file:/lustre/scratch123/mdt1/projects/wes_jc_ukb_ibd/hail_merge/ukbb_883.vcf.gz', 'file:/lustre/scratch123/mdt1/projects/wes_jc_ukb_ibd/hail_merge/ukbb_411.vcf.gz', 'file:/lustre/scratch123/mdt1/projects/wes_jc_ukb_ibd/hail_merge/ukbb_344.vcf.gz', 'file:/lustre/scratch123/mdt1/projects/wes_jc_ukb_ibd/hail_merge/ukbb_836.vcf.gz', 'file:/lustre/scratch123/mdt1/projects/wes_jc_ukb_ibd/hail_merge/ukbb_386.vcf.gz', 'file:/lustre/scratch123/mdt1/projects/wes_jc_ukb_ibd/hail_merge/ukbb_591.vcf.gz', 'file:/lustre/scratch123/mdt1/projects/wes_jc_ukb_ibd/hail_merge/ukbb_547.vcf.gz', 'file:/lustre/scratch123/mdt1/projects/wes_jc_ukb_ibd/hail_merge/ukbb_455.vcf.gz', 'file:/lustre/scratch123/mdt1/projects/wes_jc_ukb_ibd/hail_merge/ukbb_478.vcf.gz', 'file:/lustre/scratch123/mdt1/projects/wes_jc_ukb_ibd/hail_merge/ukbb_664.vcf.gz', 'file:/lustre/scratch123/mdt1/projects/wes_jc_ukb_ibd/hail_merge/ukbb_48.vcf.gz', 'file:/lustre/scratch123/mdt1/projects/wes_jc_ukb_ibd/hail_merge/ukbb_370.vcf.gz', 'file:/lustre/scratch123/mdt1/projects/wes_jc_ukb_ibd/hail_merge/ukbb_410.vcf.gz', 'file:/lustre/scratch123/mdt1/projects/wes_jc_ukb_ibd/hail_merge/ukbb_600.vcf.gz', 'file:/lustre/scratch123/mdt1/projects/wes_jc_ukb_ibd/hail_merge/ukbb_226.vcf.gz', 'file:/lustre/scratch123/mdt1/projects/wes_jc_ukb_ibd/hail_merge/ukbb_825.vcf.gz', 'file:/lustre/scratch123/mdt1/projects/wes_jc_ukb_ibd/hail_merge/ukbb_701.vcf.gz', 'file:/lustre/scratch123/mdt1/projects/wes_jc_ukb_ibd/hail_merge/ukbb_623.vcf.gz', 'file:/lustre/scratch123/mdt1/projects/wes_jc_ukb_ibd/hail_merge/ukbb_598.vcf.gz', 'file:/lustre/scratch123/mdt1/projects/wes_jc_ukb_ibd/hail_merge/ukbb_643.vcf.gz', 'file:/lustre/scratch123/mdt1/projects/wes_jc_ukb_ibd/hail_merge/ukbb_330.vcf.gz', 'file:/lustre/scratch123/mdt1/projects/wes_jc_ukb_ibd/hail_merge/ukbb_729.vcf.gz', 'file:/lustre/scratch123/mdt1/projects/wes_jc_ukb_ibd/hail_merge/ukbb_275.vcf.gz', 'file:/lustre/scratch123/mdt1/projects/wes_jc_ukb_ibd/hail_merge/ukbb_747.vcf.gz', 'file:/lustre/scratch123/mdt1/projects/wes_jc_ukb_ibd/hail_merge/ukbb_72.vcf.gz', 'file:/lustre/scratch123/mdt1/projects/wes_jc_ukb_ibd/hail_merge/ukbb_303.vcf.gz', 'file:/lustre/scratch123/mdt1/projects/wes_jc_ukb_ibd/hail_merge/ukbb_196.vcf.gz', 'file:/lustre/scratch123/mdt1/projects/wes_jc_ukb_ibd/hail_merge/ukbb_31.vcf.gz', 'file:/lustre/scratch123/mdt1/projects/wes_jc_ukb_ibd/hail_merge/ukbb_681.vcf.gz', 'file:/lustre/scratch123/mdt1/projects/wes_jc_ukb_ibd/hail_merge/ukbb_731.vcf.gz', 'file:/lustre/scratch123/mdt1/projects/wes_jc_ukb_ibd/hail_merge/ukbb_949.vcf.gz', 'file:/lustre/scratch123/mdt1/projects/wes_jc_ukb_ibd/hail_merge/ukbb_208.vcf.gz', 'file:/lustre/scratch123/mdt1/projects/wes_jc_ukb_ibd/hail_merge/ukbb_239.vcf.gz', 'file:/lustre/scratch123/mdt1/projects/wes_jc_ukb_ibd/hail_merge/ukbb_579.vcf.gz', 'file:/lustre/scratch123/mdt1/projects/wes_jc_ukb_ibd/hail_merge/ukbb_644.vcf.gz', 'file:/lustre/scratch123/mdt1/projects/wes_jc_ukb_ibd/hail_merge/ukbb_790.vcf.gz', 'file:/lustre/scratch123/mdt1/projects/wes_jc_ukb_ibd/hail_merge/ukbb_868.vcf.gz', 'file:/lustre/scratch123/mdt1/projects/wes_jc_ukb_ibd/hail_merge/ukbb_846.vcf.gz', 'file:/lustre/scratch123/mdt1/projects/wes_jc_ukb_ibd/hail_merge/ukbb_296.vcf.gz', 'file:/lustre/scratch123/mdt1/projects/wes_jc_ukb_ibd/hail_merge/ukbb_76.vcf.gz', 'file:/lustre/scratch123/mdt1/projects/wes_jc_ukb_ibd/hail_merge/ukbb_63.vcf.gz', 'file:/lustre/scratch123/mdt1/projects/wes_jc_ukb_ibd/hail_merge/ukbb_683.vcf.gz', 'file:/lustre/scratch123/mdt1/projects/wes_jc_ukb_ibd/hail_merge/ukbb_853.vcf.gz', 'file:/lustre/scratch123/mdt1/projects/wes_jc_ukb_ibd/hail_merge/ukbb_456.vcf.gz', 'file:/lustre/scratch123/mdt1/projects/wes_jc_ukb_ibd/hail_merge/ukbb_291.vcf.gz', 'file:/lustre/scratch123/mdt1/projects/wes_jc_ukb_ibd/hail_merge/ukbb_162.vcf.gz', 'file:/lustre/scratch123/mdt1/projects/wes_jc_ukb_ibd/hail_merge/ukbb_172.vcf.gz', 'file:/lustre/scratch123/mdt1/projects/wes_jc_ukb_ibd/hail_merge/ukbb_222.vcf.gz', 'file:/lustre/scratch123/mdt1/projects/wes_jc_ukb_ibd/hail_merge/ukbb_924.vcf.gz', 'file:/lustre/scratch123/mdt1/projects/wes_jc_ukb_ibd/hail_merge/ukbb_287.vcf.gz', 'file:/lustre/scratch123/mdt1/projects/wes_jc_ukb_ibd/hail_merge/ukbb_300.vcf.gz', 'file:/lustre/scratch123/mdt1/projects/wes_jc_ukb_ibd/hail_merge/ukbb_842.vcf.gz', 'file:/lustre/scratch123/mdt1/projects/wes_jc_ukb_ibd/hail_merge/ukbb_207.vcf.gz', 'file:/lustre/scratch123/mdt1/projects/wes_jc_ukb_ibd/hail_merge/ukbb_950.vcf.gz', 'file:/lustre/scratch123/mdt1/projects/wes_jc_ukb_ibd/hail_merge/ukbb_440.vcf.gz', 'file:/lustre/scratch123/mdt1/projects/wes_jc_ukb_ibd/hail_merge/ukbb_361.vcf.gz', 'file:/lustre/scratch123/mdt1/projects/wes_jc_ukb_ibd/hail_merge/ukbb_5.vcf.gz', 'file:/lustre/scratch123/mdt1/projects/wes_jc_ukb_ibd/hail_merge/ukbb_38.vcf.gz', 'file:/lustre/scratch123/mdt1/projects/wes_jc_ukb_ibd/hail_merge/ukbb_740.vcf.gz', 'file:/lustre/scratch123/mdt1/projects/wes_jc_ukb_ibd/hail_merge/ukbb_437.vcf.gz', 'file:/lustre/scratch123/mdt1/projects/wes_jc_ukb_ibd/hail_merge/ukbb_371.vcf.gz', 'file:/lustre/scratch123/mdt1/projects/wes_jc_ukb_ibd/hail_merge/ukbb_218.vcf.gz', 'file:/lustre/scratch123/mdt1/projects/wes_jc_ukb_ibd/hail_merge/ukbb_680.vcf.gz', 'file:/lustre/scratch123/mdt1/projects/wes_jc_ukb_ibd/hail_merge/ukbb_246.vcf.gz', 'file:/lustre/scratch123/mdt1/projects/wes_jc_ukb_ibd/hail_merge/ukbb_480.vcf.gz', 'file:/lustre/scratch123/mdt1/projects/wes_jc_ukb_ibd/hail_merge/ukbb_412.vcf.gz', 'file:/lustre/scratch123/mdt1/projects/wes_jc_ukb_ibd/hail_merge/ukbb_794.vcf.gz', 'file:/lustre/scratch123/mdt1/projects/wes_jc_ukb_ibd/hail_merge/ukbb_423.vcf.gz', 'file:/lustre/scratch123/mdt1/projects/wes_jc_ukb_ibd/hail_merge/ukbb_971.vcf.gz', 'file:/lustre/scratch123/mdt1/projects/wes_jc_ukb_ibd/hail_merge/ukbb_331.vcf.gz', 'file:/lustre/scratch123/mdt1/projects/wes_jc_ukb_ibd/hail_merge/ukbb_134.vcf.gz', 'file:/lustre/scratch123/mdt1/projects/wes_jc_ukb_ibd/hail_merge/ukbb_626.vcf.gz', 'file:/lustre/scratch123/mdt1/projects/wes_jc_ukb_ibd/hail_merge/ukbb_912.vcf.gz', 'file:/lustre/scratch123/mdt1/projects/wes_jc_ukb_ibd/hail_merge/ukbb_572.vcf.gz', 'file:/lustre/scratch123/mdt1/projects/wes_jc_ukb_ibd/hail_merge/ukbb_133.vcf.gz', 'file:/lustre/scratch123/mdt1/projects/wes_jc_ukb_ibd/hail_merge/ukbb_404.vcf.gz', 'file:/lustre/scratch123/mdt1/projects/wes_jc_ukb_ibd/hail_merge/ukbb_694.vcf.gz', 'file:/lustre/scratch123/mdt1/projects/wes_jc_ukb_ibd/hail_merge/ukbb_394.vcf.gz', 'file:/lustre/scratch123/mdt1/projects/wes_jc_ukb_ibd/hail_merge/ukbb_858.vcf.gz', 'file:/lustre/scratch123/mdt1/projects/wes_jc_ukb_ibd/hail_merge/ukbb_262.vcf.gz', 'file:/lustre/scratch123/mdt1/projects/wes_jc_ukb_ibd/hail_merge/ukbb_687.vcf.gz', 'file:/lustre/scratch123/mdt1/projects/wes_jc_ukb_ibd/hail_merge/ukbb_402.vcf.gz', 'file:/lustre/scratch123/mdt1/projects/wes_jc_ukb_ibd/hail_merge/ukbb_261.vcf.gz', 'file:/lustre/scratch123/mdt1/projects/wes_jc_ukb_ibd/hail_merge/ukbb_60.vcf.gz', 'file:/lustre/scratch123/mdt1/projects/wes_jc_ukb_ibd/hail_merge/ukbb_8.vcf.gz', 'file:/lustre/scratch123/mdt1/projects/wes_jc_ukb_ibd/hail_merge/ukbb_168.vcf.gz', 'file:/lustre/scratch123/mdt1/projects/wes_jc_ukb_ibd/hail_merge/ukbb_823.vcf.gz', 'file:/lustre/scratch123/mdt1/projects/wes_jc_ukb_ibd/hail_merge/ukbb_610.vcf.gz', 'file:/lustre/scratch123/mdt1/projects/wes_jc_ukb_ibd/hail_merge/ukbb_709.vcf.gz', 'file:/lustre/scratch123/mdt1/projects/wes_jc_ukb_ibd/hail_merge/ukbb_381.vcf.gz', 'file:/lustre/scratch123/mdt1/projects/wes_jc_ukb_ibd/hail_merge/ukbb_575.vcf.gz', 'file:/lustre/scratch123/mdt1/projects/wes_jc_ukb_ibd/hail_merge/ukbb_51.vcf.gz', 'file:/lustre/scratch123/mdt1/projects/wes_jc_ukb_ibd/hail_merge/ukbb_442.vcf.gz', 'file:/lustre/scratch123/mdt1/projects/wes_jc_ukb_ibd/hail_merge/ukbb_407.vcf.gz', 'file:/lustre/scratch123/mdt1/projects/wes_jc_ukb_ibd/hail_merge/ukbb_602.vcf.gz', 'file:/lustre/scratch123/mdt1/projects/wes_jc_ukb_ibd/hail_merge/ukbb_496.vcf.gz', 'file:/lustre/scratch123/mdt1/projects/wes_jc_ukb_ibd/hail_merge/ukbb_596.vcf.gz', 'file:/lustre/scratch123/mdt1/projects/wes_jc_ukb_ibd/hail_merge/ukbb_294.vcf.gz', 'file:/lustre/scratch123/mdt1/projects/wes_jc_ukb_ibd/hail_merge/ukbb_700.vcf.gz', 'file:/lustre/scratch123/mdt1/projects/wes_jc_ukb_ibd/hail_merge/ukbb_595.vcf.gz', 'file:/lustre/scratch123/mdt1/projects/wes_jc_ukb_ibd/hail_merge/ukbb_59.vcf.gz', 'file:/lustre/scratch123/mdt1/projects/wes_jc_ukb_ibd/hail_merge/ukbb_793.vcf.gz', 'file:/lustre/scratch123/mdt1/projects/wes_jc_ukb_ibd/hail_merge/ukbb_699.vcf.gz', 'file:/lustre/scratch123/mdt1/projects/wes_jc_ukb_ibd/hail_merge/ukbb_464.vcf.gz', 'file:/lustre/scratch123/mdt1/projects/wes_jc_ukb_ibd/hail_merge/ukbb_797.vcf.gz', 'file:/lustre/scratch123/mdt1/projects/wes_jc_ukb_ibd/hail_merge/ukbb_470.vcf.gz', 'file:/lustre/scratch123/mdt1/projects/wes_jc_ukb_ibd/hail_merge/ukbb_758.vcf.gz', 'file:/lustre/scratch123/mdt1/projects/wes_jc_ukb_ibd/hail_merge/ukbb_588.vcf.gz', 'file:/lustre/scratch123/mdt1/projects/wes_jc_ukb_ibd/hail_merge/ukbb_327.vcf.gz', 'file:/lustre/scratch123/mdt1/projects/wes_jc_ukb_ibd/hail_merge/ukbb_562.vcf.gz', 'file:/lustre/scratch123/mdt1/projects/wes_jc_ukb_ibd/hail_merge/ukbb_109.vcf.gz', 'file:/lustre/scratch123/mdt1/projects/wes_jc_ukb_ibd/hail_merge/ukbb_603.vcf.gz', 'file:/lustre/scratch123/mdt1/projects/wes_jc_ukb_ibd/hail_merge/ukbb_489.vcf.gz', 'file:/lustre/scratch123/mdt1/projects/wes_jc_ukb_ibd/hail_merge/ukbb_531.vcf.gz', 'file:/lustre/scratch123/mdt1/projects/wes_jc_ukb_ibd/hail_merge/ukbb_743.vcf.gz', 'file:/lustre/scratch123/mdt1/projects/wes_jc_ukb_ibd/hail_merge/ukbb_363.vcf.gz', 'file:/lustre/scratch123/mdt1/projects/wes_jc_ukb_ibd/hail_merge/ukbb_739.vcf.gz', 'file:/lustre/scratch123/mdt1/projects/wes_jc_ukb_ibd/hail_merge/ukbb_199.vcf.gz', 'file:/lustre/scratch123/mdt1/projects/wes_jc_ukb_ibd/hail_merge/ukbb_170.vcf.gz', 'file:/lustre/scratch123/mdt1/projects/wes_jc_ukb_ibd/hail_merge/ukbb_201.vcf.gz', 'file:/lustre/scratch123/mdt1/projects/wes_jc_ukb_ibd/hail_merge/ukbb_323.vcf.gz', 'file:/lustre/scratch123/mdt1/projects/wes_jc_ukb_ibd/hail_merge/ukbb_922.vcf.gz', 'file:/lustre/scratch123/mdt1/projects/wes_jc_ukb_ibd/hail_merge/ukbb_711.vcf.gz', 'file:/lustre/scratch123/mdt1/projects/wes_jc_ukb_ibd/hail_merge/ukbb_879.vcf.gz', 'file:/lustre/scratch123/mdt1/projects/wes_jc_ukb_ibd/hail_merge/ukbb_377.vcf.gz', 'file:/lustre/scratch123/mdt1/projects/wes_jc_ukb_ibd/hail_merge/ukbb_869.vcf.gz', 'file:/lustre/scratch123/mdt1/projects/wes_jc_ukb_ibd/hail_merge/ukbb_513.vcf.gz', 'file:/lustre/scratch123/mdt1/projects/wes_jc_ukb_ibd/hail_merge/ukbb_88.vcf.gz', 'file:/lustre/scratch123/mdt1/projects/wes_jc_ukb_ibd/hail_merge/ukbb_54.vcf.gz', 'file:/lustre/scratch123/mdt1/projects/wes_jc_ukb_ibd/hail_merge/ukbb_495.vcf.gz', 'file:/lustre/scratch123/mdt1/projects/wes_jc_ukb_ibd/hail_merge/ukbb_764.vcf.gz', 'file:/lustre/scratch123/mdt1/projects/wes_jc_ukb_ibd/hail_merge/ukbb_847.vcf.gz', 'file:/lustre/scratch123/mdt1/projects/wes_jc_ukb_ibd/hail_merge/ukbb_907.vcf.gz', 'file:/lustre/scratch123/mdt1/projects/wes_jc_ukb_ibd/hail_merge/ukbb_15.vcf.gz', 'file:/lustre/scratch123/mdt1/projects/wes_jc_ukb_ibd/hail_merge/ukbb_78.vcf.gz', 'file:/lustre/scratch123/mdt1/projects/wes_jc_ukb_ibd/hail_merge/ukbb_257.vcf.gz', 'file:/lustre/scratch123/mdt1/projects/wes_jc_ukb_ibd/hail_merge/ukbb_540.vcf.gz', 'file:/lustre/scratch123/mdt1/projects/wes_jc_ukb_ibd/hail_merge/ukbb_824.vcf.gz', 'file:/lustre/scratch123/mdt1/projects/wes_jc_ukb_ibd/hail_merge/ukbb_867.vcf.gz', 'file:/lustre/scratch123/mdt1/projects/wes_jc_ukb_ibd/hail_merge/ukbb_696.vcf.gz', 'file:/lustre/scratch123/mdt1/projects/wes_jc_ukb_ibd/hail_merge/ukbb_822.vcf.gz', 'file:/lustre/scratch123/mdt1/projects/wes_jc_ukb_ibd/hail_merge/ukbb_319.vcf.gz', 'file:/lustre/scratch123/mdt1/projects/wes_jc_ukb_ibd/hail_merge/ukbb_180.vcf.gz', 'file:/lustre/scratch123/mdt1/projects/wes_jc_ukb_ibd/hail_merge/ukbb_765.vcf.gz', 'file:/lustre/scratch123/mdt1/projects/wes_jc_ukb_ibd/hail_merge/ukbb_415.vcf.gz', 'file:/lustre/scratch123/mdt1/projects/wes_jc_ukb_ibd/hail_merge/ukbb_436.vcf.gz', 'file:/lustre/scratch123/mdt1/projects/wes_jc_ukb_ibd/hail_merge/ukbb_144.vcf.gz', 'file:/lustre/scratch123/mdt1/projects/wes_jc_ukb_ibd/hail_merge/ukbb_537.vcf.gz', 'file:/lustre/scratch123/mdt1/projects/wes_jc_ukb_ibd/hail_merge/ukbb_347.vcf.gz', 'file:/lustre/scratch123/mdt1/projects/wes_jc_ukb_ibd/hail_merge/ukbb_486.vcf.gz', 'file:/lustre/scratch123/mdt1/projects/wes_jc_ukb_ibd/hail_merge/ukbb_875.vcf.gz', 'file:/lustre/scratch123/mdt1/projects/wes_jc_ukb_ibd/hail_merge/ukbb_492.vcf.gz', 'file:/lustre/scratch123/mdt1/projects/wes_jc_ukb_ibd/hail_merge/ukbb_654.vcf.gz', 'file:/lustre/scratch123/mdt1/projects/wes_jc_ukb_ibd/hail_merge/ukbb_159.vcf.gz', 'file:/lustre/scratch123/mdt1/projects/wes_jc_ukb_ibd/hail_merge/ukbb_419.vcf.gz', 'file:/lustre/scratch123/mdt1/projects/wes_jc_ukb_ibd/hail_merge/ukbb_384.vcf.gz', 'file:/lustre/scratch123/mdt1/projects/wes_jc_ukb_ibd/hail_merge/ukbb_265.vcf.gz', 'file:/lustre/scratch123/mdt1/projects/wes_jc_ukb_ibd/hail_merge/ukbb_748.vcf.gz', 'file:/lustre/scratch123/mdt1/projects/wes_jc_ukb_ibd/hail_merge/ukbb_955.vcf.gz', 'file:/lustre/scratch123/mdt1/projects/wes_jc_ukb_ibd/hail_merge/ukbb_549.vcf.gz', 'file:/lustre/scratch123/mdt1/projects/wes_jc_ukb_ibd/hail_merge/ukbb_714.vcf.gz', 'file:/lustre/scratch123/mdt1/projects/wes_jc_ukb_ibd/hail_merge/ukbb_490.vcf.gz', 'file:/lustre/scratch123/mdt1/projects/wes_jc_ukb_ibd/hail_merge/ukbb_318.vcf.gz', 'file:/lustre/scratch123/mdt1/projects/wes_jc_ukb_ibd/hail_merge/ukbb_576.vcf.gz', 'file:/lustre/scratch123/mdt1/projects/wes_jc_ukb_ibd/hail_merge/ukbb_484.vcf.gz', 'file:/lustre/scratch123/mdt1/projects/wes_jc_ukb_ibd/hail_merge/ukbb_665.vcf.gz', 'file:/lustre/scratch123/mdt1/projects/wes_jc_ukb_ibd/hail_merge/ukbb_64.vcf.gz', 'file:/lustre/scratch123/mdt1/projects/wes_jc_ukb_ibd/hail_merge/ukbb_942.vcf.gz', 'file:/lustre/scratch123/mdt1/projects/wes_jc_ukb_ibd/hail_merge/ukbb_451.vcf.gz', 'file:/lustre/scratch123/mdt1/projects/wes_jc_ukb_ibd/hail_merge/ukbb_902.vcf.gz', 'file:/lustre/scratch123/mdt1/projects/wes_jc_ukb_ibd/hail_merge/ukbb_915.vcf.gz', 'file:/lustre/scratch123/mdt1/projects/wes_jc_ukb_ibd/hail_merge/ukbb_143.vcf.gz', 'file:/lustre/scratch123/mdt1/projects/wes_jc_ukb_ibd/hail_merge/ukbb_916.vcf.gz', 'file:/lustre/scratch123/mdt1/projects/wes_jc_ukb_ibd/hail_merge/ukbb_932.vcf.gz', 'file:/lustre/scratch123/mdt1/projects/wes_jc_ukb_ibd/hail_merge/ukbb_245.vcf.gz', 'file:/lustre/scratch123/mdt1/projects/wes_jc_ukb_ibd/hail_merge/ukbb_200.vcf.gz', 'file:/lustre/scratch123/mdt1/projects/wes_jc_ukb_ibd/hail_merge/ukbb_926.vcf.gz', 'file:/lustre/scratch123/mdt1/projects/wes_jc_ukb_ibd/hail_merge/ukbb_406.vcf.gz', 'file:/lustre/scratch123/mdt1/projects/wes_jc_ukb_ibd/hail_merge/ukbb_564.vcf.gz', 'file:/lustre/scratch123/mdt1/projects/wes_jc_ukb_ibd/hail_merge/ukbb_566.vcf.gz', 'file:/lustre/scratch123/mdt1/projects/wes_jc_ukb_ibd/hail_merge/ukbb_802.vcf.gz', 'file:/lustre/scratch123/mdt1/projects/wes_jc_ukb_ibd/hail_merge/ukbb_324.vcf.gz', 'file:/lustre/scratch123/mdt1/projects/wes_jc_ukb_ibd/hail_merge/ukbb_975.vcf.gz', 'file:/lustre/scratch123/mdt1/projects/wes_jc_ukb_ibd/hail_merge/ukbb_224.vcf.gz', 'file:/lustre/scratch123/mdt1/projects/wes_jc_ukb_ibd/hail_merge/ukbb_91.vcf.gz', 'file:/lustre/scratch123/mdt1/projects/wes_jc_ukb_ibd/hail_merge/ukbb_194.vcf.gz', 'file:/lustre/scratch123/mdt1/projects/wes_jc_ukb_ibd/hail_merge/ukbb_516.vcf.gz', 'file:/lustre/scratch123/mdt1/projects/wes_jc_ukb_ibd/hail_merge/ukbb_767.vcf.gz', 'file:/lustre/scratch123/mdt1/projects/wes_jc_ukb_ibd/hail_merge/ukbb_70.vcf.gz', 'file:/lustre/scratch123/mdt1/projects/wes_jc_ukb_ibd/hail_merge/ukbb_923.vcf.gz', 'file:/lustre/scratch123/mdt1/projects/wes_jc_ukb_ibd/hail_merge/ukbb_921.vcf.gz', 'file:/lustre/scratch123/mdt1/projects/wes_jc_ukb_ibd/hail_merge/ukbb_388.vcf.gz', 'file:/lustre/scratch123/mdt1/projects/wes_jc_ukb_ibd/hail_merge/ukbb_390.vcf.gz', 'file:/lustre/scratch123/mdt1/projects/wes_jc_ukb_ibd/hail_merge/ukbb_632.vcf.gz', 'file:/lustre/scratch123/mdt1/projects/wes_jc_ukb_ibd/hail_merge/ukbb_749.vcf.gz', 'file:/lustre/scratch123/mdt1/projects/wes_jc_ukb_ibd/hail_merge/ukbb_662.vcf.gz', 'file:/lustre/scratch123/mdt1/projects/wes_jc_ukb_ibd/hail_merge/ukbb_705.vcf.gz', 'file:/lustre/scratch123/mdt1/projects/wes_jc_ukb_ibd/hail_merge/ukbb_310.vcf.gz', 'file:/lustre/scratch123/mdt1/projects/wes_jc_ukb_ibd/hail_merge/ukbb_887.vcf.gz', 'file:/lustre/scratch123/mdt1/projects/wes_jc_ukb_ibd/hail_merge/ukbb_755.vcf.gz', 'file:/lustre/scratch123/mdt1/projects/wes_jc_ukb_ibd/hail_merge/ukbb_131.vcf.gz', 'file:/lustre/scratch123/mdt1/projects/wes_jc_ukb_ibd/hail_merge/ukbb_288.vcf.gz', 'file:/lustre/scratch123/mdt1/projects/wes_jc_ukb_ibd/hail_merge/ukbb_351.vcf.gz', 'file:/lustre/scratch123/mdt1/projects/wes_jc_ukb_ibd/hail_merge/ukbb_780.vcf.gz', 'file:/lustre/scratch123/mdt1/projects/wes_jc_ukb_ibd/hail_merge/ukbb_111.vcf.gz', 'file:/lustre/scratch123/mdt1/projects/wes_jc_ukb_ibd/hail_merge/ukbb_870.vcf.gz', 'file:/lustre/scratch123/mdt1/projects/wes_jc_ukb_ibd/hail_merge/ukbb_306.vcf.gz', 'file:/lustre/scratch123/mdt1/projects/wes_jc_ukb_ibd/hail_merge/ukbb_329.vcf.gz', 'file:/lustre/scratch123/mdt1/projects/wes_jc_ukb_ibd/hail_merge/ukbb_269.vcf.gz', 'file:/lustre/scratch123/mdt1/projects/wes_jc_ukb_ibd/hail_merge/ukbb_89.vcf.gz', 'file:/lustre/scratch123/mdt1/projects/wes_jc_ukb_ibd/hail_merge/ukbb_389.vcf.gz', 'file:/lustre/scratch123/mdt1/projects/wes_jc_ukb_ibd/hail_merge/ukbb_553.vcf.gz', 'file:/lustre/scratch123/mdt1/projects/wes_jc_ukb_ibd/hail_merge/ukbb_854.vcf.gz', 'file:/lustre/scratch123/mdt1/projects/wes_jc_ukb_ibd/hail_merge/ukbb_429.vcf.gz', 'file:/lustre/scratch123/mdt1/projects/wes_jc_ukb_ibd/hail_merge/ukbb_619.vcf.gz', 'file:/lustre/scratch123/mdt1/projects/wes_jc_ukb_ibd/hail_merge/ukbb_897.vcf.gz', 'file:/lustre/scratch123/mdt1/projects/wes_jc_ukb_ibd/hail_merge/ukbb_465.vcf.gz', 'file:/lustre/scratch123/mdt1/projects/wes_jc_ukb_ibd/hail_merge/ukbb_87.vcf.gz', 'file:/lustre/scratch123/mdt1/projects/wes_jc_ukb_ibd/hail_merge/ukbb_815.vcf.gz', 'file:/lustre/scratch123/mdt1/projects/wes_jc_ukb_ibd/hail_merge/ukbb_183.vcf.gz', 'file:/lustre/scratch123/mdt1/projects/wes_jc_ukb_ibd/hail_merge/ukbb_185.vcf.gz', 'file:/lustre/scratch123/mdt1/projects/wes_jc_ukb_ibd/hail_merge/ukbb_785.vcf.gz', 'file:/lustre/scratch123/mdt1/projects/wes_jc_ukb_ibd/hail_merge/ukbb_882.vcf.gz', 'file:/lustre/scratch123/mdt1/projects/wes_jc_ukb_ibd/hail_merge/ukbb_94.vcf.gz', 'file:/lustre/scratch123/mdt1/projects/wes_jc_ukb_ibd/hail_merge/ukbb_445.vcf.gz', 'file:/lustre/scratch123/mdt1/projects/wes_jc_ukb_ibd/hail_merge/ukbb_14.vcf.gz', 'file:/lustre/scratch123/mdt1/projects/wes_jc_ukb_ibd/hail_merge/ukbb_447.vcf.gz', 'file:/lustre/scratch123/mdt1/projects/wes_jc_ukb_ibd/hail_merge/ukbb_474.vcf.gz', 'file:/lustre/scratch123/mdt1/projects/wes_jc_ukb_ibd/hail_merge/ukbb_534.vcf.gz', 'file:/lustre/scratch123/mdt1/projects/wes_jc_ukb_ibd/hail_merge/ukbb_742.vcf.gz', 'file:/lustre/scratch123/mdt1/projects/wes_jc_ukb_ibd/hail_merge/ukbb_115.vcf.gz', 'file:/lustre/scratch123/mdt1/projects/wes_jc_ukb_ibd/hail_merge/ukbb_483.vcf.gz', 'file:/lustre/scratch123/mdt1/projects/wes_jc_ukb_ibd/hail_merge/ukbb_618.vcf.gz', 'file:/lustre/scratch123/mdt1/projects/wes_jc_ukb_ibd/hail_merge/ukbb_908.vcf.gz', 'file:/lustre/scratch123/mdt1/projects/wes_jc_ukb_ibd/hail_merge/ukbb_273.vcf.gz', 'file:/lustre/scratch123/mdt1/projects/wes_jc_ukb_ibd/hail_merge/ukbb_943.vcf.gz', 'file:/lustre/scratch123/mdt1/projects/wes_jc_ukb_ibd/hail_merge/ukbb_19.vcf.gz', 'file:/lustre/scratch123/mdt1/projects/wes_jc_ukb_ibd/hail_merge/ukbb_530.vcf.gz']\n"
     ]
    },
    {
     "name": "stderr",
     "output_type": "stream",
     "text": [
      "2021-11-05 10:50:06 Hail: WARN: Loading user-provided header file. The sample IDs, INFO fields, and FORMAT fields were not checked for agreement with input data.\n"
     ]
    },
    {
     "name": "stdout",
     "output_type": "stream",
     "text": [
      "Imported vcf files\n"
     ]
    },
    {
     "name": "stderr",
     "output_type": "stream",
     "text": [
      "2021-11-05 10:50:15 Hail: INFO: Coerced sorted dataset\n",
      "2021-11-05 10:50:15 Hail: INFO: Coerced dataset with out-of-order partitions.\n",
      "2021-11-05 10:50:24 Hail: INFO: wrote matrix table with 47 rows and 200643 columns in 20 partitions to file:///lustre/scratch123/mdt1/projects/wes_jc_ukb_ibd/hail_merge/ukbb_hits.mt\n",
      "    Total size: 31.98 MiB\n",
      "    * Rows/entries: 30.85 MiB\n",
      "    * Columns: 1.13 MiB\n",
      "    * Globals: 11.00 B\n",
      "    * Smallest partition: 1 rows (383.71 KiB)\n",
      "    * Largest partition:  18 rows (12.85 MiB)\n"
     ]
    }
   ],
   "source": [
    "path=import_lustre_dir\n",
    "\n",
    "objects = hl.utils.hadoop_ls(path)\n",
    "vcf_header=f\"{lustre_dir}/vcf_header.txt\"\n",
    "#print(objects)\n",
    "print(\"Reading vcf filenames\")\n",
    "    #vcfs = [vcf[\"path\"] for vcf in objects if (vcf[\"path\"].startswith(f\"{s3location_input}chr\"+chromosome+\"_\") and vcf[\"path\"].endswith(\".vcf.gz\"))]\n",
    "vcfs = [vcf[\"path\"] for vcf in objects if (vcf[\"path\"].startswith(f\"{path}/ukbb\") and vcf[\"path\"].endswith(\".vcf.gz\"))]\n",
    "\n",
    "print(vcfs)\n",
    "\n",
    "mt = hl.import_vcf(vcfs, array_elements_required=False, \n",
    "                       force_bgz=True, header_file= vcf_header)\n",
    "print(\"Imported vcf files\")\n",
    "   \n",
    "\n",
    "mt.write(f\"{lustre_dir}/ukbb_hits.mt\")"
   ]
  },
  {
   "cell_type": "code",
   "execution_count": 7,
   "id": "0612b74c",
   "metadata": {},
   "outputs": [
    {
     "name": "stdout",
     "output_type": "stream",
     "text": [
      "Reading vcf filenames\n",
      "['file:/lustre/scratch123/mdt1/projects/wes_jc_ukb_ibd/hail_merge/IBD_hits.vcf.gz']\n",
      "Imported vcf files\n"
     ]
    },
    {
     "name": "stderr",
     "output_type": "stream",
     "text": [
      "2021-11-05 10:56:21 Hail: INFO: Coerced sorted dataset\n",
      "2021-11-05 10:56:24 Hail: INFO: wrote matrix table with 46 rows and 21465 columns in 1 partition to file:///lustre/scratch123/mdt1/projects/wes_jc_ukb_ibd/hail_merge/ibd_hits.mt\n",
      "    Total size: 3.58 MiB\n",
      "    * Rows/entries: 3.50 MiB\n",
      "    * Columns: 84.29 KiB\n",
      "    * Globals: 11.00 B\n",
      "    * Smallest partition: 46 rows (3.50 MiB)\n",
      "    * Largest partition:  46 rows (3.50 MiB)\n"
     ]
    }
   ],
   "source": [
    "path=import_lustre_dir\n",
    "\n",
    "objects = hl.utils.hadoop_ls(path)\n",
    "vcf_header=f\"{lustre_dir}/ibd_header.txt\"\n",
    "#print(objects)\n",
    "print(\"Reading vcf filenames\")\n",
    "    #vcfs = [vcf[\"path\"] for vcf in objects if (vcf[\"path\"].startswith(f\"{s3location_input}chr\"+chromosome+\"_\") and vcf[\"path\"].endswith(\".vcf.gz\"))]\n",
    "vcfs = [vcf[\"path\"] for vcf in objects if (vcf[\"path\"].startswith(f\"{path}/IBD\") and vcf[\"path\"].endswith(\".vcf.gz\"))]\n",
    "\n",
    "print(vcfs)\n",
    "\n",
    "mt = hl.import_vcf(vcfs, array_elements_required=False, \n",
    "                       force_bgz=True, header_file= vcf_header)\n",
    "print(\"Imported vcf files\")\n",
    "   \n",
    "\n",
    "mt.write(f\"{lustre_dir}/ibd_hits.mt\")"
   ]
  },
  {
   "cell_type": "code",
   "execution_count": 8,
   "id": "cd2b73af",
   "metadata": {},
   "outputs": [],
   "source": [
    "mt1=hl.read_matrix_table(f\"{lustre_dir}/ukbb_hits.mt\")\n",
    "mt2=hl.read_matrix_table(f\"{lustre_dir}/ibd_hits.mt\")"
   ]
  },
  {
   "cell_type": "code",
   "execution_count": 10,
   "id": "6086e20c",
   "metadata": {},
   "outputs": [],
   "source": [
    "mt=mt1.union_cols(mt2)"
   ]
  },
  {
   "cell_type": "code",
   "execution_count": 14,
   "id": "fc01e21b",
   "metadata": {},
   "outputs": [
    {
     "data": {
      "text/plain": [
       "(47, 200643)"
      ]
     },
     "execution_count": 14,
     "metadata": {},
     "output_type": "execute_result"
    }
   ],
   "source": [
    "mt1.count()"
   ]
  },
  {
   "cell_type": "code",
   "execution_count": 15,
   "id": "5fa320d3",
   "metadata": {},
   "outputs": [
    {
     "data": {
      "text/plain": [
       "(46, 21465)"
      ]
     },
     "execution_count": 15,
     "metadata": {},
     "output_type": "execute_result"
    }
   ],
   "source": [
    "mt2.count()"
   ]
  },
  {
   "cell_type": "code",
   "execution_count": 13,
   "id": "998abe3f",
   "metadata": {},
   "outputs": [
    {
     "data": {
      "text/plain": [
       "(34, 222108)"
      ]
     },
     "execution_count": 13,
     "metadata": {},
     "output_type": "execute_result"
    }
   ],
   "source": [
    "mt.count()"
   ]
  },
  {
   "cell_type": "code",
   "execution_count": 16,
   "id": "330d44e5",
   "metadata": {},
   "outputs": [
    {
     "name": "stderr",
     "output_type": "stream",
     "text": [
      "2021-11-05 10:59:17 Hail: INFO: wrote matrix table with 34 rows and 222108 columns in 20 partitions to file:///lustre/scratch123/mdt1/projects/wes_jc_ukb_ibd/hail_merge/intersection_hits.mt\n",
      "    Total size: 26.09 MiB\n",
      "    * Rows/entries: 24.88 MiB\n",
      "    * Columns: 1.21 MiB\n",
      "    * Globals: 11.00 B\n",
      "    * Smallest partition: 0 rows (20.00 B)\n",
      "    * Largest partition:  14 rows (10.94 MiB)\n"
     ]
    }
   ],
   "source": [
    "mt.write(f\"{lustre_dir}/intersection_hits.mt\")"
   ]
  },
  {
   "cell_type": "code",
   "execution_count": 18,
   "id": "ae55455f",
   "metadata": {},
   "outputs": [
    {
     "name": "stderr",
     "output_type": "stream",
     "text": [
      "2021-11-05 11:00:33 Hail: INFO: Coerced sorted dataset\n"
     ]
    },
    {
     "data": {
      "text/html": [
       "<h3>Columns</h3><p>222108 records.</p><ul><li><b>s</b> (<i>str</i>):<ul><table><tbody><tr><td>Non-missing</td><td>222108 (100.00%)</td></tr><tr><td>Missing</td><td>0</td></tr><tr><td>Min Size</td><td>7</td></tr><tr><td>Max Size</td><td>15</td></tr><tr><td>Mean Size</td><td>7.77</td></tr><tr><td>Sample Values</td><td>[&#x27;-000001&#x27;, &#x27;-000002&#x27;, &#x27;-000003&#x27;, &#x27;-000004&#x27;, &#x27;-000005&#x27;]</td></tr></tbody></table></ul></li></ul>"
      ],
      "text/plain": [
       "Columns\n",
       "======\n",
       "222108 records.\n",
       "\n",
       "  - s (str):\n",
       "      Non-missing: 222108 (100.00%)\n",
       "          Missing: 0\n",
       "         Min Size: 7\n",
       "         Max Size: 15\n",
       "        Mean Size: 7.77\n",
       "    Sample Values: ['-000001', '-000002', '-000003', '-000004', '-000005']"
      ]
     },
     "metadata": {},
     "output_type": "display_data"
    },
    {
     "data": {
      "text/html": [
       "<h3>Rows</h3><p>34 records.</p><ul><li><b>locus</b> (<i>locus&lt;GRCh38&gt;</i>):<ul><table><tbody><tr><td>Non-missing</td><td>34 (100.00%)</td></tr><tr><td>Missing</td><td>0</td></tr><tr><td>Contig Counts</td><td>{&#x27;chr11&#x27;: 2, &#x27;chr5&#x27;: 2, &#x27;chr22&#x27;: 1, &#x27;chr19&#x27;: 2, &#x27;chr1&#x27;: 2, &#x27;chr12&#x27;: 2, &#x27;chr2&#x27;: 3, &#x27;chr17&#x27;: 1, &#x27;chr4&#x27;: 2, &#x27;chr6&#x27;: 1, &#x27;chr9&#x27;: 2, &#x27;chr16&#x27;: 14}</td></tr></tbody></table></ul></li><li><b>alleles</b> (<i>array&lt;str&gt;</i>):<ul><table><tbody><tr><td>Non-missing</td><td>34 (100.00%)</td></tr><tr><td>Missing</td><td>0</td></tr><tr><td>Min Size</td><td>2</td></tr><tr><td>Max Size</td><td>3</td></tr><tr><td>Mean Size</td><td>2.09</td></tr></tbody></table><li><b>alleles[&lt;elements&gt;]</b> (<i>str</i>):<ul><table><tbody><tr><td>Non-missing</td><td>71 (100.00%)</td></tr><tr><td>Missing</td><td>0</td></tr><tr><td>Min Size</td><td>1</td></tr><tr><td>Max Size</td><td>2</td></tr><tr><td>Mean Size</td><td>1.01</td></tr><tr><td>Sample Values</td><td>[&#x27;T&#x27;, &#x27;C&#x27;, &#x27;T&#x27;, &#x27;C&#x27;, &#x27;A&#x27;]</td></tr></tbody></table></ul></li></ul></li><li><b>rsid</b> (<i>str</i>):<ul><table><tbody><tr><td>Non-missing</td><td>34 (100.00%)</td></tr><tr><td>Missing</td><td>0</td></tr><tr><td>Min Size</td><td>17</td></tr><tr><td>Max Size</td><td>38</td></tr><tr><td>Mean Size</td><td>19.62</td></tr><tr><td>Sample Values</td><td>[&#x27;chr1_28150681_T_C&#x27;, &#x27;chr1_67206980_T_C&#x27;, &#x27;chr2_233263166_A_G&#x27;, &#x27;chr2_233320674_A_G&#x27;, &#x27;chr2_233527423_C_T&#x27;]</td></tr></tbody></table></ul></li><li><b>qual</b> (<i>float64</i>):<ul><table><tbody><tr><td>Non-missing</td><td>34 (100.00%)</td></tr><tr><td>Missing</td><td>0</td></tr><tr><td>Minimum</td><td>47.00</td></tr><tr><td>Maximum</td><td>62.00</td></tr><tr><td>Mean</td><td>53.94</td></tr><tr><td>Std Dev</td><td>3.63</td></tr></tbody></table></ul></li><li><b>filters</b> (<i>set&lt;str&gt;</i>):<ul><table><tbody><tr><td>Non-missing</td><td>0</td></tr><tr><td>Missing</td><td>34 (100.00%)</td></tr></tbody></table></ul></li><li><b>info</b> (<i>struct with 4 fields</i>):<ul><table><tbody><tr><td>Non-missing</td><td>34 (100.00%)</td></tr><tr><td>Missing</td><td>0</td></tr></tbody></table><li><b>info.AF</b> (<i>array&lt;float64&gt;</i>):<ul><table><tbody><tr><td>Non-missing</td><td>34 (100.00%)</td></tr><tr><td>Missing</td><td>0</td></tr><tr><td>Min Size</td><td>1</td></tr><tr><td>Max Size</td><td>2</td></tr><tr><td>Mean Size</td><td>1.09</td></tr></tbody></table><li><b>info.AF[&lt;elements&gt;]</b> (<i>float64</i>):<ul><table><tbody><tr><td>Non-missing</td><td>37 (100.00%)</td></tr><tr><td>Missing</td><td>0</td></tr><tr><td>Minimum</td><td>0.00</td></tr><tr><td>Maximum</td><td>0.09</td></tr><tr><td>Mean</td><td>0.03</td></tr><tr><td>Std Dev</td><td>0.03</td></tr></tbody></table></ul></li></ul></li><li><b>info.AQ</b> (<i>array&lt;int32&gt;</i>):<ul><table><tbody><tr><td>Non-missing</td><td>34 (100.00%)</td></tr><tr><td>Missing</td><td>0</td></tr><tr><td>Min Size</td><td>1</td></tr><tr><td>Max Size</td><td>2</td></tr><tr><td>Mean Size</td><td>1.09</td></tr></tbody></table><li><b>info.AQ[&lt;elements&gt;]</b> (<i>int32</i>):<ul><table><tbody><tr><td>Non-missing</td><td>37 (100.00%)</td></tr><tr><td>Missing</td><td>0</td></tr><tr><td>Minimum</td><td>41</td></tr><tr><td>Maximum</td><td>62</td></tr><tr><td>Mean</td><td>53.16</td></tr><tr><td>Std Dev</td><td>4.41</td></tr></tbody></table></ul></li></ul></li><li><b>info.AC</b> (<i>array&lt;int32&gt;</i>):<ul><table><tbody><tr><td>Non-missing</td><td>0</td></tr><tr><td>Missing</td><td>34 (100.00%)</td></tr></tbody></table></ul></li><li><b>info.AN</b> (<i>int32</i>):<ul><table><tbody><tr><td>Non-missing</td><td>0</td></tr><tr><td>Missing</td><td>34 (100.00%)</td></tr></tbody></table></ul></li></ul></li></ul>"
      ],
      "text/plain": [
       "Rows\n",
       "======\n",
       "34 records.\n",
       "\n",
       "  - locus (locus<GRCh38>):\n",
       "      Non-missing: 34 (100.00%)\n",
       "          Missing: 0\n",
       "    Contig Counts: {'chr11': 2, 'chr5': 2, 'chr22': 1, 'chr19': 2, 'chr1': 2, 'chr12': 2, 'chr2': 3, 'chr17': 1, 'chr4': 2, 'chr6': 1, 'chr9': 2, 'chr16': 14}\n",
       "\n",
       "  - alleles (array<str>):\n",
       "    Non-missing: 34 (100.00%)\n",
       "        Missing: 0\n",
       "       Min Size: 2\n",
       "       Max Size: 3\n",
       "      Mean Size: 2.09\n",
       "\n",
       "    - alleles[<elements>] (str):\n",
       "        Non-missing: 71 (100.00%)\n",
       "            Missing: 0\n",
       "           Min Size: 1\n",
       "           Max Size: 2\n",
       "          Mean Size: 1.01\n",
       "      Sample Values: ['T', 'C', 'T', 'C', 'A']\n",
       "\n",
       "  - rsid (str):\n",
       "      Non-missing: 34 (100.00%)\n",
       "          Missing: 0\n",
       "         Min Size: 17\n",
       "         Max Size: 38\n",
       "        Mean Size: 19.62\n",
       "    Sample Values: ['chr1_28150681_T_C', 'chr1_67206980_T_C', 'chr2_233263166_A_G', 'chr2_233320674_A_G', 'chr2_233527423_C_T']\n",
       "\n",
       "  - qual (float64):\n",
       "    Non-missing: 34 (100.00%)\n",
       "        Missing: 0\n",
       "        Minimum: 47.00\n",
       "        Maximum: 62.00\n",
       "           Mean: 53.94\n",
       "        Std Dev: 3.63\n",
       "\n",
       "  - filters (set<str>):\n",
       "    Non-missing: 0\n",
       "        Missing: 34 (100.00%)\n",
       "\n",
       "  - info (struct with 4 fields):\n",
       "    Non-missing: 34 (100.00%)\n",
       "        Missing: 0\n",
       "\n",
       "    - info.AF (array<float64>):\n",
       "      Non-missing: 34 (100.00%)\n",
       "          Missing: 0\n",
       "         Min Size: 1\n",
       "         Max Size: 2\n",
       "        Mean Size: 1.09\n",
       "\n",
       "      - info.AF[<elements>] (float64):\n",
       "        Non-missing: 37 (100.00%)\n",
       "            Missing: 0\n",
       "            Minimum: 0.00\n",
       "            Maximum: 0.09\n",
       "               Mean: 0.03\n",
       "            Std Dev: 0.03\n",
       "\n",
       "    - info.AQ (array<int32>):\n",
       "      Non-missing: 34 (100.00%)\n",
       "          Missing: 0\n",
       "         Min Size: 1\n",
       "         Max Size: 2\n",
       "        Mean Size: 1.09\n",
       "\n",
       "      - info.AQ[<elements>] (int32):\n",
       "        Non-missing: 37 (100.00%)\n",
       "            Missing: 0\n",
       "            Minimum: 41\n",
       "            Maximum: 62\n",
       "               Mean: 53.16\n",
       "            Std Dev: 4.41\n",
       "\n",
       "    - info.AC (array<int32>):\n",
       "      Non-missing: 0\n",
       "          Missing: 34 (100.00%)\n",
       "\n",
       "    - info.AN (int32):\n",
       "      Non-missing: 0\n",
       "          Missing: 34 (100.00%)"
      ]
     },
     "metadata": {},
     "output_type": "display_data"
    },
    {
     "data": {
      "text/html": [
       "<h3>Entries</h3><p>7551672 records.</p><ul><li><b>GT</b> (<i>call</i>):<ul><table><tbody><tr><td>Non-missing</td><td>7550325 (99.98%)</td></tr><tr><td>Missing</td><td>1347 (0.02%)</td></tr><tr><td>Homozygous Reference</td><td>7100267</td></tr><tr><td>Heterozygous</td><td>434592</td></tr><tr><td>Homozygous Variant</td><td>15466</td></tr><tr><td>Ploidy</td><td>{2: 7550325}</td></tr><tr><td>Phased</td><td>{False: 7550325}</td></tr></tbody></table></ul></li><li><b>RNC</b> (<i>array&lt;str&gt;</i>):<ul><table><tbody><tr><td>Non-missing</td><td>7551672 (100.00%)</td></tr><tr><td>Missing</td><td>0</td></tr><tr><td>Min Size</td><td>1</td></tr><tr><td>Max Size</td><td>1</td></tr><tr><td>Mean Size</td><td>1.00</td></tr></tbody></table><li><b>RNC[&lt;elements&gt;]</b> (<i>str</i>):<ul><table><tbody><tr><td>Non-missing</td><td>7551672 (100.00%)</td></tr><tr><td>Missing</td><td>0</td></tr><tr><td>Min Size</td><td>2</td></tr><tr><td>Max Size</td><td>2</td></tr><tr><td>Mean Size</td><td>2.00</td></tr><tr><td>Sample Values</td><td>[&#x27;..&#x27;, &#x27;..&#x27;, &#x27;..&#x27;, &#x27;..&#x27;, &#x27;..&#x27;]</td></tr></tbody></table></ul></li></ul></li><li><b>DP</b> (<i>int32</i>):<ul><table><tbody><tr><td>Non-missing</td><td>7551672 (100.00%)</td></tr><tr><td>Missing</td><td>0</td></tr><tr><td>Minimum</td><td>0</td></tr><tr><td>Maximum</td><td>591</td></tr><tr><td>Mean</td><td>21.96</td></tr><tr><td>Std Dev</td><td>12.36</td></tr></tbody></table></ul></li><li><b>AD</b> (<i>array&lt;int32&gt;</i>):<ul><table><tbody><tr><td>Non-missing</td><td>7551672 (100.00%)</td></tr><tr><td>Missing</td><td>0</td></tr><tr><td>Min Size</td><td>2</td></tr><tr><td>Max Size</td><td>3</td></tr><tr><td>Mean Size</td><td>2.09</td></tr></tbody></table><li><b>AD[&lt;elements&gt;]</b> (<i>int32</i>):<ul><table><tbody><tr><td>Non-missing</td><td>15769668 (100.00%)</td></tr><tr><td>Missing</td><td>0</td></tr><tr><td>Minimum</td><td>0</td></tr><tr><td>Maximum</td><td>304</td></tr><tr><td>Mean</td><td>10.51</td></tr><tr><td>Std Dev</td><td>12.07</td></tr></tbody></table></ul></li></ul></li><li><b>GQ</b> (<i>int32</i>):<ul><table><tbody><tr><td>Non-missing</td><td>7551672 (100.00%)</td></tr><tr><td>Missing</td><td>0</td></tr><tr><td>Minimum</td><td>0</td></tr><tr><td>Maximum</td><td>99</td></tr><tr><td>Mean</td><td>48.03</td></tr><tr><td>Std Dev</td><td>4.22</td></tr></tbody></table></ul></li><li><b>PL</b> (<i>array&lt;int32&gt;</i>):<ul><table><tbody><tr><td>Non-missing</td><td>7551672 (100.00%)</td></tr><tr><td>Missing</td><td>0</td></tr><tr><td>Min Size</td><td>3</td></tr><tr><td>Max Size</td><td>6</td></tr><tr><td>Mean Size</td><td>3.26</td></tr></tbody></table><li><b>PL[&lt;elements&gt;]</b> (<i>int32</i>):<ul><table><tbody><tr><td>Non-missing</td><td>24653988 (100.00%)</td></tr><tr><td>Missing</td><td>0</td></tr><tr><td>Minimum</td><td>0</td></tr><tr><td>Maximum</td><td>2999</td></tr><tr><td>Mean</td><td>336.40</td></tr><tr><td>Std Dev</td><td>559.83</td></tr></tbody></table></ul></li></ul></li></ul>"
      ],
      "text/plain": [
       "Entries\n",
       "======\n",
       "7551672 records.\n",
       "\n",
       "  - GT (call):\n",
       "             Non-missing: 7550325 (99.98%)\n",
       "                 Missing: 1347 (0.02%)\n",
       "    Homozygous Reference: 7100267\n",
       "            Heterozygous: 434592\n",
       "      Homozygous Variant: 15466\n",
       "                  Ploidy: {2: 7550325}\n",
       "                  Phased: {False: 7550325}\n",
       "\n",
       "  - RNC (array<str>):\n",
       "    Non-missing: 7551672 (100.00%)\n",
       "        Missing: 0\n",
       "       Min Size: 1\n",
       "       Max Size: 1\n",
       "      Mean Size: 1.00\n",
       "\n",
       "    - RNC[<elements>] (str):\n",
       "        Non-missing: 7551672 (100.00%)\n",
       "            Missing: 0\n",
       "           Min Size: 2\n",
       "           Max Size: 2\n",
       "          Mean Size: 2.00\n",
       "      Sample Values: ['..', '..', '..', '..', '..']\n",
       "\n",
       "  - DP (int32):\n",
       "    Non-missing: 7551672 (100.00%)\n",
       "        Missing: 0\n",
       "        Minimum: 0\n",
       "        Maximum: 591\n",
       "           Mean: 21.96\n",
       "        Std Dev: 12.36\n",
       "\n",
       "  - AD (array<int32>):\n",
       "    Non-missing: 7551672 (100.00%)\n",
       "        Missing: 0\n",
       "       Min Size: 2\n",
       "       Max Size: 3\n",
       "      Mean Size: 2.09\n",
       "\n",
       "    - AD[<elements>] (int32):\n",
       "      Non-missing: 15769668 (100.00%)\n",
       "          Missing: 0\n",
       "          Minimum: 0\n",
       "          Maximum: 304\n",
       "             Mean: 10.51\n",
       "          Std Dev: 12.07\n",
       "\n",
       "  - GQ (int32):\n",
       "    Non-missing: 7551672 (100.00%)\n",
       "        Missing: 0\n",
       "        Minimum: 0\n",
       "        Maximum: 99\n",
       "           Mean: 48.03\n",
       "        Std Dev: 4.22\n",
       "\n",
       "  - PL (array<int32>):\n",
       "    Non-missing: 7551672 (100.00%)\n",
       "        Missing: 0\n",
       "       Min Size: 3\n",
       "       Max Size: 6\n",
       "      Mean Size: 3.26\n",
       "\n",
       "    - PL[<elements>] (int32):\n",
       "      Non-missing: 24653988 (100.00%)\n",
       "          Missing: 0\n",
       "          Minimum: 0\n",
       "          Maximum: 2999\n",
       "             Mean: 336.40\n",
       "          Std Dev: 559.83"
      ]
     },
     "metadata": {},
     "output_type": "display_data"
    }
   ],
   "source": [
    "mt.summarize()"
   ]
  },
  {
   "cell_type": "code",
   "execution_count": 19,
   "id": "f6ac9fde",
   "metadata": {},
   "outputs": [
    {
     "data": {
      "text/html": [
       "<table><thead><tr><td style=\"white-space: nowrap; max-width: 500px; overflow: hidden; text-overflow: ellipsis; \" colspan=\"1\"><div style=\"text-align: left;\"></div></td></tr><tr><td style=\"white-space: nowrap; max-width: 500px; overflow: hidden; text-overflow: ellipsis; \" colspan=\"1\"><div style=\"text-align: left;border-bottom: solid 2px #000; padding-bottom: 5px\">s</div></td></tr><tr><td style=\"white-space: nowrap; max-width: 500px; overflow: hidden; text-overflow: ellipsis; text-align: left;\">str</td></tr>\n",
       "</thead><tbody><tr><td style=\"white-space: nowrap; max-width: 500px; overflow: hidden; text-overflow: ellipsis; \">&quot;5246185&quot;</td></tr>\n",
       "<tr><td style=\"white-space: nowrap; max-width: 500px; overflow: hidden; text-overflow: ellipsis; \">&quot;4271618&quot;</td></tr>\n",
       "<tr><td style=\"white-space: nowrap; max-width: 500px; overflow: hidden; text-overflow: ellipsis; \">&quot;2516301&quot;</td></tr>\n",
       "<tr><td style=\"white-space: nowrap; max-width: 500px; overflow: hidden; text-overflow: ellipsis; \">&quot;4016248&quot;</td></tr>\n",
       "<tr><td style=\"white-space: nowrap; max-width: 500px; overflow: hidden; text-overflow: ellipsis; \">&quot;4794472&quot;</td></tr>\n",
       "<tr><td style=\"white-space: nowrap; max-width: 500px; overflow: hidden; text-overflow: ellipsis; \">&quot;3377156&quot;</td></tr>\n",
       "<tr><td style=\"white-space: nowrap; max-width: 500px; overflow: hidden; text-overflow: ellipsis; \">&quot;4816637&quot;</td></tr>\n",
       "<tr><td style=\"white-space: nowrap; max-width: 500px; overflow: hidden; text-overflow: ellipsis; \">&quot;1082673&quot;</td></tr>\n",
       "<tr><td style=\"white-space: nowrap; max-width: 500px; overflow: hidden; text-overflow: ellipsis; \">&quot;3195557&quot;</td></tr>\n",
       "<tr><td style=\"white-space: nowrap; max-width: 500px; overflow: hidden; text-overflow: ellipsis; \">&quot;3090450&quot;</td></tr>\n",
       "</tbody></table><p style=\"background: #fdd; padding: 0.4em;\">showing top 10 rows</p>\n"
      ],
      "text/plain": [
       "+-----------+\n",
       "| s         |\n",
       "+-----------+\n",
       "| str       |\n",
       "+-----------+\n",
       "| \"5246185\" |\n",
       "| \"4271618\" |\n",
       "| \"2516301\" |\n",
       "| \"4016248\" |\n",
       "| \"4794472\" |\n",
       "| \"3377156\" |\n",
       "| \"4816637\" |\n",
       "| \"1082673\" |\n",
       "| \"3195557\" |\n",
       "| \"3090450\" |\n",
       "+-----------+\n",
       "showing top 10 rows"
      ]
     },
     "metadata": {},
     "output_type": "display_data"
    }
   ],
   "source": [
    "mt.s.show()"
   ]
  },
  {
   "cell_type": "code",
   "execution_count": 23,
   "id": "95425907",
   "metadata": {},
   "outputs": [
    {
     "name": "stdout",
     "output_type": "stream",
     "text": [
      "Imported vcf files\n"
     ]
    },
    {
     "name": "stderr",
     "output_type": "stream",
     "text": [
      "2021-11-05 15:17:31 Hail: INFO: Coerced sorted dataset\n",
      "2021-11-05 15:18:28 Hail: INFO: wrote matrix table with 30788 rows and 21465 columns in 21 partitions to file:///lustre/scratch123/mdt1/projects/wes_jc_ukb_ibd/hail_merge/ibd_akt.mt\n",
      "    Total size: 3.19 GiB\n",
      "    * Rows/entries: 3.19 GiB\n",
      "    * Columns: 84.29 KiB\n",
      "    * Globals: 11.00 B\n",
      "    * Smallest partition: 1452 rows (155.45 MiB)\n",
      "    * Largest partition:  1475 rows (156.11 MiB)\n",
      "2021-11-05 15:18:37 Hail: INFO: Coerced sorted dataset\n",
      "2021-11-05 15:20:19 Hail: INFO: wrote matrix table with 28769 rows and 200643 columns in 183 partitions to file:///lustre/scratch123/mdt1/projects/wes_jc_ukb_ibd/hail_merge/ukb_akt.mt\n",
      "    Total size: 26.98 GiB\n",
      "    * Rows/entries: 26.98 GiB\n",
      "    * Columns: 1.13 MiB\n",
      "    * Globals: 11.00 B\n",
      "    * Smallest partition: 151 rows (149.38 MiB)\n",
      "    * Largest partition:  165 rows (153.40 MiB)\n"
     ]
    }
   ],
   "source": [
    "path=import_lustre_dir\n",
    "\n",
    "ibd_vcf=f\"{import_lustre_dir}/ibd_akt.vcf.gz\"\n",
    "ukbb_vcf=f\"{import_lustre_dir}/ukb_akt.sorted.vcf.gz\"\n",
    "\n",
    "\n",
    "mt1 = hl.import_vcf(ibd_vcf, reference_genome='GRCh38', force_bgz=True, array_elements_required=False)\n",
    "mt2 = hl.import_vcf(ukbb_vcf, reference_genome='GRCh38', force_bgz=True, array_elements_required=False)\n",
    "\n",
    "\n",
    "print(\"Imported vcf files\")\n",
    "   \n",
    "\n",
    "mt1.write(f\"{lustre_dir}/ibd_akt.mt\", overwrite=True)\n",
    "mt2.write(f\"{lustre_dir}/ukb_akt.mt\", overwrite=True)"
   ]
  },
  {
   "cell_type": "code",
   "execution_count": 24,
   "id": "17131328",
   "metadata": {},
   "outputs": [],
   "source": [
    "mt1=hl.read_matrix_table(f\"{lustre_dir}/ukbb_hits.mt\")\n",
    "mt2=hl.read_matrix_table(f\"{lustre_dir}/ibd_hits.mt\")\n",
    "mt1_akt=hl.read_matrix_table(f\"{lustre_dir}/ukb_akt.mt\")\n",
    "mt2_akt=hl.read_matrix_table(f\"{lustre_dir}/ibd_akt.mt\")"
   ]
  },
  {
   "cell_type": "code",
   "execution_count": 25,
   "id": "a02e74a6",
   "metadata": {},
   "outputs": [],
   "source": [
    "mt_ukb=mt1.union_rows(mt1_akt)\n",
    "mt_ibd=mt2.union_rows(mt2_akt)"
   ]
  },
  {
   "cell_type": "code",
   "execution_count": 30,
   "id": "131d4602",
   "metadata": {},
   "outputs": [
    {
     "data": {
      "text/plain": [
       "(28816, 200643)"
      ]
     },
     "execution_count": 30,
     "metadata": {},
     "output_type": "execute_result"
    }
   ],
   "source": [
    "mt_ukb.count()"
   ]
  },
  {
   "cell_type": "code",
   "execution_count": 31,
   "id": "1c1f4708",
   "metadata": {},
   "outputs": [
    {
     "data": {
      "text/plain": [
       "(30834, 21465)"
      ]
     },
     "execution_count": 31,
     "metadata": {},
     "output_type": "execute_result"
    }
   ],
   "source": [
    "mt_ibd.count()"
   ]
  },
  {
   "cell_type": "code",
   "execution_count": 26,
   "id": "88cd932a",
   "metadata": {},
   "outputs": [],
   "source": [
    "mt=mt_ukb.union_cols(mt_ibd)"
   ]
  },
  {
   "cell_type": "code",
   "execution_count": 27,
   "id": "b76ccb80",
   "metadata": {},
   "outputs": [
    {
     "name": "stderr",
     "output_type": "stream",
     "text": [
      "2021-11-05 15:26:14 Hail: INFO: wrote matrix table with 23865 rows and 222108 columns in 223 partitions to file:///lustre/scratch123/mdt1/projects/wes_jc_ukb_ibd/hail_merge/ukb_ibd_akt_hits_intersection.mt\n",
      "    Total size: 24.70 GiB\n",
      "    * Rows/entries: 24.70 GiB\n",
      "    * Columns: 1.21 MiB\n",
      "    * Globals: 11.00 B\n",
      "    * Smallest partition: 0 rows (20.00 B)\n",
      "    * Largest partition:  147 rows (150.60 MiB)\n"
     ]
    }
   ],
   "source": [
    "mt.write(f\"{lustre_dir}/ukb_ibd_akt_hits_intersection.mt\", overwrite=True)"
   ]
  },
  {
   "cell_type": "code",
   "execution_count": 28,
   "id": "50e7c020",
   "metadata": {},
   "outputs": [],
   "source": [
    "mt=hl.read_matrix_table(f\"{lustre_dir}/ukb_ibd_akt_hits_intersection.mt\")"
   ]
  },
  {
   "cell_type": "code",
   "execution_count": 29,
   "id": "a7433836",
   "metadata": {},
   "outputs": [
    {
     "data": {
      "text/plain": [
       "(23865, 222108)"
      ]
     },
     "execution_count": 29,
     "metadata": {},
     "output_type": "execute_result"
    }
   ],
   "source": [
    "mt.count()"
   ]
  },
  {
   "cell_type": "code",
   "execution_count": null,
   "id": "597808c7",
   "metadata": {},
   "outputs": [],
   "source": []
  }
 ],
 "metadata": {
  "kernelspec": {
   "display_name": "Python 3",
   "language": "python",
   "name": "python3"
  },
  "language_info": {
   "codemirror_mode": {
    "name": "ipython",
    "version": 3
   },
   "file_extension": ".py",
   "mimetype": "text/x-python",
   "name": "python",
   "nbconvert_exporter": "python",
   "pygments_lexer": "ipython3",
   "version": "3.6.9"
  }
 },
 "nbformat": 4,
 "nbformat_minor": 5
}
