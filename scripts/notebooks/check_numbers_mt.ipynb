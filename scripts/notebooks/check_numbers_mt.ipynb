{
 "cells": [
  {
   "cell_type": "code",
   "execution_count": 1,
   "id": "e5888279",
   "metadata": {},
   "outputs": [
    {
     "name": "stderr",
     "output_type": "stream",
     "text": [
      "pip-installed Hail requires additional configuration options in Spark referring\n",
      "  to the path to the Hail Python module directory HAIL_DIR,\n",
      "  e.g. /path/to/python/site-packages/hail:\n",
      "    spark.jars=HAIL_DIR/hail-all-spark.jar\n",
      "    spark.driver.extraClassPath=HAIL_DIR/hail-all-spark.jar\n",
      "    spark.executor.extraClassPath=./hail-all-spark.jarRunning on Apache Spark version 2.4.7\n",
      "SparkUI available at http://spark-master:4040\n",
      "Welcome to\n",
      "     __  __     <>__\n",
      "    / /_/ /__  __/ /\n",
      "   / __  / _ `/ / /\n",
      "  /_/ /_/\\_,_/_/_/   version 0.2.62-84fa81b9ea3d\n",
      "LOGGING: writing to /home/ubuntu/data/scripts/hail-20211108-1311-0.2.62-84fa81b9ea3d.log\n"
     ]
    },
    {
     "data": {
      "text/html": [
       "\n",
       "    <div class=\"bk-root\">\n",
       "        <a href=\"https://bokeh.org\" target=\"_blank\" class=\"bk-logo bk-logo-small bk-logo-notebook\"></a>\n",
       "        <span id=\"1001\">Loading BokehJS ...</span>\n",
       "    </div>"
      ]
     },
     "metadata": {},
     "output_type": "display_data"
    },
    {
     "data": {
      "application/javascript": [
       "\n",
       "(function(root) {\n",
       "  function now() {\n",
       "    return new Date();\n",
       "  }\n",
       "\n",
       "  var force = true;\n",
       "\n",
       "  if (typeof root._bokeh_onload_callbacks === \"undefined\" || force === true) {\n",
       "    root._bokeh_onload_callbacks = [];\n",
       "    root._bokeh_is_loading = undefined;\n",
       "  }\n",
       "\n",
       "  var JS_MIME_TYPE = 'application/javascript';\n",
       "  var HTML_MIME_TYPE = 'text/html';\n",
       "  var EXEC_MIME_TYPE = 'application/vnd.bokehjs_exec.v0+json';\n",
       "  var CLASS_NAME = 'output_bokeh rendered_html';\n",
       "\n",
       "  /**\n",
       "   * Render data to the DOM node\n",
       "   */\n",
       "  function render(props, node) {\n",
       "    var script = document.createElement(\"script\");\n",
       "    node.appendChild(script);\n",
       "  }\n",
       "\n",
       "  /**\n",
       "   * Handle when an output is cleared or removed\n",
       "   */\n",
       "  function handleClearOutput(event, handle) {\n",
       "    var cell = handle.cell;\n",
       "\n",
       "    var id = cell.output_area._bokeh_element_id;\n",
       "    var server_id = cell.output_area._bokeh_server_id;\n",
       "    // Clean up Bokeh references\n",
       "    if (id != null && id in Bokeh.index) {\n",
       "      Bokeh.index[id].model.document.clear();\n",
       "      delete Bokeh.index[id];\n",
       "    }\n",
       "\n",
       "    if (server_id !== undefined) {\n",
       "      // Clean up Bokeh references\n",
       "      var cmd = \"from bokeh.io.state import curstate; print(curstate().uuid_to_server['\" + server_id + \"'].get_sessions()[0].document.roots[0]._id)\";\n",
       "      cell.notebook.kernel.execute(cmd, {\n",
       "        iopub: {\n",
       "          output: function(msg) {\n",
       "            var id = msg.content.text.trim();\n",
       "            if (id in Bokeh.index) {\n",
       "              Bokeh.index[id].model.document.clear();\n",
       "              delete Bokeh.index[id];\n",
       "            }\n",
       "          }\n",
       "        }\n",
       "      });\n",
       "      // Destroy server and session\n",
       "      var cmd = \"import bokeh.io.notebook as ion; ion.destroy_server('\" + server_id + \"')\";\n",
       "      cell.notebook.kernel.execute(cmd);\n",
       "    }\n",
       "  }\n",
       "\n",
       "  /**\n",
       "   * Handle when a new output is added\n",
       "   */\n",
       "  function handleAddOutput(event, handle) {\n",
       "    var output_area = handle.output_area;\n",
       "    var output = handle.output;\n",
       "\n",
       "    // limit handleAddOutput to display_data with EXEC_MIME_TYPE content only\n",
       "    if ((output.output_type != \"display_data\") || (!output.data.hasOwnProperty(EXEC_MIME_TYPE))) {\n",
       "      return\n",
       "    }\n",
       "\n",
       "    var toinsert = output_area.element.find(\".\" + CLASS_NAME.split(' ')[0]);\n",
       "\n",
       "    if (output.metadata[EXEC_MIME_TYPE][\"id\"] !== undefined) {\n",
       "      toinsert[toinsert.length - 1].firstChild.textContent = output.data[JS_MIME_TYPE];\n",
       "      // store reference to embed id on output_area\n",
       "      output_area._bokeh_element_id = output.metadata[EXEC_MIME_TYPE][\"id\"];\n",
       "    }\n",
       "    if (output.metadata[EXEC_MIME_TYPE][\"server_id\"] !== undefined) {\n",
       "      var bk_div = document.createElement(\"div\");\n",
       "      bk_div.innerHTML = output.data[HTML_MIME_TYPE];\n",
       "      var script_attrs = bk_div.children[0].attributes;\n",
       "      for (var i = 0; i < script_attrs.length; i++) {\n",
       "        toinsert[toinsert.length - 1].firstChild.setAttribute(script_attrs[i].name, script_attrs[i].value);\n",
       "      }\n",
       "      // store reference to server id on output_area\n",
       "      output_area._bokeh_server_id = output.metadata[EXEC_MIME_TYPE][\"server_id\"];\n",
       "    }\n",
       "  }\n",
       "\n",
       "  function register_renderer(events, OutputArea) {\n",
       "\n",
       "    function append_mime(data, metadata, element) {\n",
       "      // create a DOM node to render to\n",
       "      var toinsert = this.create_output_subarea(\n",
       "        metadata,\n",
       "        CLASS_NAME,\n",
       "        EXEC_MIME_TYPE\n",
       "      );\n",
       "      this.keyboard_manager.register_events(toinsert);\n",
       "      // Render to node\n",
       "      var props = {data: data, metadata: metadata[EXEC_MIME_TYPE]};\n",
       "      render(props, toinsert[toinsert.length - 1]);\n",
       "      element.append(toinsert);\n",
       "      return toinsert\n",
       "    }\n",
       "\n",
       "    /* Handle when an output is cleared or removed */\n",
       "    events.on('clear_output.CodeCell', handleClearOutput);\n",
       "    events.on('delete.Cell', handleClearOutput);\n",
       "\n",
       "    /* Handle when a new output is added */\n",
       "    events.on('output_added.OutputArea', handleAddOutput);\n",
       "\n",
       "    /**\n",
       "     * Register the mime type and append_mime function with output_area\n",
       "     */\n",
       "    OutputArea.prototype.register_mime_type(EXEC_MIME_TYPE, append_mime, {\n",
       "      /* Is output safe? */\n",
       "      safe: true,\n",
       "      /* Index of renderer in `output_area.display_order` */\n",
       "      index: 0\n",
       "    });\n",
       "  }\n",
       "\n",
       "  // register the mime type if in Jupyter Notebook environment and previously unregistered\n",
       "  if (root.Jupyter !== undefined) {\n",
       "    var events = require('base/js/events');\n",
       "    var OutputArea = require('notebook/js/outputarea').OutputArea;\n",
       "\n",
       "    if (OutputArea.prototype.mime_types().indexOf(EXEC_MIME_TYPE) == -1) {\n",
       "      register_renderer(events, OutputArea);\n",
       "    }\n",
       "  }\n",
       "\n",
       "  \n",
       "  if (typeof (root._bokeh_timeout) === \"undefined\" || force === true) {\n",
       "    root._bokeh_timeout = Date.now() + 5000;\n",
       "    root._bokeh_failed_load = false;\n",
       "  }\n",
       "\n",
       "  var NB_LOAD_WARNING = {'data': {'text/html':\n",
       "     \"<div style='background-color: #fdd'>\\n\"+\n",
       "     \"<p>\\n\"+\n",
       "     \"BokehJS does not appear to have successfully loaded. If loading BokehJS from CDN, this \\n\"+\n",
       "     \"may be due to a slow or bad network connection. Possible fixes:\\n\"+\n",
       "     \"</p>\\n\"+\n",
       "     \"<ul>\\n\"+\n",
       "     \"<li>re-rerun `output_notebook()` to attempt to load from CDN again, or</li>\\n\"+\n",
       "     \"<li>use INLINE resources instead, as so:</li>\\n\"+\n",
       "     \"</ul>\\n\"+\n",
       "     \"<code>\\n\"+\n",
       "     \"from bokeh.resources import INLINE\\n\"+\n",
       "     \"output_notebook(resources=INLINE)\\n\"+\n",
       "     \"</code>\\n\"+\n",
       "     \"</div>\"}};\n",
       "\n",
       "  function display_loaded() {\n",
       "    var el = document.getElementById(\"1001\");\n",
       "    if (el != null) {\n",
       "      el.textContent = \"BokehJS is loading...\";\n",
       "    }\n",
       "    if (root.Bokeh !== undefined) {\n",
       "      if (el != null) {\n",
       "        el.textContent = \"BokehJS \" + root.Bokeh.version + \" successfully loaded.\";\n",
       "      }\n",
       "    } else if (Date.now() < root._bokeh_timeout) {\n",
       "      setTimeout(display_loaded, 100)\n",
       "    }\n",
       "  }\n",
       "\n",
       "\n",
       "  function run_callbacks() {\n",
       "    try {\n",
       "      root._bokeh_onload_callbacks.forEach(function(callback) {\n",
       "        if (callback != null)\n",
       "          callback();\n",
       "      });\n",
       "    } finally {\n",
       "      delete root._bokeh_onload_callbacks\n",
       "    }\n",
       "    console.debug(\"Bokeh: all callbacks have finished\");\n",
       "  }\n",
       "\n",
       "  function load_libs(css_urls, js_urls, callback) {\n",
       "    if (css_urls == null) css_urls = [];\n",
       "    if (js_urls == null) js_urls = [];\n",
       "\n",
       "    root._bokeh_onload_callbacks.push(callback);\n",
       "    if (root._bokeh_is_loading > 0) {\n",
       "      console.debug(\"Bokeh: BokehJS is being loaded, scheduling callback at\", now());\n",
       "      return null;\n",
       "    }\n",
       "    if (js_urls == null || js_urls.length === 0) {\n",
       "      run_callbacks();\n",
       "      return null;\n",
       "    }\n",
       "    console.debug(\"Bokeh: BokehJS not loaded, scheduling load and callback at\", now());\n",
       "    root._bokeh_is_loading = css_urls.length + js_urls.length;\n",
       "\n",
       "    function on_load() {\n",
       "      root._bokeh_is_loading--;\n",
       "      if (root._bokeh_is_loading === 0) {\n",
       "        console.debug(\"Bokeh: all BokehJS libraries/stylesheets loaded\");\n",
       "        run_callbacks()\n",
       "      }\n",
       "    }\n",
       "\n",
       "    function on_error() {\n",
       "      console.error(\"failed to load \" + url);\n",
       "    }\n",
       "\n",
       "    for (var i = 0; i < css_urls.length; i++) {\n",
       "      var url = css_urls[i];\n",
       "      const element = document.createElement(\"link\");\n",
       "      element.onload = on_load;\n",
       "      element.onerror = on_error;\n",
       "      element.rel = \"stylesheet\";\n",
       "      element.type = \"text/css\";\n",
       "      element.href = url;\n",
       "      console.debug(\"Bokeh: injecting link tag for BokehJS stylesheet: \", url);\n",
       "      document.body.appendChild(element);\n",
       "    }\n",
       "\n",
       "    for (var i = 0; i < js_urls.length; i++) {\n",
       "      var url = js_urls[i];\n",
       "      var element = document.createElement('script');\n",
       "      element.onload = on_load;\n",
       "      element.onerror = on_error;\n",
       "      element.async = false;\n",
       "      element.src = url;\n",
       "      console.debug(\"Bokeh: injecting script tag for BokehJS library: \", url);\n",
       "      document.head.appendChild(element);\n",
       "    }\n",
       "  };var element = document.getElementById(\"1001\");\n",
       "  if (element == null) {\n",
       "    console.error(\"Bokeh: ERROR: autoload.js configured with elementid '1001' but no matching script tag was found. \")\n",
       "    return false;\n",
       "  }\n",
       "\n",
       "  function inject_raw_css(css) {\n",
       "    const element = document.createElement(\"style\");\n",
       "    element.appendChild(document.createTextNode(css));\n",
       "    document.body.appendChild(element);\n",
       "  }\n",
       "\n",
       "  \n",
       "  var js_urls = [\"https://cdn.pydata.org/bokeh/release/bokeh-1.4.0.min.js\", \"https://cdn.pydata.org/bokeh/release/bokeh-widgets-1.4.0.min.js\", \"https://cdn.pydata.org/bokeh/release/bokeh-tables-1.4.0.min.js\", \"https://cdn.pydata.org/bokeh/release/bokeh-gl-1.4.0.min.js\"];\n",
       "  var css_urls = [];\n",
       "  \n",
       "\n",
       "  var inline_js = [\n",
       "    function(Bokeh) {\n",
       "      Bokeh.set_log_level(\"info\");\n",
       "    },\n",
       "    function(Bokeh) {\n",
       "    \n",
       "    \n",
       "    }\n",
       "  ];\n",
       "\n",
       "  function run_inline_js() {\n",
       "    \n",
       "    if (root.Bokeh !== undefined || force === true) {\n",
       "      \n",
       "    for (var i = 0; i < inline_js.length; i++) {\n",
       "      inline_js[i].call(root, root.Bokeh);\n",
       "    }\n",
       "    if (force === true) {\n",
       "        display_loaded();\n",
       "      }} else if (Date.now() < root._bokeh_timeout) {\n",
       "      setTimeout(run_inline_js, 100);\n",
       "    } else if (!root._bokeh_failed_load) {\n",
       "      console.log(\"Bokeh: BokehJS failed to load within specified timeout.\");\n",
       "      root._bokeh_failed_load = true;\n",
       "    } else if (force !== true) {\n",
       "      var cell = $(document.getElementById(\"1001\")).parents('.cell').data().cell;\n",
       "      cell.output_area.append_execute_result(NB_LOAD_WARNING)\n",
       "    }\n",
       "\n",
       "  }\n",
       "\n",
       "  if (root._bokeh_is_loading === 0) {\n",
       "    console.debug(\"Bokeh: BokehJS loaded, going straight to plotting\");\n",
       "    run_inline_js();\n",
       "  } else {\n",
       "    load_libs(css_urls, js_urls, function() {\n",
       "      console.debug(\"Bokeh: BokehJS plotting callback run at\", now());\n",
       "      run_inline_js();\n",
       "    });\n",
       "  }\n",
       "}(window));"
      ],
      "application/vnd.bokehjs_load.v0+json": "\n(function(root) {\n  function now() {\n    return new Date();\n  }\n\n  var force = true;\n\n  if (typeof root._bokeh_onload_callbacks === \"undefined\" || force === true) {\n    root._bokeh_onload_callbacks = [];\n    root._bokeh_is_loading = undefined;\n  }\n\n  \n\n  \n  if (typeof (root._bokeh_timeout) === \"undefined\" || force === true) {\n    root._bokeh_timeout = Date.now() + 5000;\n    root._bokeh_failed_load = false;\n  }\n\n  var NB_LOAD_WARNING = {'data': {'text/html':\n     \"<div style='background-color: #fdd'>\\n\"+\n     \"<p>\\n\"+\n     \"BokehJS does not appear to have successfully loaded. If loading BokehJS from CDN, this \\n\"+\n     \"may be due to a slow or bad network connection. Possible fixes:\\n\"+\n     \"</p>\\n\"+\n     \"<ul>\\n\"+\n     \"<li>re-rerun `output_notebook()` to attempt to load from CDN again, or</li>\\n\"+\n     \"<li>use INLINE resources instead, as so:</li>\\n\"+\n     \"</ul>\\n\"+\n     \"<code>\\n\"+\n     \"from bokeh.resources import INLINE\\n\"+\n     \"output_notebook(resources=INLINE)\\n\"+\n     \"</code>\\n\"+\n     \"</div>\"}};\n\n  function display_loaded() {\n    var el = document.getElementById(\"1001\");\n    if (el != null) {\n      el.textContent = \"BokehJS is loading...\";\n    }\n    if (root.Bokeh !== undefined) {\n      if (el != null) {\n        el.textContent = \"BokehJS \" + root.Bokeh.version + \" successfully loaded.\";\n      }\n    } else if (Date.now() < root._bokeh_timeout) {\n      setTimeout(display_loaded, 100)\n    }\n  }\n\n\n  function run_callbacks() {\n    try {\n      root._bokeh_onload_callbacks.forEach(function(callback) {\n        if (callback != null)\n          callback();\n      });\n    } finally {\n      delete root._bokeh_onload_callbacks\n    }\n    console.debug(\"Bokeh: all callbacks have finished\");\n  }\n\n  function load_libs(css_urls, js_urls, callback) {\n    if (css_urls == null) css_urls = [];\n    if (js_urls == null) js_urls = [];\n\n    root._bokeh_onload_callbacks.push(callback);\n    if (root._bokeh_is_loading > 0) {\n      console.debug(\"Bokeh: BokehJS is being loaded, scheduling callback at\", now());\n      return null;\n    }\n    if (js_urls == null || js_urls.length === 0) {\n      run_callbacks();\n      return null;\n    }\n    console.debug(\"Bokeh: BokehJS not loaded, scheduling load and callback at\", now());\n    root._bokeh_is_loading = css_urls.length + js_urls.length;\n\n    function on_load() {\n      root._bokeh_is_loading--;\n      if (root._bokeh_is_loading === 0) {\n        console.debug(\"Bokeh: all BokehJS libraries/stylesheets loaded\");\n        run_callbacks()\n      }\n    }\n\n    function on_error() {\n      console.error(\"failed to load \" + url);\n    }\n\n    for (var i = 0; i < css_urls.length; i++) {\n      var url = css_urls[i];\n      const element = document.createElement(\"link\");\n      element.onload = on_load;\n      element.onerror = on_error;\n      element.rel = \"stylesheet\";\n      element.type = \"text/css\";\n      element.href = url;\n      console.debug(\"Bokeh: injecting link tag for BokehJS stylesheet: \", url);\n      document.body.appendChild(element);\n    }\n\n    for (var i = 0; i < js_urls.length; i++) {\n      var url = js_urls[i];\n      var element = document.createElement('script');\n      element.onload = on_load;\n      element.onerror = on_error;\n      element.async = false;\n      element.src = url;\n      console.debug(\"Bokeh: injecting script tag for BokehJS library: \", url);\n      document.head.appendChild(element);\n    }\n  };var element = document.getElementById(\"1001\");\n  if (element == null) {\n    console.error(\"Bokeh: ERROR: autoload.js configured with elementid '1001' but no matching script tag was found. \")\n    return false;\n  }\n\n  function inject_raw_css(css) {\n    const element = document.createElement(\"style\");\n    element.appendChild(document.createTextNode(css));\n    document.body.appendChild(element);\n  }\n\n  \n  var js_urls = [\"https://cdn.pydata.org/bokeh/release/bokeh-1.4.0.min.js\", \"https://cdn.pydata.org/bokeh/release/bokeh-widgets-1.4.0.min.js\", \"https://cdn.pydata.org/bokeh/release/bokeh-tables-1.4.0.min.js\", \"https://cdn.pydata.org/bokeh/release/bokeh-gl-1.4.0.min.js\"];\n  var css_urls = [];\n  \n\n  var inline_js = [\n    function(Bokeh) {\n      Bokeh.set_log_level(\"info\");\n    },\n    function(Bokeh) {\n    \n    \n    }\n  ];\n\n  function run_inline_js() {\n    \n    if (root.Bokeh !== undefined || force === true) {\n      \n    for (var i = 0; i < inline_js.length; i++) {\n      inline_js[i].call(root, root.Bokeh);\n    }\n    if (force === true) {\n        display_loaded();\n      }} else if (Date.now() < root._bokeh_timeout) {\n      setTimeout(run_inline_js, 100);\n    } else if (!root._bokeh_failed_load) {\n      console.log(\"Bokeh: BokehJS failed to load within specified timeout.\");\n      root._bokeh_failed_load = true;\n    } else if (force !== true) {\n      var cell = $(document.getElementById(\"1001\")).parents('.cell').data().cell;\n      cell.output_area.append_execute_result(NB_LOAD_WARNING)\n    }\n\n  }\n\n  if (root._bokeh_is_loading === 0) {\n    console.debug(\"Bokeh: BokehJS loaded, going straight to plotting\");\n    run_inline_js();\n  } else {\n    load_libs(css_urls, js_urls, function() {\n      console.debug(\"Bokeh: BokehJS plotting callback run at\", now());\n      run_inline_js();\n    });\n  }\n}(window));"
     },
     "metadata": {},
     "output_type": "display_data"
    }
   ],
   "source": [
    "from hail import Table\n",
    "import os\n",
    "import pprint\n",
    "from pprint import pformat\n",
    "import argparse\n",
    "import hail as hlh\n",
    "import pandas as pd\n",
    "import numpy as np\n",
    "import pyspark\n",
    "from pprint import pformat\n",
    "import json\n",
    "import sys\n",
    "import re\n",
    "from pathlib import Path\n",
    "import logging\n",
    "from typing import Any, Counter, List, Optional, Tuple, Union, Dict,Set\n",
    "import uuid\n",
    "import json\n",
    "from matplotlib import pyplot as plt\n",
    "from typing import Any, Counter, List, Optional, Tuple, Union,Dict,Set\n",
    "from hail.plot import show, output_notebook\n",
    "from gnomad.utils.plotting import *\n",
    "from typing import Set, Tuple\n",
    "from bokeh.palettes import d3  # pylint: disable=no-name-in-module\n",
    "from bokeh.models import Plot, Row, Span, NumeralTickFormatter, LabelSet\n",
    "import warnings; \n",
    "warnings.simplefilter('ignore')\n",
    "tmp_dir = \"hdfs://spark-master:9820/\"\n",
    "temp_dir = \"file:///home/ubuntu/data/tmp\"\n",
    "#plot_dir = \"/home/ubuntu/data/tmp\"\n",
    "plot_dir=\"/lustre/scratch123/teams/hgi/mercury/megaWES-variantqc\"\n",
    "lustre_dir = \"file:///lustre/scratch123/mdt1/projects/wes_jc_ukb_ibd/hail_merge\"\n",
    "import_lustre_dir=\"file:/lustre/scratch123/mdt1/projects/wes_jc_ukb_ibd/hail_merge\"\n",
    "sc = pyspark.SparkContext()\n",
    "hadoop_config = sc._jsc.hadoopConfiguration()\n",
    "hadoop_config.set(\"fs.s3a.access.key\", \"8YY584J59H7Q6AVKHSU8\")\n",
    "hadoop_config.set(\"fs.s3a.secret.key\", \"P8vePa7JUvxKXX2me9ti1cGujgYWMoimAwx4mMlM\")\n",
    "hadoop_config.set(\"fs.gs.impl\", \"com.google.cloud.hadoop.fs.gcs.GoogleHadoopFileSystem\")\n",
    "hadoop_config.set(\"fs.AbstractFileSystem.gs.impl\", \"com.google.cloud.hadoop.fs.gcs.GoogleHadoopFS\")\n",
    "hl.init(sc=sc, tmp_dir=lustre_dir, local_tmpdir=lustre_dir, default_reference=\"GRCh38\")\n",
    "output_notebook()"
   ]
  },
  {
   "cell_type": "code",
   "execution_count": null,
   "id": "9677e8c8",
   "metadata": {},
   "outputs": [],
   "source": []
  },
  {
   "cell_type": "code",
   "execution_count": 49,
   "id": "f8991c18",
   "metadata": {},
   "outputs": [],
   "source": [
    "mt1=hl.read_matrix_table(f\"{lustre_dir}/ukbb_hits.mt\")\n",
    "mt2=hl.read_matrix_table(f\"{lustre_dir}/ibd_hits.mt\")\n",
    "mt=hl.read_matrix_table(f\"{lustre_dir}/intersection_hits.mt\")"
   ]
  },
  {
   "cell_type": "code",
   "execution_count": 51,
   "id": "805dbe59",
   "metadata": {},
   "outputs": [
    {
     "name": "stderr",
     "output_type": "stream",
     "text": [
      "2021-11-08 11:02:28 Hail: INFO: Coerced sorted dataset\n",
      "2021-11-08 11:02:41 Hail: INFO: wrote matrix table with 61 rows and 200643 columns in 20 partitions to file:///lustre/scratch123/mdt1/projects/wes_jc_ukb_ibd/hail_merge/ukbb_hits_split.mt\n",
      "    Total size: 38.32 MiB\n",
      "    * Rows/entries: 37.19 MiB\n",
      "    * Columns: 1.13 MiB\n",
      "    * Globals: 11.00 B\n",
      "    * Smallest partition: 1 rows (372.88 KiB)\n",
      "    * Largest partition:  26 rows (16.90 MiB)\n",
      "2021-11-08 11:02:44 Hail: INFO: wrote matrix table with 50 rows and 21465 columns in 1 partition to file:///lustre/scratch123/mdt1/projects/wes_jc_ukb_ibd/hail_merge/ibd_hits_split.mt\n",
      "    Total size: 3.73 MiB\n",
      "    * Rows/entries: 3.65 MiB\n",
      "    * Columns: 84.29 KiB\n",
      "    * Globals: 11.00 B\n",
      "    * Smallest partition: 50 rows (3.65 MiB)\n",
      "    * Largest partition:  50 rows (3.65 MiB)\n"
     ]
    }
   ],
   "source": [
    "mt1=hl.split_multi_hts(mt1)\n",
    "mt2=hl.split_multi_hts(mt2)\n",
    "mt1.write(f\"{lustre_dir}/ukbb_hits_split.mt\")\n",
    "mt2.write(f\"{lustre_dir}/ibd_hits_split.mt\")"
   ]
  },
  {
   "cell_type": "code",
   "execution_count": 52,
   "id": "6a6c9c8d",
   "metadata": {},
   "outputs": [],
   "source": [
    "mt1=hl.read_matrix_table(f\"{lustre_dir}/ukbb_hits_split.mt\")\n",
    "mt2=hl.read_matrix_table(f\"{lustre_dir}/ibd_hits_split.mt\")"
   ]
  },
  {
   "cell_type": "code",
   "execution_count": 53,
   "id": "6c5487de",
   "metadata": {},
   "outputs": [
    {
     "data": {
      "text/plain": [
       "(61, 200643)"
      ]
     },
     "execution_count": 53,
     "metadata": {},
     "output_type": "execute_result"
    }
   ],
   "source": [
    "#UKBB \n",
    "mt1.count()"
   ]
  },
  {
   "cell_type": "code",
   "execution_count": 54,
   "id": "2d25df4e",
   "metadata": {},
   "outputs": [
    {
     "data": {
      "text/plain": [
       "(50, 21465)"
      ]
     },
     "execution_count": 54,
     "metadata": {},
     "output_type": "execute_result"
    }
   ],
   "source": [
    "#IBD\n",
    "mt2.count()"
   ]
  },
  {
   "cell_type": "code",
   "execution_count": 55,
   "id": "c9af3544",
   "metadata": {},
   "outputs": [],
   "source": [
    "mt_intersection=mt1.union_cols(mt2)"
   ]
  },
  {
   "cell_type": "code",
   "execution_count": 56,
   "id": "df6811e3",
   "metadata": {},
   "outputs": [
    {
     "name": "stderr",
     "output_type": "stream",
     "text": [
      "2021-11-08 11:12:37 Hail: INFO: wrote matrix table with 48 rows and 222108 columns in 20 partitions to file:///lustre/scratch123/mdt1/projects/wes_jc_ukb_ibd/hail_merge/intersection_hits_split.mt\n",
      "    Total size: 34.96 MiB\n",
      "    * Rows/entries: 33.75 MiB\n",
      "    * Columns: 1.21 MiB\n",
      "    * Globals: 11.00 B\n",
      "    * Smallest partition: 1 rows (424.15 KiB)\n",
      "    * Largest partition:  21 rows (15.19 MiB)\n"
     ]
    }
   ],
   "source": [
    "mt_intersection.write(f\"{lustre_dir}/intersection_hits_split.mt\")"
   ]
  },
  {
   "cell_type": "code",
   "execution_count": 5,
   "id": "92640da9",
   "metadata": {},
   "outputs": [
    {
     "data": {
      "text/plain": [
       "(48, 222108)"
      ]
     },
     "execution_count": 5,
     "metadata": {},
     "output_type": "execute_result"
    }
   ],
   "source": [
    "#INTERSECTION COUNT  is now 48 (up from 34)\n",
    "mt_intersection=hl.read_matrix_table(f\"{lustre_dir}/intersection_hits_split.mt\")\n",
    "mt_intersection.count()"
   ]
  },
  {
   "cell_type": "code",
   "execution_count": null,
   "id": "e9cfad35",
   "metadata": {},
   "outputs": [],
   "source": [
    "mt_intersection"
   ]
  },
  {
   "cell_type": "code",
   "execution_count": null,
   "id": "28f7e145",
   "metadata": {},
   "outputs": [],
   "source": []
  },
  {
   "cell_type": "code",
   "execution_count": 59,
   "id": "a1b3e59c",
   "metadata": {},
   "outputs": [
    {
     "name": "stderr",
     "output_type": "stream",
     "text": [
      "2021-11-08 11:18:32 Hail: INFO: merging 20 files totalling 3.9K...\n",
      "2021-11-08 11:18:33 Hail: INFO: while writing:\n",
      "    file:///lustre/scratch123/mdt1/projects/wes_jc_ukb_ibd/hail_merge/ukbb_hits_variants_split.tsv.bgz\n",
      "  merge time: 257.320ms\n",
      "2021-11-08 11:18:33 Hail: INFO: merging 1 files totalling 1.3K...\n",
      "2021-11-08 11:18:33 Hail: INFO: while writing:\n",
      "    file:///lustre/scratch123/mdt1/projects/wes_jc_ukb_ibd/hail_merge/ibd_hits_variants_split.tsv.bgz\n",
      "  merge time: 24.081ms\n",
      "2021-11-08 11:18:33 Hail: INFO: merging 20 files totalling 3.7K...\n",
      "2021-11-08 11:18:34 Hail: INFO: while writing:\n",
      "    file:///lustre/scratch123/mdt1/projects/wes_jc_ukb_ibd/hail_merge/intersection_hits_variants_split.tsv.bgz\n",
      "  merge time: 259.739ms\n"
     ]
    }
   ],
   "source": [
    "mt1.rows().export(f\"{lustre_dir}/ukbb_hits_variants_split.tsv.bgz\" , delimiter=\"\\t\")\n",
    "mt2.rows().export(f\"{lustre_dir}/ibd_hits_variants_split.tsv.bgz\" , delimiter=\"\\t\")\n",
    "mt_intersection.rows().export(f\"{lustre_dir}/intersection_hits_variants_split.tsv.bgz\" , delimiter=\"\\t\")\n",
    "\n"
   ]
  },
  {
   "cell_type": "code",
   "execution_count": 60,
   "id": "0d1fff22",
   "metadata": {},
   "outputs": [
    {
     "name": "stderr",
     "output_type": "stream",
     "text": [
      "2021-11-08 11:19:15 Hail: INFO: Reading table without type imputation\n",
      "  Loading field 'locus' as type str (not specified)\n",
      "  Loading field 'alleles' as type str (not specified)\n",
      "  Loading field 'rsid' as type str (not specified)\n",
      "  Loading field 'qual' as type str (not specified)\n",
      "  Loading field 'filters' as type str (not specified)\n",
      "  Loading field 'info' as type str (not specified)\n",
      "  Loading field 'a_index' as type str (not specified)\n",
      "  Loading field 'was_split' as type str (not specified)\n",
      "2021-11-08 11:19:15 Hail: INFO: Reading table without type imputation\n",
      "  Loading field 'locus' as type str (not specified)\n",
      "  Loading field 'alleles' as type str (not specified)\n",
      "  Loading field 'rsid' as type str (not specified)\n",
      "  Loading field 'qual' as type str (not specified)\n",
      "  Loading field 'filters' as type str (not specified)\n",
      "  Loading field 'info' as type str (not specified)\n",
      "  Loading field 'a_index' as type str (not specified)\n",
      "  Loading field 'was_split' as type str (not specified)\n",
      "2021-11-08 11:19:15 Hail: INFO: Reading table without type imputation\n",
      "  Loading field 'locus' as type str (not specified)\n",
      "  Loading field 'alleles' as type str (not specified)\n",
      "  Loading field 'rsid' as type str (not specified)\n",
      "  Loading field 'qual' as type str (not specified)\n",
      "  Loading field 'filters' as type str (not specified)\n",
      "  Loading field 'info' as type str (not specified)\n",
      "  Loading field 'a_index' as type str (not specified)\n",
      "  Loading field 'was_split' as type str (not specified)\n"
     ]
    }
   ],
   "source": [
    "ukb_hits=hl.import_table(f\"{lustre_dir}/ukbb_hits_variants_split.tsv.bgz\")\n",
    "ibd_hits=hl.import_table(f\"{lustre_dir}/ibd_hits_variants_split.tsv.bgz\")\n",
    "intesection_hits=hl.import_table(f\"{lustre_dir}/intersection_hits_variants_split.tsv.bgz\")"
   ]
  },
  {
   "cell_type": "code",
   "execution_count": 61,
   "id": "504f5870",
   "metadata": {},
   "outputs": [],
   "source": [
    "ukb_hits_pd=ukb_hits.to_pandas()\n",
    "ibd_hits_pd=ibd_hits.to_pandas()\n",
    "merged_pd_split=pd.merge(ukb_hits_pd, ibd_hits_pd, how='outer', on=['locus'], indicator=\"In both or unique\", suffixes=('_ukbb', '_ibd' ))\n",
    "merged_pd_split.to_csv(\"/home/ubuntu/data/scripts/merged_split_mt.tsv\", sep=\"\\t\",index=False)"
   ]
  },
  {
   "cell_type": "code",
   "execution_count": 11,
   "id": "e713c79f",
   "metadata": {},
   "outputs": [
    {
     "name": "stderr",
     "output_type": "stream",
     "text": [
      "2021-11-08 13:18:03 Hail: INFO: Reading table without type imputation\n",
      "  Loading field 'f0' as type str (user-supplied)\n",
      "  Loading field 'f1' as type int32 (user-supplied)\n",
      "  Loading field 'f2' as type int32 (user-supplied)\n"
     ]
    },
    {
     "data": {
      "text/html": [
       "<table><thead><tr><td style=\"white-space: nowrap; max-width: 500px; overflow: hidden; text-overflow: ellipsis; \" colspan=\"1\"><div style=\"text-align: left;\"></div></td></tr><tr><td style=\"white-space: nowrap; max-width: 500px; overflow: hidden; text-overflow: ellipsis; \" colspan=\"1\"><div style=\"text-align: left;border-bottom: solid 2px #000; padding-bottom: 5px\">interval</div></td></tr><tr><td style=\"white-space: nowrap; max-width: 500px; overflow: hidden; text-overflow: ellipsis; text-align: left;\">interval&lt;locus&lt;GRCh38&gt;&gt;</td></tr>\n",
       "</thead><tbody><tr><td style=\"white-space: nowrap; max-width: 500px; overflow: hidden; text-overflow: ellipsis; \">[chr1:69482-chr1:69601)</td></tr>\n",
       "<tr><td style=\"white-space: nowrap; max-width: 500px; overflow: hidden; text-overflow: ellipsis; \">[chr1:925942-chr1:926014)</td></tr>\n",
       "<tr><td style=\"white-space: nowrap; max-width: 500px; overflow: hidden; text-overflow: ellipsis; \">[chr1:930203-chr1:930337)</td></tr>\n",
       "<tr><td style=\"white-space: nowrap; max-width: 500px; overflow: hidden; text-overflow: ellipsis; \">[chr1:931039-chr1:931090)</td></tr>\n",
       "<tr><td style=\"white-space: nowrap; max-width: 500px; overflow: hidden; text-overflow: ellipsis; \">[chr1:935772-chr1:935883)</td></tr>\n",
       "<tr><td style=\"white-space: nowrap; max-width: 500px; overflow: hidden; text-overflow: ellipsis; \">[chr1:939040-chr1:939130)</td></tr>\n",
       "<tr><td style=\"white-space: nowrap; max-width: 500px; overflow: hidden; text-overflow: ellipsis; \">[chr1:939272-chr1:939437)</td></tr>\n",
       "<tr><td style=\"white-space: nowrap; max-width: 500px; overflow: hidden; text-overflow: ellipsis; \">[chr1:941144-chr1:941307)</td></tr>\n",
       "<tr><td style=\"white-space: nowrap; max-width: 500px; overflow: hidden; text-overflow: ellipsis; \">[chr1:942140-chr1:942252)</td></tr>\n",
       "<tr><td style=\"white-space: nowrap; max-width: 500px; overflow: hidden; text-overflow: ellipsis; \">[chr1:942427-chr1:942489)</td></tr>\n",
       "</tbody></table><p style=\"background: #fdd; padding: 0.4em;\">showing top 10 rows</p>\n"
      ],
      "text/plain": [
       "+---------------------------+\n",
       "| interval                  |\n",
       "+---------------------------+\n",
       "| interval<locus<GRCh38>>   |\n",
       "+---------------------------+\n",
       "| [chr1:69482-chr1:69601)   |\n",
       "| [chr1:925942-chr1:926014) |\n",
       "| [chr1:930203-chr1:930337) |\n",
       "| [chr1:931039-chr1:931090) |\n",
       "| [chr1:935772-chr1:935883) |\n",
       "| [chr1:939040-chr1:939130) |\n",
       "| [chr1:939272-chr1:939437) |\n",
       "| [chr1:941144-chr1:941307) |\n",
       "| [chr1:942140-chr1:942252) |\n",
       "| [chr1:942427-chr1:942489) |\n",
       "+---------------------------+\n",
       "showing top 10 rows"
      ]
     },
     "metadata": {},
     "output_type": "display_data"
    }
   ],
   "source": [
    "bed=hl.import_bed(\"file:///lustre/scratch123/projects/wes_jc_ukb_ibd/glnexus_ibd/ibd_ukb_intersect_capture_not_padded.bed\")\n",
    "bed.show()"
   ]
  },
  {
   "cell_type": "code",
   "execution_count": 13,
   "id": "7a9c6e8e",
   "metadata": {},
   "outputs": [
    {
     "name": "stdout",
     "output_type": "stream",
     "text": [
      "(61, 200643)\n",
      "(50, 21465)\n",
      "(48, 222108)\n"
     ]
    },
    {
     "name": "stderr",
     "output_type": "stream",
     "text": [
      "2021-11-08 13:22:51 Hail: INFO: Ordering unsorted dataset with network shuffle\n"
     ]
    },
    {
     "name": "stdout",
     "output_type": "stream",
     "text": [
      "(49, 200643)\n"
     ]
    },
    {
     "name": "stderr",
     "output_type": "stream",
     "text": [
      "2021-11-08 13:22:59 Hail: INFO: Ordering unsorted dataset with network shuffle\n"
     ]
    },
    {
     "name": "stdout",
     "output_type": "stream",
     "text": [
      "(41, 21465)\n"
     ]
    },
    {
     "name": "stderr",
     "output_type": "stream",
     "text": [
      "2021-11-08 13:23:08 Hail: INFO: Ordering unsorted dataset with network shuffle\n"
     ]
    },
    {
     "name": "stdout",
     "output_type": "stream",
     "text": [
      "(39, 222108)\n"
     ]
    }
   ],
   "source": [
    "mt1=hl.read_matrix_table(f\"{lustre_dir}/ukbb_hits_split.mt\")\n",
    "mt2=hl.read_matrix_table(f\"{lustre_dir}/ibd_hits_split.mt\")\n",
    "\n",
    "mt_intersection=hl.read_matrix_table(f\"{lustre_dir}/intersection_hits_split.mt\")\n",
    "\n",
    "print(mt1.count())\n",
    "print(mt2.count())\n",
    "print(mt_intersection.count())\n",
    "filtered_mt1 = mt1.filter_rows(hl.is_defined(bed[mt1.locus]))\n",
    "filtered_mt2 = mt2.filter_rows(hl.is_defined(bed[mt2.locus]))\n",
    "filtered_mt_int = mt_intersection.filter_rows(hl.is_defined(bed[mt_intersection.locus]))\n",
    "print(filtered_mt1.count())\n",
    "print(filtered_mt2.count())\n",
    "print(filtered_mt_int.count())"
   ]
  },
  {
   "cell_type": "code",
   "execution_count": 20,
   "id": "888210a5",
   "metadata": {},
   "outputs": [
    {
     "name": "stderr",
     "output_type": "stream",
     "text": [
      "2021-11-08 13:25:52 Hail: INFO: Ordering unsorted dataset with network shuffle\n"
     ]
    },
    {
     "data": {
      "text/plain": [
       "(9, 222108)"
      ]
     },
     "execution_count": 20,
     "metadata": {},
     "output_type": "execute_result"
    }
   ],
   "source": [
    "variants_not_in_capture_region = mt_intersection.filter_rows(hl.is_defined(bed[mt_intersection.locus])==False)\n",
    "\n",
    "variants_not_in_capture_region.count()"
   ]
  },
  {
   "cell_type": "code",
   "execution_count": 22,
   "id": "b3ea885f",
   "metadata": {},
   "outputs": [
    {
     "name": "stderr",
     "output_type": "stream",
     "text": [
      "2021-11-08 13:26:28 Hail: INFO: Ordering unsorted dataset with network shuffle\n"
     ]
    },
    {
     "data": {
      "text/html": [
       "<table><thead><tr><td style=\"white-space: nowrap; max-width: 500px; overflow: hidden; text-overflow: ellipsis; \" colspan=\"1\"><div style=\"text-align: left;\"></div></td><td style=\"white-space: nowrap; max-width: 500px; overflow: hidden; text-overflow: ellipsis; \" colspan=\"1\"><div style=\"text-align: left;\"></div></td></tr><tr><td style=\"white-space: nowrap; max-width: 500px; overflow: hidden; text-overflow: ellipsis; \" colspan=\"1\"><div style=\"text-align: left;border-bottom: solid 2px #000; padding-bottom: 5px\">locus</div></td><td style=\"white-space: nowrap; max-width: 500px; overflow: hidden; text-overflow: ellipsis; \" colspan=\"1\"><div style=\"text-align: left;border-bottom: solid 2px #000; padding-bottom: 5px\">alleles</div></td></tr><tr><td style=\"white-space: nowrap; max-width: 500px; overflow: hidden; text-overflow: ellipsis; text-align: left;\">locus&lt;GRCh38&gt;</td><td style=\"white-space: nowrap; max-width: 500px; overflow: hidden; text-overflow: ellipsis; text-align: left;\">array&lt;str&gt;</td></tr>\n",
       "</thead><tbody><tr><td style=\"white-space: nowrap; max-width: 500px; overflow: hidden; text-overflow: ellipsis; \">chr2:233527423</td><td style=\"white-space: nowrap; max-width: 500px; overflow: hidden; text-overflow: ellipsis; \">[&quot;C&quot;,&quot;T&quot;]</td></tr>\n",
       "<tr><td style=\"white-space: nowrap; max-width: 500px; overflow: hidden; text-overflow: ellipsis; \">chr4:94573345</td><td style=\"white-space: nowrap; max-width: 500px; overflow: hidden; text-overflow: ellipsis; \">[&quot;C&quot;,&quot;T&quot;]</td></tr>\n",
       "<tr><td style=\"white-space: nowrap; max-width: 500px; overflow: hidden; text-overflow: ellipsis; \">chr9:136365140</td><td style=\"white-space: nowrap; max-width: 500px; overflow: hidden; text-overflow: ellipsis; \">[&quot;C&quot;,&quot;G&quot;]</td></tr>\n",
       "<tr><td style=\"white-space: nowrap; max-width: 500px; overflow: hidden; text-overflow: ellipsis; \">chr9:136464447</td><td style=\"white-space: nowrap; max-width: 500px; overflow: hidden; text-overflow: ellipsis; \">[&quot;C&quot;,&quot;T&quot;]</td></tr>\n",
       "<tr><td style=\"white-space: nowrap; max-width: 500px; overflow: hidden; text-overflow: ellipsis; \">chr12:40346884</td><td style=\"white-space: nowrap; max-width: 500px; overflow: hidden; text-overflow: ellipsis; \">[&quot;A&quot;,&quot;G&quot;]</td></tr>\n",
       "<tr><td style=\"white-space: nowrap; max-width: 500px; overflow: hidden; text-overflow: ellipsis; \">chr16:50699481</td><td style=\"white-space: nowrap; max-width: 500px; overflow: hidden; text-overflow: ellipsis; \">[&quot;T&quot;,&quot;A&quot;]</td></tr>\n",
       "<tr><td style=\"white-space: nowrap; max-width: 500px; overflow: hidden; text-overflow: ellipsis; \">chr16:50716671</td><td style=\"white-space: nowrap; max-width: 500px; overflow: hidden; text-overflow: ellipsis; \">[&quot;G&quot;,&quot;A&quot;]</td></tr>\n",
       "<tr><td style=\"white-space: nowrap; max-width: 500px; overflow: hidden; text-overflow: ellipsis; \">chr16:50716671</td><td style=\"white-space: nowrap; max-width: 500px; overflow: hidden; text-overflow: ellipsis; \">[&quot;G&quot;,&quot;GT&quot;]</td></tr>\n",
       "<tr><td style=\"white-space: nowrap; max-width: 500px; overflow: hidden; text-overflow: ellipsis; \">chr19:10352442</td><td style=\"white-space: nowrap; max-width: 500px; overflow: hidden; text-overflow: ellipsis; \">[&quot;G&quot;,&quot;C&quot;]</td></tr>\n",
       "</tbody></table><p style=\"background: #fdd; padding: 0.4em;\">showing the first 0 of 222108 columns</p>\n"
      ],
      "text/plain": [
       "+----------------+------------+\n",
       "| locus          | alleles    |\n",
       "+----------------+------------+\n",
       "| locus<GRCh38>  | array<str> |\n",
       "+----------------+------------+\n",
       "| chr2:233527423 | [\"C\",\"T\"]  |\n",
       "| chr4:94573345  | [\"C\",\"T\"]  |\n",
       "| chr9:136365140 | [\"C\",\"G\"]  |\n",
       "| chr9:136464447 | [\"C\",\"T\"]  |\n",
       "| chr12:40346884 | [\"A\",\"G\"]  |\n",
       "| chr16:50699481 | [\"T\",\"A\"]  |\n",
       "| chr16:50716671 | [\"G\",\"A\"]  |\n",
       "| chr16:50716671 | [\"G\",\"GT\"] |\n",
       "| chr19:10352442 | [\"G\",\"C\"]  |\n",
       "+----------------+------------+\n",
       "showing the first 0 of 222108 columns"
      ]
     },
     "metadata": {},
     "output_type": "display_data"
    }
   ],
   "source": [
    "variants_not_in_capture_region.show()"
   ]
  },
  {
   "cell_type": "code",
   "execution_count": null,
   "id": "f5b45dcc",
   "metadata": {},
   "outputs": [],
   "source": [
    "ukb_hits_split=hl.import_table(f\"{lustre_dir}/ukbb_hits_variants_split.tsv.bgz\")\n",
    "ibd_hits_split=hl.import_table(f\"{lustre_dir}/ibd_hits_variants.tsv.bgz\")\n",
    "intesection_hits_split=hl.import_table(f\"{lustre_dir}/intersection_hits_variants.tsv.bgz\")"
   ]
  },
  {
   "cell_type": "code",
   "execution_count": null,
   "id": "1eb7e26e",
   "metadata": {},
   "outputs": [],
   "source": []
  },
  {
   "cell_type": "code",
   "execution_count": 9,
   "id": "eb0061fd",
   "metadata": {},
   "outputs": [
    {
     "name": "stderr",
     "output_type": "stream",
     "text": [
      "2021-11-08 09:55:26 Hail: INFO: Reading table without type imputation\n",
      "  Loading field 'locus' as type str (not specified)\n",
      "  Loading field 'alleles' as type str (not specified)\n",
      "  Loading field 'rsid' as type str (not specified)\n",
      "  Loading field 'qual' as type str (not specified)\n",
      "  Loading field 'filters' as type str (not specified)\n",
      "  Loading field 'info' as type str (not specified)\n",
      "2021-11-08 09:55:26 Hail: INFO: Reading table without type imputation\n",
      "  Loading field 'locus' as type str (not specified)\n",
      "  Loading field 'alleles' as type str (not specified)\n",
      "  Loading field 'rsid' as type str (not specified)\n",
      "  Loading field 'qual' as type str (not specified)\n",
      "  Loading field 'filters' as type str (not specified)\n",
      "  Loading field 'info' as type str (not specified)\n",
      "2021-11-08 09:55:26 Hail: INFO: Reading table without type imputation\n",
      "  Loading field 'locus' as type str (not specified)\n",
      "  Loading field 'alleles' as type str (not specified)\n",
      "  Loading field 'rsid' as type str (not specified)\n",
      "  Loading field 'qual' as type str (not specified)\n",
      "  Loading field 'filters' as type str (not specified)\n",
      "  Loading field 'info' as type str (not specified)\n"
     ]
    }
   ],
   "source": [
    "ukb_hits=hl.import_table(f\"{lustre_dir}/ukbb_hits_variants.tsv.bgz\")\n",
    "ibd_hits=hl.import_table(f\"{lustre_dir}/ibd_hits_variants_split.tsv.bgz\")\n",
    "intesection_hits=hl.import_table(f\"{lustre_dir}/intersection_hits_variants.tsv.bgz\")"
   ]
  },
  {
   "cell_type": "code",
   "execution_count": 10,
   "id": "8a07277a",
   "metadata": {},
   "outputs": [
    {
     "data": {
      "text/html": [
       "<table><thead><tr><td style=\"white-space: nowrap; max-width: 500px; overflow: hidden; text-overflow: ellipsis; \" colspan=\"1\"><div style=\"text-align: left;\"></div></td><td style=\"white-space: nowrap; max-width: 500px; overflow: hidden; text-overflow: ellipsis; \" colspan=\"1\"><div style=\"text-align: left;\"></div></td><td style=\"white-space: nowrap; max-width: 500px; overflow: hidden; text-overflow: ellipsis; \" colspan=\"1\"><div style=\"text-align: left;\"></div></td><td style=\"white-space: nowrap; max-width: 500px; overflow: hidden; text-overflow: ellipsis; \" colspan=\"1\"><div style=\"text-align: left;\"></div></td><td style=\"white-space: nowrap; max-width: 500px; overflow: hidden; text-overflow: ellipsis; \" colspan=\"1\"><div style=\"text-align: left;\"></div></td><td style=\"white-space: nowrap; max-width: 500px; overflow: hidden; text-overflow: ellipsis; \" colspan=\"1\"><div style=\"text-align: left;\"></div></td></tr><tr><td style=\"white-space: nowrap; max-width: 500px; overflow: hidden; text-overflow: ellipsis; \" colspan=\"1\"><div style=\"text-align: left;border-bottom: solid 2px #000; padding-bottom: 5px\">locus</div></td><td style=\"white-space: nowrap; max-width: 500px; overflow: hidden; text-overflow: ellipsis; \" colspan=\"1\"><div style=\"text-align: left;border-bottom: solid 2px #000; padding-bottom: 5px\">alleles</div></td><td style=\"white-space: nowrap; max-width: 500px; overflow: hidden; text-overflow: ellipsis; \" colspan=\"1\"><div style=\"text-align: left;border-bottom: solid 2px #000; padding-bottom: 5px\">rsid</div></td><td style=\"white-space: nowrap; max-width: 500px; overflow: hidden; text-overflow: ellipsis; \" colspan=\"1\"><div style=\"text-align: left;border-bottom: solid 2px #000; padding-bottom: 5px\">qual</div></td><td style=\"white-space: nowrap; max-width: 500px; overflow: hidden; text-overflow: ellipsis; \" colspan=\"1\"><div style=\"text-align: left;border-bottom: solid 2px #000; padding-bottom: 5px\">filters</div></td><td style=\"white-space: nowrap; max-width: 500px; overflow: hidden; text-overflow: ellipsis; \" colspan=\"1\"><div style=\"text-align: left;border-bottom: solid 2px #000; padding-bottom: 5px\">info</div></td></tr><tr><td style=\"white-space: nowrap; max-width: 500px; overflow: hidden; text-overflow: ellipsis; text-align: left;\">str</td><td style=\"white-space: nowrap; max-width: 500px; overflow: hidden; text-overflow: ellipsis; text-align: left;\">str</td><td style=\"white-space: nowrap; max-width: 500px; overflow: hidden; text-overflow: ellipsis; text-align: left;\">str</td><td style=\"white-space: nowrap; max-width: 500px; overflow: hidden; text-overflow: ellipsis; text-align: left;\">str</td><td style=\"white-space: nowrap; max-width: 500px; overflow: hidden; text-overflow: ellipsis; text-align: left;\">str</td><td style=\"white-space: nowrap; max-width: 500px; overflow: hidden; text-overflow: ellipsis; text-align: left;\">str</td></tr>\n",
       "</thead><tbody><tr><td style=\"white-space: nowrap; max-width: 500px; overflow: hidden; text-overflow: ellipsis; \">&quot;chr1:28150681&quot;</td><td style=\"white-space: nowrap; max-width: 500px; overflow: hidden; text-overflow: ellipsis; \">&quot;[&quot;T&quot;,&quot;C&quot;]&quot;</td><td style=\"white-space: nowrap; max-width: 500px; overflow: hidden; text-overflow: ellipsis; \">&quot;chr1_28150681_T_C&quot;</td><td style=\"white-space: nowrap; max-width: 500px; overflow: hidden; text-overflow: ellipsis; \">&quot;4.7000e+01&quot;</td><td style=\"white-space: nowrap; max-width: 500px; overflow: hidden; text-overflow: ellipsis; \">NA</td><td style=\"white-space: nowrap; max-width: 500px; overflow: hidden; text-overflow: ellipsis; \">&quot;{&quot;AF&quot;:[0.002562],&quot;AQ&quot;:[47],&quot;AC&quot;:null,&quot;AN&quot;:null}&quot;</td></tr>\n",
       "<tr><td style=\"white-space: nowrap; max-width: 500px; overflow: hidden; text-overflow: ellipsis; \">&quot;chr1:67206980&quot;</td><td style=\"white-space: nowrap; max-width: 500px; overflow: hidden; text-overflow: ellipsis; \">&quot;[&quot;T&quot;,&quot;C&quot;]&quot;</td><td style=\"white-space: nowrap; max-width: 500px; overflow: hidden; text-overflow: ellipsis; \">&quot;chr1_67206980_T_C&quot;</td><td style=\"white-space: nowrap; max-width: 500px; overflow: hidden; text-overflow: ellipsis; \">&quot;5.3000e+01&quot;</td><td style=\"white-space: nowrap; max-width: 500px; overflow: hidden; text-overflow: ellipsis; \">NA</td><td style=\"white-space: nowrap; max-width: 500px; overflow: hidden; text-overflow: ellipsis; \">&quot;{&quot;AF&quot;:[0.007449],&quot;AQ&quot;:[53],&quot;AC&quot;:null,&quot;AN&quot;:null}&quot;</td></tr>\n",
       "<tr><td style=\"white-space: nowrap; max-width: 500px; overflow: hidden; text-overflow: ellipsis; \">&quot;chr1:67240217&quot;</td><td style=\"white-space: nowrap; max-width: 500px; overflow: hidden; text-overflow: ellipsis; \">&quot;[&quot;G&quot;,&quot;A&quot;,&quot;T&quot;]&quot;</td><td style=\"white-space: nowrap; max-width: 500px; overflow: hidden; text-overflow: ellipsis; \">&quot;chr1_67240217_G_A;chr1_67240217_G_T&quot;</td><td style=\"white-space: nowrap; max-width: 500px; overflow: hidden; text-overflow: ellipsis; \">&quot;5.6000e+01&quot;</td><td style=\"white-space: nowrap; max-width: 500px; overflow: hidden; text-overflow: ellipsis; \">NA</td><td style=\"white-space: nowrap; max-width: 500px; overflow: hidden; text-overflow: ellipsis; \">&quot;{&quot;AF&quot;:[0.01314,2.0E-6],&quot;AQ&quot;:[56,36],&quot;AC&quot;:null,&quot;AN&quot;:null}&quot;</td></tr>\n",
       "<tr><td style=\"white-space: nowrap; max-width: 500px; overflow: hidden; text-overflow: ellipsis; \">&quot;chr1:67240275&quot;</td><td style=\"white-space: nowrap; max-width: 500px; overflow: hidden; text-overflow: ellipsis; \">&quot;[&quot;G&quot;,&quot;A&quot;]&quot;</td><td style=\"white-space: nowrap; max-width: 500px; overflow: hidden; text-overflow: ellipsis; \">&quot;chr1_67240275_G_A&quot;</td><td style=\"white-space: nowrap; max-width: 500px; overflow: hidden; text-overflow: ellipsis; \">&quot;5.3000e+01&quot;</td><td style=\"white-space: nowrap; max-width: 500px; overflow: hidden; text-overflow: ellipsis; \">NA</td><td style=\"white-space: nowrap; max-width: 500px; overflow: hidden; text-overflow: ellipsis; \">&quot;{&quot;AF&quot;:[0.063558],&quot;AQ&quot;:[53],&quot;AC&quot;:null,&quot;AN&quot;:null}&quot;</td></tr>\n",
       "<tr><td style=\"white-space: nowrap; max-width: 500px; overflow: hidden; text-overflow: ellipsis; \">&quot;chr2:233263166&quot;</td><td style=\"white-space: nowrap; max-width: 500px; overflow: hidden; text-overflow: ellipsis; \">&quot;[&quot;A&quot;,&quot;G&quot;]&quot;</td><td style=\"white-space: nowrap; max-width: 500px; overflow: hidden; text-overflow: ellipsis; \">&quot;chr2_233263166_A_G&quot;</td><td style=\"white-space: nowrap; max-width: 500px; overflow: hidden; text-overflow: ellipsis; \">&quot;5.2000e+01&quot;</td><td style=\"white-space: nowrap; max-width: 500px; overflow: hidden; text-overflow: ellipsis; \">NA</td><td style=\"white-space: nowrap; max-width: 500px; overflow: hidden; text-overflow: ellipsis; \">&quot;{&quot;AF&quot;:[0.051622],&quot;AQ&quot;:[52],&quot;AC&quot;:null,&quot;AN&quot;:null}&quot;</td></tr>\n",
       "<tr><td style=\"white-space: nowrap; max-width: 500px; overflow: hidden; text-overflow: ellipsis; \">&quot;chr2:233320674&quot;</td><td style=\"white-space: nowrap; max-width: 500px; overflow: hidden; text-overflow: ellipsis; \">&quot;[&quot;A&quot;,&quot;G&quot;]&quot;</td><td style=\"white-space: nowrap; max-width: 500px; overflow: hidden; text-overflow: ellipsis; \">&quot;chr2_233320674_A_G&quot;</td><td style=\"white-space: nowrap; max-width: 500px; overflow: hidden; text-overflow: ellipsis; \">&quot;5.9000e+01&quot;</td><td style=\"white-space: nowrap; max-width: 500px; overflow: hidden; text-overflow: ellipsis; \">NA</td><td style=\"white-space: nowrap; max-width: 500px; overflow: hidden; text-overflow: ellipsis; \">&quot;{&quot;AF&quot;:[0.052015],&quot;AQ&quot;:[59],&quot;AC&quot;:null,&quot;AN&quot;:null}&quot;</td></tr>\n",
       "<tr><td style=\"white-space: nowrap; max-width: 500px; overflow: hidden; text-overflow: ellipsis; \">&quot;chr2:233527418&quot;</td><td style=\"white-space: nowrap; max-width: 500px; overflow: hidden; text-overflow: ellipsis; \">&quot;[&quot;ACTGCC&quot;,&quot;A&quot;]&quot;</td><td style=\"white-space: nowrap; max-width: 500px; overflow: hidden; text-overflow: ellipsis; \">&quot;chr2_233527418_ACTGCC_A&quot;</td><td style=\"white-space: nowrap; max-width: 500px; overflow: hidden; text-overflow: ellipsis; \">&quot;5.1000e+01&quot;</td><td style=\"white-space: nowrap; max-width: 500px; overflow: hidden; text-overflow: ellipsis; \">&quot;[&quot;MONOALLELIC&quot;]&quot;</td><td style=\"white-space: nowrap; max-width: 500px; overflow: hidden; text-overflow: ellipsis; \">&quot;{&quot;AF&quot;:[2.0E-6],&quot;AQ&quot;:[51],&quot;AC&quot;:null,&quot;AN&quot;:null}&quot;</td></tr>\n",
       "<tr><td style=\"white-space: nowrap; max-width: 500px; overflow: hidden; text-overflow: ellipsis; \">&quot;chr2:233527423&quot;</td><td style=\"white-space: nowrap; max-width: 500px; overflow: hidden; text-overflow: ellipsis; \">&quot;[&quot;C&quot;,&quot;T&quot;]&quot;</td><td style=\"white-space: nowrap; max-width: 500px; overflow: hidden; text-overflow: ellipsis; \">&quot;chr2_233527423_C_T&quot;</td><td style=\"white-space: nowrap; max-width: 500px; overflow: hidden; text-overflow: ellipsis; \">&quot;5.8000e+01&quot;</td><td style=\"white-space: nowrap; max-width: 500px; overflow: hidden; text-overflow: ellipsis; \">NA</td><td style=\"white-space: nowrap; max-width: 500px; overflow: hidden; text-overflow: ellipsis; \">&quot;{&quot;AF&quot;:[0.046869],&quot;AQ&quot;:[58],&quot;AC&quot;:null,&quot;AN&quot;:null}&quot;</td></tr>\n",
       "<tr><td style=\"white-space: nowrap; max-width: 500px; overflow: hidden; text-overflow: ellipsis; \">&quot;chr4:3447925&quot;</td><td style=\"white-space: nowrap; max-width: 500px; overflow: hidden; text-overflow: ellipsis; \">&quot;[&quot;G&quot;,&quot;A&quot;,&quot;T&quot;]&quot;</td><td style=\"white-space: nowrap; max-width: 500px; overflow: hidden; text-overflow: ellipsis; \">&quot;chr4_3447925_G_A;chr4_3447925_G_T&quot;</td><td style=\"white-space: nowrap; max-width: 500px; overflow: hidden; text-overflow: ellipsis; \">&quot;5.3000e+01&quot;</td><td style=\"white-space: nowrap; max-width: 500px; overflow: hidden; text-overflow: ellipsis; \">NA</td><td style=\"white-space: nowrap; max-width: 500px; overflow: hidden; text-overflow: ellipsis; \">&quot;{&quot;AF&quot;:[0.065487,2.7E-5],&quot;AQ&quot;:[53,39],&quot;AC&quot;:null,&quot;AN&quot;:null}&quot;</td></tr>\n",
       "<tr><td style=\"white-space: nowrap; max-width: 500px; overflow: hidden; text-overflow: ellipsis; \">&quot;chr4:94573345&quot;</td><td style=\"white-space: nowrap; max-width: 500px; overflow: hidden; text-overflow: ellipsis; \">&quot;[&quot;C&quot;,&quot;T&quot;]&quot;</td><td style=\"white-space: nowrap; max-width: 500px; overflow: hidden; text-overflow: ellipsis; \">&quot;chr4_94573345_C_T&quot;</td><td style=\"white-space: nowrap; max-width: 500px; overflow: hidden; text-overflow: ellipsis; \">&quot;4.9000e+01&quot;</td><td style=\"white-space: nowrap; max-width: 500px; overflow: hidden; text-overflow: ellipsis; \">NA</td><td style=\"white-space: nowrap; max-width: 500px; overflow: hidden; text-overflow: ellipsis; \">&quot;{&quot;AF&quot;:[0.002955],&quot;AQ&quot;:[49],&quot;AC&quot;:null,&quot;AN&quot;:null}&quot;</td></tr>\n",
       "</tbody></table><p style=\"background: #fdd; padding: 0.4em;\">showing top 10 rows</p>\n"
      ],
      "text/plain": [
       "+------------------+------------------+---------------------------------------+--------------+-------------------+\n",
       "| locus            | alleles          | rsid                                  | qual         | filters           |\n",
       "+------------------+------------------+---------------------------------------+--------------+-------------------+\n",
       "| str              | str              | str                                   | str          | str               |\n",
       "+------------------+------------------+---------------------------------------+--------------+-------------------+\n",
       "| \"chr1:28150681\"  | \"[\"T\",\"C\"]\"      | \"chr1_28150681_T_C\"                   | \"4.7000e+01\" | NA                |\n",
       "| \"chr1:67206980\"  | \"[\"T\",\"C\"]\"      | \"chr1_67206980_T_C\"                   | \"5.3000e+01\" | NA                |\n",
       "| \"chr1:67240217\"  | \"[\"G\",\"A\",\"T\"]\"  | \"chr1_67240217_G_A;chr1_67240217_G_T\" | \"5.6000e+01\" | NA                |\n",
       "| \"chr1:67240275\"  | \"[\"G\",\"A\"]\"      | \"chr1_67240275_G_A\"                   | \"5.3000e+01\" | NA                |\n",
       "| \"chr2:233263166\" | \"[\"A\",\"G\"]\"      | \"chr2_233263166_A_G\"                  | \"5.2000e+01\" | NA                |\n",
       "| \"chr2:233320674\" | \"[\"A\",\"G\"]\"      | \"chr2_233320674_A_G\"                  | \"5.9000e+01\" | NA                |\n",
       "| \"chr2:233527418\" | \"[\"ACTGCC\",\"A\"]\" | \"chr2_233527418_ACTGCC_A\"             | \"5.1000e+01\" | \"[\"MONOALLELIC\"]\" |\n",
       "| \"chr2:233527423\" | \"[\"C\",\"T\"]\"      | \"chr2_233527423_C_T\"                  | \"5.8000e+01\" | NA                |\n",
       "| \"chr4:3447925\"   | \"[\"G\",\"A\",\"T\"]\"  | \"chr4_3447925_G_A;chr4_3447925_G_T\"   | \"5.3000e+01\" | NA                |\n",
       "| \"chr4:94573345\"  | \"[\"C\",\"T\"]\"      | \"chr4_94573345_C_T\"                   | \"4.9000e+01\" | NA                |\n",
       "+------------------+------------------+---------------------------------------+--------------+-------------------+\n",
       "\n",
       "+------------------------------------------+\n",
       "| info                                     |\n",
       "+------------------------------------------+\n",
       "| str                                      |\n",
       "+------------------------------------------+\n",
       "| \"{\"AF\":[0.002562],\"AQ\":[47],\"AC\":null... |\n",
       "| \"{\"AF\":[0.007449],\"AQ\":[53],\"AC\":null... |\n",
       "| \"{\"AF\":[0.01314,2.0E-6],\"AQ\":[56,36],... |\n",
       "| \"{\"AF\":[0.063558],\"AQ\":[53],\"AC\":null... |\n",
       "| \"{\"AF\":[0.051622],\"AQ\":[52],\"AC\":null... |\n",
       "| \"{\"AF\":[0.052015],\"AQ\":[59],\"AC\":null... |\n",
       "| \"{\"AF\":[2.0E-6],\"AQ\":[51],\"AC\":null,\"... |\n",
       "| \"{\"AF\":[0.046869],\"AQ\":[58],\"AC\":null... |\n",
       "| \"{\"AF\":[0.065487,2.7E-5],\"AQ\":[53,39]... |\n",
       "| \"{\"AF\":[0.002955],\"AQ\":[49],\"AC\":null... |\n",
       "+------------------------------------------+\n",
       "showing top 10 rows"
      ]
     },
     "metadata": {},
     "output_type": "display_data"
    }
   ],
   "source": [
    "ukb_hits.show()"
   ]
  },
  {
   "cell_type": "code",
   "execution_count": 11,
   "id": "e7aaebf3",
   "metadata": {},
   "outputs": [
    {
     "data": {
      "text/html": [
       "<table><thead><tr><td style=\"white-space: nowrap; max-width: 500px; overflow: hidden; text-overflow: ellipsis; \" colspan=\"1\"><div style=\"text-align: left;\"></div></td><td style=\"white-space: nowrap; max-width: 500px; overflow: hidden; text-overflow: ellipsis; \" colspan=\"1\"><div style=\"text-align: left;\"></div></td><td style=\"white-space: nowrap; max-width: 500px; overflow: hidden; text-overflow: ellipsis; \" colspan=\"1\"><div style=\"text-align: left;\"></div></td><td style=\"white-space: nowrap; max-width: 500px; overflow: hidden; text-overflow: ellipsis; \" colspan=\"1\"><div style=\"text-align: left;\"></div></td><td style=\"white-space: nowrap; max-width: 500px; overflow: hidden; text-overflow: ellipsis; \" colspan=\"1\"><div style=\"text-align: left;\"></div></td><td style=\"white-space: nowrap; max-width: 500px; overflow: hidden; text-overflow: ellipsis; \" colspan=\"1\"><div style=\"text-align: left;\"></div></td></tr><tr><td style=\"white-space: nowrap; max-width: 500px; overflow: hidden; text-overflow: ellipsis; \" colspan=\"1\"><div style=\"text-align: left;border-bottom: solid 2px #000; padding-bottom: 5px\">locus</div></td><td style=\"white-space: nowrap; max-width: 500px; overflow: hidden; text-overflow: ellipsis; \" colspan=\"1\"><div style=\"text-align: left;border-bottom: solid 2px #000; padding-bottom: 5px\">alleles</div></td><td style=\"white-space: nowrap; max-width: 500px; overflow: hidden; text-overflow: ellipsis; \" colspan=\"1\"><div style=\"text-align: left;border-bottom: solid 2px #000; padding-bottom: 5px\">rsid</div></td><td style=\"white-space: nowrap; max-width: 500px; overflow: hidden; text-overflow: ellipsis; \" colspan=\"1\"><div style=\"text-align: left;border-bottom: solid 2px #000; padding-bottom: 5px\">qual</div></td><td style=\"white-space: nowrap; max-width: 500px; overflow: hidden; text-overflow: ellipsis; \" colspan=\"1\"><div style=\"text-align: left;border-bottom: solid 2px #000; padding-bottom: 5px\">filters</div></td><td style=\"white-space: nowrap; max-width: 500px; overflow: hidden; text-overflow: ellipsis; \" colspan=\"1\"><div style=\"text-align: left;border-bottom: solid 2px #000; padding-bottom: 5px\">info</div></td></tr><tr><td style=\"white-space: nowrap; max-width: 500px; overflow: hidden; text-overflow: ellipsis; text-align: left;\">str</td><td style=\"white-space: nowrap; max-width: 500px; overflow: hidden; text-overflow: ellipsis; text-align: left;\">str</td><td style=\"white-space: nowrap; max-width: 500px; overflow: hidden; text-overflow: ellipsis; text-align: left;\">str</td><td style=\"white-space: nowrap; max-width: 500px; overflow: hidden; text-overflow: ellipsis; text-align: left;\">str</td><td style=\"white-space: nowrap; max-width: 500px; overflow: hidden; text-overflow: ellipsis; text-align: left;\">str</td><td style=\"white-space: nowrap; max-width: 500px; overflow: hidden; text-overflow: ellipsis; text-align: left;\">str</td></tr>\n",
       "</thead><tbody><tr><td style=\"white-space: nowrap; max-width: 500px; overflow: hidden; text-overflow: ellipsis; \">&quot;chr1:28150681&quot;</td><td style=\"white-space: nowrap; max-width: 500px; overflow: hidden; text-overflow: ellipsis; \">&quot;[&quot;T&quot;,&quot;C&quot;]&quot;</td><td style=\"white-space: nowrap; max-width: 500px; overflow: hidden; text-overflow: ellipsis; \">&quot;chr1_28150681_T_C&quot;</td><td style=\"white-space: nowrap; max-width: 500px; overflow: hidden; text-overflow: ellipsis; \">&quot;5.1000e+01&quot;</td><td style=\"white-space: nowrap; max-width: 500px; overflow: hidden; text-overflow: ellipsis; \">NA</td><td style=\"white-space: nowrap; max-width: 500px; overflow: hidden; text-overflow: ellipsis; \">&quot;{&quot;AF&quot;:[0.003541],&quot;AQ&quot;:[51],&quot;AC&quot;:null,&quot;AN&quot;:null}&quot;</td></tr>\n",
       "<tr><td style=\"white-space: nowrap; max-width: 500px; overflow: hidden; text-overflow: ellipsis; \">&quot;chr1:67206980&quot;</td><td style=\"white-space: nowrap; max-width: 500px; overflow: hidden; text-overflow: ellipsis; \">&quot;[&quot;T&quot;,&quot;C&quot;]&quot;</td><td style=\"white-space: nowrap; max-width: 500px; overflow: hidden; text-overflow: ellipsis; \">&quot;chr1_67206980_T_C&quot;</td><td style=\"white-space: nowrap; max-width: 500px; overflow: hidden; text-overflow: ellipsis; \">&quot;5.5000e+01&quot;</td><td style=\"white-space: nowrap; max-width: 500px; overflow: hidden; text-overflow: ellipsis; \">NA</td><td style=\"white-space: nowrap; max-width: 500px; overflow: hidden; text-overflow: ellipsis; \">&quot;{&quot;AF&quot;:[0.008526],&quot;AQ&quot;:[55],&quot;AC&quot;:null,&quot;AN&quot;:null}&quot;</td></tr>\n",
       "<tr><td style=\"white-space: nowrap; max-width: 500px; overflow: hidden; text-overflow: ellipsis; \">&quot;chr1:67240217&quot;</td><td style=\"white-space: nowrap; max-width: 500px; overflow: hidden; text-overflow: ellipsis; \">&quot;[&quot;G&quot;,&quot;A&quot;]&quot;</td><td style=\"white-space: nowrap; max-width: 500px; overflow: hidden; text-overflow: ellipsis; \">&quot;chr1_67240217_G_A&quot;</td><td style=\"white-space: nowrap; max-width: 500px; overflow: hidden; text-overflow: ellipsis; \">&quot;5.9000e+01&quot;</td><td style=\"white-space: nowrap; max-width: 500px; overflow: hidden; text-overflow: ellipsis; \">NA</td><td style=\"white-space: nowrap; max-width: 500px; overflow: hidden; text-overflow: ellipsis; \">&quot;{&quot;AF&quot;:[0.009294],&quot;AQ&quot;:[59],&quot;AC&quot;:null,&quot;AN&quot;:null}&quot;</td></tr>\n",
       "<tr><td style=\"white-space: nowrap; max-width: 500px; overflow: hidden; text-overflow: ellipsis; \">&quot;chr1:67240275&quot;</td><td style=\"white-space: nowrap; max-width: 500px; overflow: hidden; text-overflow: ellipsis; \">&quot;[&quot;G&quot;,&quot;A&quot;,&quot;T&quot;]&quot;</td><td style=\"white-space: nowrap; max-width: 500px; overflow: hidden; text-overflow: ellipsis; \">&quot;chr1_67240275_G_A;chr1_67240275_G_T&quot;</td><td style=\"white-space: nowrap; max-width: 500px; overflow: hidden; text-overflow: ellipsis; \">&quot;5.7000e+01&quot;</td><td style=\"white-space: nowrap; max-width: 500px; overflow: hidden; text-overflow: ellipsis; \">NA</td><td style=\"white-space: nowrap; max-width: 500px; overflow: hidden; text-overflow: ellipsis; \">&quot;{&quot;AF&quot;:[0.032075,1.4E-4],&quot;AQ&quot;:[57,32],&quot;AC&quot;:null,&quot;AN&quot;:null}&quot;</td></tr>\n",
       "<tr><td style=\"white-space: nowrap; max-width: 500px; overflow: hidden; text-overflow: ellipsis; \">&quot;chr2:233263166&quot;</td><td style=\"white-space: nowrap; max-width: 500px; overflow: hidden; text-overflow: ellipsis; \">&quot;[&quot;A&quot;,&quot;G&quot;]&quot;</td><td style=\"white-space: nowrap; max-width: 500px; overflow: hidden; text-overflow: ellipsis; \">&quot;chr2_233263166_A_G&quot;</td><td style=\"white-space: nowrap; max-width: 500px; overflow: hidden; text-overflow: ellipsis; \">&quot;5.6000e+01&quot;</td><td style=\"white-space: nowrap; max-width: 500px; overflow: hidden; text-overflow: ellipsis; \">NA</td><td style=\"white-space: nowrap; max-width: 500px; overflow: hidden; text-overflow: ellipsis; \">&quot;{&quot;AF&quot;:[0.05488],&quot;AQ&quot;:[56],&quot;AC&quot;:null,&quot;AN&quot;:null}&quot;</td></tr>\n",
       "<tr><td style=\"white-space: nowrap; max-width: 500px; overflow: hidden; text-overflow: ellipsis; \">&quot;chr2:233320674&quot;</td><td style=\"white-space: nowrap; max-width: 500px; overflow: hidden; text-overflow: ellipsis; \">&quot;[&quot;A&quot;,&quot;G&quot;]&quot;</td><td style=\"white-space: nowrap; max-width: 500px; overflow: hidden; text-overflow: ellipsis; \">&quot;chr2_233320674_A_G&quot;</td><td style=\"white-space: nowrap; max-width: 500px; overflow: hidden; text-overflow: ellipsis; \">&quot;6.4000e+01&quot;</td><td style=\"white-space: nowrap; max-width: 500px; overflow: hidden; text-overflow: ellipsis; \">NA</td><td style=\"white-space: nowrap; max-width: 500px; overflow: hidden; text-overflow: ellipsis; \">&quot;{&quot;AF&quot;:[0.049266],&quot;AQ&quot;:[64],&quot;AC&quot;:null,&quot;AN&quot;:null}&quot;</td></tr>\n",
       "<tr><td style=\"white-space: nowrap; max-width: 500px; overflow: hidden; text-overflow: ellipsis; \">&quot;chr2:233527423&quot;</td><td style=\"white-space: nowrap; max-width: 500px; overflow: hidden; text-overflow: ellipsis; \">&quot;[&quot;C&quot;,&quot;T&quot;]&quot;</td><td style=\"white-space: nowrap; max-width: 500px; overflow: hidden; text-overflow: ellipsis; \">&quot;chr2_233527423_C_T&quot;</td><td style=\"white-space: nowrap; max-width: 500px; overflow: hidden; text-overflow: ellipsis; \">&quot;6.1000e+01&quot;</td><td style=\"white-space: nowrap; max-width: 500px; overflow: hidden; text-overflow: ellipsis; \">NA</td><td style=\"white-space: nowrap; max-width: 500px; overflow: hidden; text-overflow: ellipsis; \">&quot;{&quot;AF&quot;:[0.043396],&quot;AQ&quot;:[61],&quot;AC&quot;:null,&quot;AN&quot;:null}&quot;</td></tr>\n",
       "<tr><td style=\"white-space: nowrap; max-width: 500px; overflow: hidden; text-overflow: ellipsis; \">&quot;chr4:3447925&quot;</td><td style=\"white-space: nowrap; max-width: 500px; overflow: hidden; text-overflow: ellipsis; \">&quot;[&quot;G&quot;,&quot;A&quot;]&quot;</td><td style=\"white-space: nowrap; max-width: 500px; overflow: hidden; text-overflow: ellipsis; \">&quot;chr4_3447925_G_A&quot;</td><td style=\"white-space: nowrap; max-width: 500px; overflow: hidden; text-overflow: ellipsis; \">&quot;5.8000e+01&quot;</td><td style=\"white-space: nowrap; max-width: 500px; overflow: hidden; text-overflow: ellipsis; \">NA</td><td style=\"white-space: nowrap; max-width: 500px; overflow: hidden; text-overflow: ellipsis; \">&quot;{&quot;AF&quot;:[0.07652],&quot;AQ&quot;:[58],&quot;AC&quot;:null,&quot;AN&quot;:null}&quot;</td></tr>\n",
       "<tr><td style=\"white-space: nowrap; max-width: 500px; overflow: hidden; text-overflow: ellipsis; \">&quot;chr4:94573345&quot;</td><td style=\"white-space: nowrap; max-width: 500px; overflow: hidden; text-overflow: ellipsis; \">&quot;[&quot;C&quot;,&quot;T&quot;]&quot;</td><td style=\"white-space: nowrap; max-width: 500px; overflow: hidden; text-overflow: ellipsis; \">&quot;chr4_94573345_C_T&quot;</td><td style=\"white-space: nowrap; max-width: 500px; overflow: hidden; text-overflow: ellipsis; \">&quot;5.5000e+01&quot;</td><td style=\"white-space: nowrap; max-width: 500px; overflow: hidden; text-overflow: ellipsis; \">NA</td><td style=\"white-space: nowrap; max-width: 500px; overflow: hidden; text-overflow: ellipsis; \">&quot;{&quot;AF&quot;:[0.003005],&quot;AQ&quot;:[55],&quot;AC&quot;:null,&quot;AN&quot;:null}&quot;</td></tr>\n",
       "<tr><td style=\"white-space: nowrap; max-width: 500px; overflow: hidden; text-overflow: ellipsis; \">&quot;chr4:102267552&quot;</td><td style=\"white-space: nowrap; max-width: 500px; overflow: hidden; text-overflow: ellipsis; \">&quot;[&quot;C&quot;,&quot;T&quot;]&quot;</td><td style=\"white-space: nowrap; max-width: 500px; overflow: hidden; text-overflow: ellipsis; \">&quot;chr4_102267552_C_T&quot;</td><td style=\"white-space: nowrap; max-width: 500px; overflow: hidden; text-overflow: ellipsis; \">&quot;6.4000e+01&quot;</td><td style=\"white-space: nowrap; max-width: 500px; overflow: hidden; text-overflow: ellipsis; \">NA</td><td style=\"white-space: nowrap; max-width: 500px; overflow: hidden; text-overflow: ellipsis; \">&quot;{&quot;AF&quot;:[0.081318],&quot;AQ&quot;:[64],&quot;AC&quot;:null,&quot;AN&quot;:null}&quot;</td></tr>\n",
       "</tbody></table><p style=\"background: #fdd; padding: 0.4em;\">showing top 10 rows</p>\n"
      ],
      "text/plain": [
       "+------------------+-----------------+---------------------------------------+--------------+---------+\n",
       "| locus            | alleles         | rsid                                  | qual         | filters |\n",
       "+------------------+-----------------+---------------------------------------+--------------+---------+\n",
       "| str              | str             | str                                   | str          | str     |\n",
       "+------------------+-----------------+---------------------------------------+--------------+---------+\n",
       "| \"chr1:28150681\"  | \"[\"T\",\"C\"]\"     | \"chr1_28150681_T_C\"                   | \"5.1000e+01\" | NA      |\n",
       "| \"chr1:67206980\"  | \"[\"T\",\"C\"]\"     | \"chr1_67206980_T_C\"                   | \"5.5000e+01\" | NA      |\n",
       "| \"chr1:67240217\"  | \"[\"G\",\"A\"]\"     | \"chr1_67240217_G_A\"                   | \"5.9000e+01\" | NA      |\n",
       "| \"chr1:67240275\"  | \"[\"G\",\"A\",\"T\"]\" | \"chr1_67240275_G_A;chr1_67240275_G_T\" | \"5.7000e+01\" | NA      |\n",
       "| \"chr2:233263166\" | \"[\"A\",\"G\"]\"     | \"chr2_233263166_A_G\"                  | \"5.6000e+01\" | NA      |\n",
       "| \"chr2:233320674\" | \"[\"A\",\"G\"]\"     | \"chr2_233320674_A_G\"                  | \"6.4000e+01\" | NA      |\n",
       "| \"chr2:233527423\" | \"[\"C\",\"T\"]\"     | \"chr2_233527423_C_T\"                  | \"6.1000e+01\" | NA      |\n",
       "| \"chr4:3447925\"   | \"[\"G\",\"A\"]\"     | \"chr4_3447925_G_A\"                    | \"5.8000e+01\" | NA      |\n",
       "| \"chr4:94573345\"  | \"[\"C\",\"T\"]\"     | \"chr4_94573345_C_T\"                   | \"5.5000e+01\" | NA      |\n",
       "| \"chr4:102267552\" | \"[\"C\",\"T\"]\"     | \"chr4_102267552_C_T\"                  | \"6.4000e+01\" | NA      |\n",
       "+------------------+-----------------+---------------------------------------+--------------+---------+\n",
       "\n",
       "+------------------------------------------+\n",
       "| info                                     |\n",
       "+------------------------------------------+\n",
       "| str                                      |\n",
       "+------------------------------------------+\n",
       "| \"{\"AF\":[0.003541],\"AQ\":[51],\"AC\":null... |\n",
       "| \"{\"AF\":[0.008526],\"AQ\":[55],\"AC\":null... |\n",
       "| \"{\"AF\":[0.009294],\"AQ\":[59],\"AC\":null... |\n",
       "| \"{\"AF\":[0.032075,1.4E-4],\"AQ\":[57,32]... |\n",
       "| \"{\"AF\":[0.05488],\"AQ\":[56],\"AC\":null,... |\n",
       "| \"{\"AF\":[0.049266],\"AQ\":[64],\"AC\":null... |\n",
       "| \"{\"AF\":[0.043396],\"AQ\":[61],\"AC\":null... |\n",
       "| \"{\"AF\":[0.07652],\"AQ\":[58],\"AC\":null,... |\n",
       "| \"{\"AF\":[0.003005],\"AQ\":[55],\"AC\":null... |\n",
       "| \"{\"AF\":[0.081318],\"AQ\":[64],\"AC\":null... |\n",
       "+------------------------------------------+\n",
       "showing top 10 rows"
      ]
     },
     "metadata": {},
     "output_type": "display_data"
    }
   ],
   "source": [
    "ibd_hits.show()"
   ]
  },
  {
   "cell_type": "code",
   "execution_count": 13,
   "id": "207def5c",
   "metadata": {},
   "outputs": [],
   "source": [
    "ukb_hits_locus=ukb_hits.key_by('locus')\n",
    "ibd_hits_locus=ibd_hits.key_by('locus')"
   ]
  },
  {
   "cell_type": "code",
   "execution_count": 19,
   "id": "6455b8da",
   "metadata": {},
   "outputs": [
    {
     "data": {
      "text/plain": [
       "47"
      ]
     },
     "execution_count": 19,
     "metadata": {},
     "output_type": "execute_result"
    }
   ],
   "source": [
    "ukb_hits.count()"
   ]
  },
  {
   "cell_type": "code",
   "execution_count": 20,
   "id": "0c15deb7",
   "metadata": {},
   "outputs": [
    {
     "data": {
      "text/plain": [
       "46"
      ]
     },
     "execution_count": 20,
     "metadata": {},
     "output_type": "execute_result"
    }
   ],
   "source": [
    "ibd_hits.count()"
   ]
  },
  {
   "cell_type": "code",
   "execution_count": 22,
   "id": "9c8e8e13",
   "metadata": {},
   "outputs": [
    {
     "name": "stderr",
     "output_type": "stream",
     "text": [
      "2021-11-08 10:07:27 Hail: INFO: Table.join: renamed the following fields on the right to avoid name conflicts:\n",
      "    'filters' -> 'filters_1'\n",
      "    'info' -> 'info_1'\n",
      "    'locus' -> 'locus_1'\n",
      "    'alleles' -> 'alleles_1'\n",
      "    'rsid' -> 'rsid_1'\n",
      "    'qual' -> 'qual_1'\n"
     ]
    }
   ],
   "source": [
    "left=ukb_hits_locus.key_by('locus').join(ibd_hits_locus.key_by('locus'), 'left')"
   ]
  },
  {
   "cell_type": "code",
   "execution_count": 23,
   "id": "d6cb65bd",
   "metadata": {},
   "outputs": [
    {
     "name": "stderr",
     "output_type": "stream",
     "text": [
      "2021-11-08 10:07:30 Hail: INFO: Ordering unsorted dataset with network shuffle\n",
      "2021-11-08 10:07:30 Hail: INFO: Ordering unsorted dataset with network shuffle\n"
     ]
    },
    {
     "data": {
      "text/plain": [
       "47"
      ]
     },
     "execution_count": 23,
     "metadata": {},
     "output_type": "execute_result"
    }
   ],
   "source": [
    "left.count()"
   ]
  },
  {
   "cell_type": "code",
   "execution_count": 24,
   "id": "0115b34d",
   "metadata": {},
   "outputs": [
    {
     "name": "stderr",
     "output_type": "stream",
     "text": [
      "2021-11-08 10:07:37 Hail: INFO: Ordering unsorted dataset with network shuffle\n",
      "2021-11-08 10:07:37 Hail: INFO: Ordering unsorted dataset with network shuffle\n",
      "2021-11-08 10:07:37 Hail: INFO: merging 1 files totalling 1.8K...\n",
      "2021-11-08 10:07:37 Hail: INFO: while writing:\n",
      "    file:///lustre/scratch123/mdt1/projects/wes_jc_ukb_ibd/hail_merge/ukbb_hits_variants_left_join_ibd.tsv.bgz\n",
      "  merge time: 30.238ms\n"
     ]
    }
   ],
   "source": [
    "left.export(f\"{lustre_dir}/ukbb_hits_variants_left_join_ibd.tsv.bgz\")"
   ]
  },
  {
   "cell_type": "code",
   "execution_count": 33,
   "id": "dd768c5a",
   "metadata": {},
   "outputs": [],
   "source": [
    "ukb_hits_pd=ukb_hits.to_pandas()\n",
    "ibd_hits_pd=ibd_hits.to_pandas()"
   ]
  },
  {
   "cell_type": "code",
   "execution_count": 37,
   "id": "0f16f8aa",
   "metadata": {},
   "outputs": [
    {
     "data": {
      "text/plain": [
       "Index(['locus', 'alleles', 'rsid', 'qual', 'filters', 'info'], dtype='object')"
      ]
     },
     "execution_count": 37,
     "metadata": {},
     "output_type": "execute_result"
    }
   ],
   "source": [
    "ukb_hits_pd.columns"
   ]
  },
  {
   "cell_type": "code",
   "execution_count": 44,
   "id": "63159e55",
   "metadata": {},
   "outputs": [],
   "source": [
    "merged_pd=pd.merge(ukb_hits_pd, ibd_hits_pd, how='outer', on=['locus'], indicator=\"In both or unique\", suffixes=('_ukbb', '_ibd' ))"
   ]
  },
  {
   "cell_type": "code",
   "execution_count": 45,
   "id": "df23ee5a",
   "metadata": {},
   "outputs": [
    {
     "data": {
      "text/html": [
       "<div>\n",
       "<style scoped>\n",
       "    .dataframe tbody tr th:only-of-type {\n",
       "        vertical-align: middle;\n",
       "    }\n",
       "\n",
       "    .dataframe tbody tr th {\n",
       "        vertical-align: top;\n",
       "    }\n",
       "\n",
       "    .dataframe thead th {\n",
       "        text-align: right;\n",
       "    }\n",
       "</style>\n",
       "<table border=\"1\" class=\"dataframe\">\n",
       "  <thead>\n",
       "    <tr style=\"text-align: right;\">\n",
       "      <th></th>\n",
       "      <th>locus</th>\n",
       "      <th>alleles</th>\n",
       "      <th>rsid_ukbb</th>\n",
       "      <th>qual_ukbb</th>\n",
       "      <th>filters_ukbb</th>\n",
       "      <th>info_ukbb</th>\n",
       "      <th>rsid_ibd</th>\n",
       "      <th>qual_ibd</th>\n",
       "      <th>filters_ibd</th>\n",
       "      <th>info_ibd</th>\n",
       "      <th>In both or unique</th>\n",
       "    </tr>\n",
       "  </thead>\n",
       "  <tbody>\n",
       "    <tr>\n",
       "      <th>0</th>\n",
       "      <td>chr1:28150681</td>\n",
       "      <td>[\"T\",\"C\"]</td>\n",
       "      <td>chr1_28150681_T_C</td>\n",
       "      <td>4.7000e+01</td>\n",
       "      <td>None</td>\n",
       "      <td>{\"AF\":[0.002562],\"AQ\":[47],\"AC\":null,\"AN\":null}</td>\n",
       "      <td>chr1_28150681_T_C</td>\n",
       "      <td>5.1000e+01</td>\n",
       "      <td>None</td>\n",
       "      <td>{\"AF\":[0.003541],\"AQ\":[51],\"AC\":null,\"AN\":null}</td>\n",
       "      <td>both</td>\n",
       "    </tr>\n",
       "    <tr>\n",
       "      <th>1</th>\n",
       "      <td>chr1:67206980</td>\n",
       "      <td>[\"T\",\"C\"]</td>\n",
       "      <td>chr1_67206980_T_C</td>\n",
       "      <td>5.3000e+01</td>\n",
       "      <td>None</td>\n",
       "      <td>{\"AF\":[0.007449],\"AQ\":[53],\"AC\":null,\"AN\":null}</td>\n",
       "      <td>chr1_67206980_T_C</td>\n",
       "      <td>5.5000e+01</td>\n",
       "      <td>None</td>\n",
       "      <td>{\"AF\":[0.008526],\"AQ\":[55],\"AC\":null,\"AN\":null}</td>\n",
       "      <td>both</td>\n",
       "    </tr>\n",
       "    <tr>\n",
       "      <th>2</th>\n",
       "      <td>chr1:67240217</td>\n",
       "      <td>[\"G\",\"A\",\"T\"]</td>\n",
       "      <td>chr1_67240217_G_A;chr1_67240217_G_T</td>\n",
       "      <td>5.6000e+01</td>\n",
       "      <td>None</td>\n",
       "      <td>{\"AF\":[0.01314,2.0E-6],\"AQ\":[56,36],\"AC\":null,...</td>\n",
       "      <td>NaN</td>\n",
       "      <td>NaN</td>\n",
       "      <td>NaN</td>\n",
       "      <td>NaN</td>\n",
       "      <td>left_only</td>\n",
       "    </tr>\n",
       "    <tr>\n",
       "      <th>3</th>\n",
       "      <td>chr1:67240275</td>\n",
       "      <td>[\"G\",\"A\"]</td>\n",
       "      <td>chr1_67240275_G_A</td>\n",
       "      <td>5.3000e+01</td>\n",
       "      <td>None</td>\n",
       "      <td>{\"AF\":[0.063558],\"AQ\":[53],\"AC\":null,\"AN\":null}</td>\n",
       "      <td>NaN</td>\n",
       "      <td>NaN</td>\n",
       "      <td>NaN</td>\n",
       "      <td>NaN</td>\n",
       "      <td>left_only</td>\n",
       "    </tr>\n",
       "    <tr>\n",
       "      <th>4</th>\n",
       "      <td>chr2:233263166</td>\n",
       "      <td>[\"A\",\"G\"]</td>\n",
       "      <td>chr2_233263166_A_G</td>\n",
       "      <td>5.2000e+01</td>\n",
       "      <td>None</td>\n",
       "      <td>{\"AF\":[0.051622],\"AQ\":[52],\"AC\":null,\"AN\":null}</td>\n",
       "      <td>chr2_233263166_A_G</td>\n",
       "      <td>5.6000e+01</td>\n",
       "      <td>None</td>\n",
       "      <td>{\"AF\":[0.05488],\"AQ\":[56],\"AC\":null,\"AN\":null}</td>\n",
       "      <td>both</td>\n",
       "    </tr>\n",
       "  </tbody>\n",
       "</table>\n",
       "</div>"
      ],
      "text/plain": [
       "            locus        alleles                            rsid_ukbb  \\\n",
       "0   chr1:28150681      [\"T\",\"C\"]                    chr1_28150681_T_C   \n",
       "1   chr1:67206980      [\"T\",\"C\"]                    chr1_67206980_T_C   \n",
       "2   chr1:67240217  [\"G\",\"A\",\"T\"]  chr1_67240217_G_A;chr1_67240217_G_T   \n",
       "3   chr1:67240275      [\"G\",\"A\"]                    chr1_67240275_G_A   \n",
       "4  chr2:233263166      [\"A\",\"G\"]                   chr2_233263166_A_G   \n",
       "\n",
       "    qual_ukbb filters_ukbb                                          info_ukbb  \\\n",
       "0  4.7000e+01         None    {\"AF\":[0.002562],\"AQ\":[47],\"AC\":null,\"AN\":null}   \n",
       "1  5.3000e+01         None    {\"AF\":[0.007449],\"AQ\":[53],\"AC\":null,\"AN\":null}   \n",
       "2  5.6000e+01         None  {\"AF\":[0.01314,2.0E-6],\"AQ\":[56,36],\"AC\":null,...   \n",
       "3  5.3000e+01         None    {\"AF\":[0.063558],\"AQ\":[53],\"AC\":null,\"AN\":null}   \n",
       "4  5.2000e+01         None    {\"AF\":[0.051622],\"AQ\":[52],\"AC\":null,\"AN\":null}   \n",
       "\n",
       "             rsid_ibd    qual_ibd filters_ibd  \\\n",
       "0   chr1_28150681_T_C  5.1000e+01        None   \n",
       "1   chr1_67206980_T_C  5.5000e+01        None   \n",
       "2                 NaN         NaN         NaN   \n",
       "3                 NaN         NaN         NaN   \n",
       "4  chr2_233263166_A_G  5.6000e+01        None   \n",
       "\n",
       "                                          info_ibd In both or unique  \n",
       "0  {\"AF\":[0.003541],\"AQ\":[51],\"AC\":null,\"AN\":null}              both  \n",
       "1  {\"AF\":[0.008526],\"AQ\":[55],\"AC\":null,\"AN\":null}              both  \n",
       "2                                              NaN         left_only  \n",
       "3                                              NaN         left_only  \n",
       "4   {\"AF\":[0.05488],\"AQ\":[56],\"AC\":null,\"AN\":null}              both  "
      ]
     },
     "execution_count": 45,
     "metadata": {},
     "output_type": "execute_result"
    }
   ],
   "source": [
    "merged_pd.head()"
   ]
  },
  {
   "cell_type": "code",
   "execution_count": 46,
   "id": "723fe63d",
   "metadata": {},
   "outputs": [],
   "source": [
    "merged_pd.to_csv(\"/home/ubuntu/data/scripts/merged.tsv\", sep=\"\\t\",index=False)"
   ]
  },
  {
   "cell_type": "code",
   "execution_count": 47,
   "id": "a67da905",
   "metadata": {},
   "outputs": [],
   "source": [
    "merged_pd_alleles=pd.merge(ukb_hits_pd, ibd_hits_pd, how='outer', on=['locus'], indicator=\"In both or unique\", suffixes=('_ukbb', '_ibd' ))"
   ]
  },
  {
   "cell_type": "code",
   "execution_count": 48,
   "id": "79d0d162",
   "metadata": {},
   "outputs": [],
   "source": [
    "merged_pd_alleles.to_csv(\"/home/ubuntu/data/scripts/merged_alleles.tsv\", sep=\"\\t\",index=False)"
   ]
  },
  {
   "cell_type": "code",
   "execution_count": null,
   "id": "498ee7c5",
   "metadata": {},
   "outputs": [],
   "source": []
  }
 ],
 "metadata": {
  "kernelspec": {
   "display_name": "Python 3",
   "language": "python",
   "name": "python3"
  },
  "language_info": {
   "codemirror_mode": {
    "name": "ipython",
    "version": 3
   },
   "file_extension": ".py",
   "mimetype": "text/x-python",
   "name": "python",
   "nbconvert_exporter": "python",
   "pygments_lexer": "ipython3",
   "version": "3.6.9"
  }
 },
 "nbformat": 4,
 "nbformat_minor": 5
}
